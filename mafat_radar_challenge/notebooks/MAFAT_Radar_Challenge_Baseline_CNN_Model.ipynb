{
 "cells": [
  {
   "cell_type": "markdown",
   "metadata": {
    "colab_type": "text",
    "id": "Pp9FJgl5VfPx"
   },
   "source": [
    "#**MAFAT Radar Challenge - Baseline Model**\n",
    "\n",
    "In this notebook, a Convolutional Neural Network (CNN) baseline model is presented. \n",
    "\n",
    "The model is trained on the training and auxiliary datasets.   \n",
    "In the end, a submission file with predictions for the public test set is being created and downloaded.\n",
    "\n",
    "The raw input for the model is the segments I/Q matrices.   \n",
    "Note that this is a simplistic baseline model. The model should only be used as a boilerplate code to boost development and to accelerate participants' orientation phase. Participants are encouraged to explore different, more creative, approaches, such as data augmentation, unsupervised pre-training/autoencoders, RNNs/transformers, signal processing, feature engineering, transfer learning, etc.   \n",
    "   \n",
    "To learn more about signals, I/Q, Doppler and other terms please go to [Resources](https://competitions.codalab.org/competitions/25389#learn_the_details-resources) on the competition website.    \n",
    "Please read the [Descriptive Statistics notebook](https://colab.research.google.com/drive/11Lzihg2vKIbo4KAIIJxW5CRZIncoWgtL?usp=sharing) to get familiar with the data.\n",
    "   \n",
    "Submissions are evaluated on the area under the Receiver Operating Characteristic Curve ([ROC AUC](https://en.wikipedia.org/wiki/Receiver_operating_characteristic)).   \n",
    "**The baseline model final result on the public test set is:   \n",
    " 0.73 ROC AUC.**\n",
    "\n",
    "[Competition website](https://competitions.codalab.org/competitions/25389)   \n",
    "[MAFAT Challenge homepage](https://mafatchallenge.mod.gov.il/)"
   ]
  },
  {
   "cell_type": "markdown",
   "metadata": {
    "colab_type": "text",
    "id": "6AaZtlvVZ-2T"
   },
   "source": [
    "## **Setup**"
   ]
  },
  {
   "cell_type": "code",
   "execution_count": null,
   "metadata": {
    "colab": {
     "base_uri": "https://localhost:8080/",
     "height": 190
    },
    "colab_type": "code",
    "id": "BTKVzcpr55s7",
    "outputId": "266d747d-4350-4df0-bdb6-c51d35041465"
   },
   "outputs": [
    {
     "name": "stdout",
     "output_type": "stream",
     "text": [
      "Collecting tensorflow-determinism\n",
      "  Downloading https://files.pythonhosted.org/packages/76/56/79d74f25b326d8719753172496abc524980fa67d1d98bb247021376e370a/tensorflow-determinism-0.3.0.tar.gz\n",
      "Building wheels for collected packages: tensorflow-determinism\n",
      "  Building wheel for tensorflow-determinism (setup.py) ... \u001b[?25l\u001b[?25hdone\n",
      "  Created wheel for tensorflow-determinism: filename=tensorflow_determinism-0.3.0-cp36-none-any.whl size=9156 sha256=3ce4a1ef7a9ae093632b16e522d71e514dd8a135660f728dc9a4646bb1462986\n",
      "  Stored in directory: /root/.cache/pip/wheels/66/c3/18/13959a90d3e0d10182a99866d6ff4d0119e9daed6ce014b54c\n",
      "Successfully built tensorflow-determinism\n",
      "Installing collected packages: tensorflow-determinism\n",
      "Successfully installed tensorflow-determinism-0.3.0\n"
     ]
    }
   ],
   "source": [
    "!pip install tensorflow-determinism"
   ]
  },
  {
   "cell_type": "code",
   "execution_count": null,
   "metadata": {
    "colab": {
     "base_uri": "https://localhost:8080/",
     "height": 35
    },
    "colab_type": "code",
    "id": "kSMa29SfVfPy",
    "outputId": "1703f116-0d98-4393-d92a-d7344989a717"
   },
   "outputs": [
    {
     "data": {
      "application/vnd.google.colaboratory.intrinsic": {
       "type": "string"
      },
      "text/plain": [
       "'2.2.0'"
      ]
     },
     "execution_count": 2,
     "metadata": {
      "tags": []
     },
     "output_type": "execute_result"
    }
   ],
   "source": [
    "import os\n",
    "import random\n",
    "import pickle\n",
    "import pandas as pd\n",
    "import matplotlib.pyplot as plt\n",
    "import numpy as np\n",
    "import tensorflow as tf\n",
    "\n",
    "from tensorflow.keras import backend as K\n",
    "from tensorflow.keras.models import Sequential, load_model\n",
    "from tensorflow.keras.layers import Dense, Flatten, Conv2D, MaxPooling2D, Dropout\n",
    "from tensorflow.keras.losses import BinaryCrossentropy\n",
    "from tensorflow.keras.optimizers import Adam\n",
    "from tensorflow.keras.metrics import AUC\n",
    "from sklearn.metrics import roc_auc_score, roc_curve, auc\n",
    "from matplotlib.colors import LinearSegmentedColormap\n",
    "from termcolor import colored\n",
    "\n",
    "# Set seed for reproducibility of results\n",
    "seed_value = 0\n",
    "os.environ['PYTHONHASHSEED']=str(seed_value)\n",
    "os.environ['TF_CUDNN_DETERMINISTIC'] = '1'\n",
    "\n",
    "tf.compat.v1.reset_default_graph()\n",
    "\n",
    "random.seed(seed_value)\n",
    "np.random.seed(seed_value)\n",
    "tf.random.set_seed(seed_value)\n",
    "tf.compat.v1.set_random_seed(seed_value)\n",
    "\n",
    "# Configure a new global `tensorflow` session\n",
    "session_conf = tf.compat.v1.ConfigProto(intra_op_parallelism_threads=1, inter_op_parallelism_threads=1)\n",
    "sess = tf.compat.v1.Session(graph=tf.compat.v1.get_default_graph(), config=session_conf)\n",
    "tf.compat.v1.keras.backend.set_session(sess)\n",
    "\n",
    "tf.__version__"
   ]
  },
  {
   "cell_type": "code",
   "execution_count": null,
   "metadata": {
    "colab": {
     "base_uri": "https://localhost:8080/",
     "height": 124
    },
    "colab_type": "code",
    "id": "U4CQDksDbfl_",
    "outputId": "00b52d23-1c0f-4210-d3ce-42ec99c0fad1"
   },
   "outputs": [
    {
     "name": "stdout",
     "output_type": "stream",
     "text": [
      "Go to this URL in a browser: https://accounts.google.com/o/oauth2/auth?client_id=947318989803-6bn6qk8qdgf4n4g3pfee6491hc0brc4i.apps.googleusercontent.com&redirect_uri=urn%3aietf%3awg%3aoauth%3a2.0%3aoob&response_type=code&scope=email%20https%3a%2f%2fwww.googleapis.com%2fauth%2fdocs.test%20https%3a%2f%2fwww.googleapis.com%2fauth%2fdrive%20https%3a%2f%2fwww.googleapis.com%2fauth%2fdrive.photos.readonly%20https%3a%2f%2fwww.googleapis.com%2fauth%2fpeopleapi.readonly\n",
      "\n",
      "Enter your authorization code:\n",
      "··········\n",
      "Mounted at /content/gdrive/\n"
     ]
    }
   ],
   "source": [
    "from google.colab import drive\n",
    "mount_path = '/content/gdrive/'\n",
    "drive.mount(mount_path)"
   ]
  },
  {
   "cell_type": "code",
   "execution_count": null,
   "metadata": {
    "colab": {
     "base_uri": "https://localhost:8080/",
     "height": 68
    },
    "colab_type": "code",
    "id": "f5ZPU_OAXlFl",
    "outputId": "b8f4c317-5a96-4685-b719-4fafd9969de5"
   },
   "outputs": [
    {
     "name": "stdout",
     "output_type": "stream",
     "text": [
      "Please enter path to competition data files:\n",
      "My Drive/MAFAT Radar Challenge - Can you distinguish between humans and animals in radar tracks?/Data\n",
      "\u001b[32mEverything is setup correctly\u001b[0m\n"
     ]
    }
   ],
   "source": [
    "# Set and test path to competition data files\n",
    "competition_path = 'INSERT HERE'\n",
    "try:\n",
    "  if competition_path == 'INSERT HERE':\n",
    "    print('Please enter path to competition data files:')\n",
    "    competition_path = input()\n",
    "  file_path = 'MAFAT RADAR Challenge - Training Set V1.csv'\n",
    "  with open(f'{mount_path}/{competition_path}/{file_path}') as f:\n",
    "    f.readlines()\n",
    "  print(colored('Everything is setup correctly', color='green'))\n",
    "except:\n",
    "  print(colored('Please mount drive and set competition_path correctly',\n",
    "                color='red'))"
   ]
  },
  {
   "cell_type": "markdown",
   "metadata": {
    "colab_type": "text",
    "id": "TXzT9M3g8BFF"
   },
   "source": [
    "## **Functions**\n",
    "\n",
    "All functions will be used in the \"Training the Model\" section."
   ]
  },
  {
   "cell_type": "markdown",
   "metadata": {
    "colab_type": "text",
    "id": "3wXAsRDv7noG"
   },
   "source": [
    "### **Data loading**"
   ]
  },
  {
   "cell_type": "code",
   "execution_count": null,
   "metadata": {
    "colab": {},
    "colab_type": "code",
    "id": "XUyOVa6OVfP3"
   },
   "outputs": [],
   "source": [
    "# Functions for loading the data\n",
    "def load_data(file_path):\n",
    "  \"\"\"\n",
    "  Reads all data files (metadata and signal matrix data) as python dictionary,\n",
    "  the pkl and csv files must have the same file name.\n",
    "\n",
    "  Arguments:\n",
    "    file_path -- {str} -- path to the iq_matrix file and metadata file\n",
    "\n",
    "  Returns:\n",
    "    Python dictionary\n",
    "  \"\"\"\n",
    "  pkl = load_pkl_data(file_path)\n",
    "  meta = load_csv_metadata(file_path)\n",
    "  data_dictionary = {**meta, **pkl}\n",
    "  \n",
    "  for key in data_dictionary.keys():\n",
    "    data_dictionary[key] = np.array(data_dictionary[key])\n",
    "\n",
    "  return data_dictionary\n",
    "\n",
    "\n",
    "def load_pkl_data(file_path):\n",
    "  \"\"\"\n",
    "  Reads pickle file as a python dictionary (only Signal data).\n",
    "\n",
    "  Arguments:\n",
    "    file_path -- {str} -- path to pickle iq_matrix file\n",
    "\n",
    "  Returns:\n",
    "    Python dictionary\n",
    "  \"\"\"\n",
    "  path = os.path.join(mount_path, competition_path, file_path + '.pkl')\n",
    "  with open(path, 'rb') as data:\n",
    "    output = pickle.load(data)\n",
    "  return output\n",
    "\n",
    "\n",
    "def load_csv_metadata(file_path):\n",
    "  \"\"\"\n",
    "  Reads csv as pandas DataFrame (only Metadata).\n",
    "\n",
    "  Arguments:\n",
    "    file_path -- {str} -- path to csv metadata file\n",
    "\n",
    "  Returns:\n",
    "    Pandas DataFarme\n",
    "  \"\"\"\n",
    "  path = os.path.join(mount_path, competition_path, file_path + '.csv')\n",
    "  with open(path, 'rb') as data:\n",
    "    output = pd.read_csv(data)\n",
    "  return output"
   ]
  },
  {
   "cell_type": "markdown",
   "metadata": {
    "colab_type": "text",
    "id": "D1xzWMMFVfP2"
   },
   "source": [
    "## **Data Preprocessing**\n",
    "**The preprocessing main steps:**   \n",
    "1. Applying [DFT](https://en.wikipedia.org/wiki/Discrete_Fourier_transform) (Discrete Fourier transform) by using the fast Fourier transform algorithm ([FFT](https://en.wikipedia.org/wiki/Fast_Fourier_transform)) and [Hann function](https://www.mathworks.com/help/signal/ref/hann.html) to smooth the I/Q matrix. Afterward, calculating the absolute value of the I/Q matrix complex numbers.   \n",
    "More information about Windowing and Hann function:   \n",
    "[Wikipedia Hann](https://en.wikipedia.org/wiki/Hann_function#:~:text=The%20Hann%20function%20of%20length,can%20be%20even%20or%20odd.)   \n",
    "[Wikipedia Window function](https://en.wikipedia.org/wiki/Window_function)   \n",
    "2. Set max value on the center of the target's mass.   \n",
    "The doppler burst is a vector (1 x 32) that marks the center of the target's mass on each I/Q matrix in every time unit (32 time-units).   \n",
    "The preprocess sets the maximum value of each I/Q matrix in-place of the values at the center of the target's mass.\n",
    "3. Normalization - Transforming I/Q matrix values to standardized values.   \n",
    "Subtraction of the mean and division by the standard deviation.\n",
    "\n",
    "**Preprocessing main steps explained:**   \n",
    "The DFT converts a signal from its original domain (often time or space) to a representation in the frequency domain and vice versa.   \n",
    "The I/Q matrix in this challenge is being converted from the velocity domain to the frequency domain.\n",
    "Windows (like \"Hann\") are used to reduce spectral leakage when performing a Fourier Transform on time data and converting it into the frequency domain.\n",
    "\n",
    "The purpose of switching the values of the center of the target's mass in the I/Q matrix with the max value of the matrix is to enhance this part of the matrix and focus the model on this part.\n",
    "\n",
    "\n",
    "Finally, the normalization is used for scaling all the I/Q matrices.\n",
    "\n",
    "* *Note: the target_type lables are strings (\"human\" and \"animal\"), the data_preprocess function replaces them to \"human\" = 1 and \"animal\" = 0.*"
   ]
  },
  {
   "cell_type": "code",
   "execution_count": null,
   "metadata": {
    "colab": {},
    "colab_type": "code",
    "id": "ySJCkwAe76KB"
   },
   "outputs": [],
   "source": [
    "# Functions for preprocessing and preprocess function\n",
    "def fft(iq, axis=0):\n",
    "  \"\"\"\n",
    "  Computes the log of discrete Fourier Transform (DFT).\n",
    "     \n",
    "  Arguments:\n",
    "    iq_burst -- {ndarray} -- 'iq_sweep_burst' array\n",
    "    axis -- {int} -- axis to perform fft in (Default = 0)\n",
    "\n",
    "  Returns:\n",
    "    log of DFT on iq_burst array\n",
    "  \"\"\"\n",
    "  iq = np.log(np.abs(np.fft.fft(hann(iq), axis=axis)))\n",
    "  return iq\n",
    "\n",
    "\n",
    "def hann(iq, window=None):\n",
    "    \"\"\"\n",
    "    Preformes Hann smoothing of 'iq_sweep_burst'.\n",
    "\n",
    "    Arguments:\n",
    "      iq {ndarray} -- 'iq_sweep_burst' array\n",
    "      window -{range} -- range of hann window indices (Default=None)\n",
    "               if None the whole column is taken\n",
    "\n",
    "    Returns:\n",
    "      Regulazied iq in shape - (window[1] - window[0] - 2, iq.shape[1])\n",
    "    \"\"\"\n",
    "    if window is None:\n",
    "        window = [0, len(iq)]\n",
    "\n",
    "    N = window[1] - window[0] - 1\n",
    "    n = np.arange(window[0], window[1])\n",
    "    n = n.reshape(len(n), 1)\n",
    "    hannCol = 0.5 * (1 - np.cos(2 * np.pi * (n / N)))\n",
    "    return (hannCol * iq[window[0]:window[1]])[1:-1]\n",
    "\n",
    "\n",
    "def max_value_on_doppler(iq, doppler_burst):\n",
    "  \"\"\"\n",
    "  Set max value on I/Q matrix using doppler burst vector. \n",
    "     \n",
    "  Arguments:\n",
    "    iq_burst -- {ndarray} -- 'iq_sweep_burst' array\n",
    "    doppler_burst -- {ndarray} -- 'doppler_burst' array (center of mass)\n",
    "               \n",
    "  Returns:\n",
    "    I/Q matrix with the max value instead of the original values\n",
    "    The doppler burst marks the matrix values to change by max value\n",
    "  \"\"\"\n",
    "  iq_max_value = np.max(iq)\n",
    "  for i in range(iq.shape[1]):\n",
    "    if doppler_burst[i]>=len(iq):\n",
    "       continue\n",
    "    iq[doppler_burst[i], i] = iq_max_value\n",
    "  return iq\n",
    "\n",
    "\n",
    "def normalize(iq):\n",
    "  \"\"\"\n",
    "  Calculates normalized values for iq_sweep_burst matrix:\n",
    "  (vlaue-mean)/std.\n",
    "  \"\"\"\n",
    "  m = iq.mean()\n",
    "  s = iq.std()\n",
    "  return (iq-m)/s\n",
    "\n",
    "\n",
    "def data_preprocess(data):\n",
    "  \"\"\"\n",
    "  Preforms data preprocessing.\n",
    "  Change target_type lables from string to integer:\n",
    "  'human'  --> 1\n",
    "  'animal' --> 0\n",
    "\n",
    "  Arguments:\n",
    "    data -- {ndarray} -- the data set\n",
    "\n",
    "  Returns:\n",
    "    processed data (max values by doppler burst, DFT, normalization)\n",
    "  \"\"\"\n",
    "  X=[]\n",
    "  for i in range(len(data['iq_sweep_burst'])):\n",
    "    iq = fft(data['iq_sweep_burst'][i])\n",
    "    iq = max_value_on_doppler(iq,data['doppler_burst'][i])\n",
    "    iq = normalize(iq)\n",
    "    X.append(iq)\n",
    "\n",
    "  data['iq_sweep_burst'] = np.array(X)\n",
    "  if 'target_type' in data:\n",
    "    data['target_type'][data['target_type'] == 'animal'] = 0\n",
    "    data['target_type'][data['target_type'] == 'human'] = 1\n",
    "  return data"
   ]
  },
  {
   "cell_type": "markdown",
   "metadata": {
    "colab_type": "text",
    "id": "-j6KvZouVfP6"
   },
   "source": [
    "### **Splitting the Training set**\n",
    "\n",
    "The functions below split the training set into Train and Validation sets.\n",
    "\n",
    "* Validation Set.   \n",
    "The validation set is constructed from segments from geolocation_ids 1 and 4.   \n",
    "These geolocations' target_type distributions are balanced.\n",
    "To create a fair representation of the test set   \n",
    "(one segment form each track) every sixth segment was taken to the validation set.   \n",
    "The reason is that approximately 75% of the tracks have less than 6 segments (see the [Descriptive Statistics notebook](https://colab.research.google.com/drive/11Lzihg2vKIbo4KAIIJxW5CRZIncoWgtL?usp=sharing)),   \n",
    "it guarantees that most of the segments in the validation set are not from the same track.   \n",
    "   \n",
    "* Adding \"human\" segments to the training set.   \n",
    "The training set is imbalanced (more animals than humans, see the [Descriptive Statistics notebook](https://colab.research.google.com/drive/11Lzihg2vKIbo4KAIIJxW5CRZIncoWgtL?usp=sharing).   \n",
    "One can address this issue by taking segements of humans from the \"Auxiliary Experiment Set\".   \n",
    "The first 3 segments from each track are taken into the training set (or less if the track is shorter than 3 segments)."
   ]
  },
  {
   "cell_type": "code",
   "execution_count": null,
   "metadata": {
    "colab": {},
    "colab_type": "code",
    "id": "foTpFmn9VfP7"
   },
   "outputs": [],
   "source": [
    "# Function for splitting the data to training and validation\n",
    "# and function for selecting samples of segments from the Auxiliary dataset\n",
    "def split_train_val(data):\n",
    "  \"\"\"\n",
    "  Split the data to train and validation set.\n",
    "  The validation set is built from training set segments of \n",
    "  geolocation_id 1 and 4. \n",
    "  Use the function only after the training set is complete and preprocessed. \n",
    "\n",
    "  Arguments:\n",
    "    data -- {ndarray} -- the data set to split\n",
    "\n",
    "  Returns:\n",
    "    iq_sweep_burst ndarray matrices\n",
    "    target_type vector \n",
    "    for training and validation sets\n",
    "  \"\"\"\n",
    "  idx = ((data['geolocation_id'] == 4) | (data['geolocation_id'] == 1))\\\n",
    "   & (data['segment_id'] % 6 == 0)\n",
    "  training_x = data['iq_sweep_burst'][np.logical_not(idx)]\n",
    "  training_y = data['target_type'][np.logical_not(idx)]\n",
    "  validation_x = data['iq_sweep_burst'][idx]\n",
    "  validation_y = data['target_type'][idx]\n",
    "  return training_x, training_y, validation_x, validation_y\n",
    "\n",
    "def aux_split(data):\n",
    "  \"\"\"\n",
    "  Selects segments from the auxilary set for training set.\n",
    "  Takes the first 3 segments (or less) from each track.\n",
    "\n",
    "  Arguments:\n",
    "    data {dataframe} -- the auxilary data\n",
    "\n",
    "  Returns:\n",
    "    The auxilary data for the training\n",
    "  \"\"\"\n",
    "  idx = np.bool_(np.zeros(len(data['track_id'])))\n",
    "  for track in np.unique(data['track_id']):\n",
    "    idx |= data['segment_id']==(data['segment_id'][data['track_id'] == track][:3])\n",
    "  \n",
    "  for key in data:\n",
    "    data[key] = data[key][idx]\n",
    "  return data"
   ]
  },
  {
   "cell_type": "markdown",
   "metadata": {
    "colab_type": "text",
    "id": "170f5Pcgk5gF"
   },
   "source": [
    "## **Model**"
   ]
  },
  {
   "cell_type": "markdown",
   "metadata": {
    "colab_type": "text",
    "id": "QrGpOOCGgVdz"
   },
   "source": [
    "### **CNN Model**\n",
    "The model has two convolutional layers, both followed by max-pooling layers.    \n",
    "Those layers are followed by 2 fully-connected (dense) layers, activated with a ReLU function and regularized with   \n",
    "L2 regularization, followed by a final output layer with a single neuron with a Sigmoid activation function,   \n",
    "used for final binary classification."
   ]
  },
  {
   "cell_type": "code",
   "execution_count": null,
   "metadata": {
    "colab": {},
    "colab_type": "code",
    "id": "Fm-o5mr6gT7i"
   },
   "outputs": [],
   "source": [
    "# Building the model\n",
    "def create_model(input_shape, init):\n",
    "  \"\"\"\n",
    "  CNN model.\n",
    "\n",
    "  Arguments:\n",
    "    input_shape -- the shape of our input\n",
    "    init -- the weight initialization\n",
    "\n",
    "  Returns:\n",
    "    CNN model    \n",
    "  \"\"\"\n",
    "  model = Sequential()\n",
    "  model.add(Conv2D(16, kernel_size=(3, 3), activation='relu', kernel_initializer = init, bias_regularizer='l2', input_shape=input_shape))\n",
    "  model.add(MaxPooling2D(pool_size=(2, 2)))\n",
    "  model.add(Conv2D(32, kernel_size=(3, 3), activation='relu', kernel_initializer = init, bias_regularizer='l2'))\n",
    "  model.add(MaxPooling2D(pool_size=(2, 2)))\n",
    "  model.add(Flatten())\n",
    "  model.add(Dense(128, kernel_regularizer = 'l2', activation='relu', kernel_initializer = init))\n",
    "  model.add(Dense(32, kernel_regularizer = 'l2', activation='relu', kernel_initializer = init))\n",
    "  model.add(Dense(1, activation='sigmoid', kernel_initializer = init))\n",
    "  return model"
   ]
  },
  {
   "cell_type": "markdown",
   "metadata": {
    "colab_type": "text",
    "id": "q6VRmYQ6VfP_"
   },
   "source": [
    "### **Evaluation and Visualization of Model's results**"
   ]
  },
  {
   "cell_type": "code",
   "execution_count": null,
   "metadata": {
    "colab": {},
    "colab_type": "code",
    "id": "WkSravW5VfP_"
   },
   "outputs": [],
   "source": [
    "# Function for calculating the final ROC-AUC score and plot the ROC curve,\n",
    "# used in the \"Results\" section\n",
    "def stats(pred, actual):\n",
    "  \"\"\"\n",
    "  Computes the model ROC-AUC score and plots the ROC curve.\n",
    "\n",
    "  Arguments:\n",
    "    pred -- {ndarray} -- model's probability predictions\n",
    "    actual -- the true lables\n",
    "\n",
    "  Returns:\n",
    "    ROC curve graph and ROC-AUC score\n",
    "  \"\"\"\n",
    "  plt.figure(figsize=(20, 10))\n",
    "  fpr1, tpr1, _ = roc_curve(actual[0], pred[0])\n",
    "  fpr2, tpr2, _ = roc_curve(actual[1], pred[1])\n",
    "  roc_auc = [auc(fpr1, tpr1), auc(fpr2, tpr2)]\n",
    "  lw = 2\n",
    "  plt.plot(fpr1, tpr1, lw=lw, label='Training set (ROC-AUC = %0.2f)' % roc_auc[0])\n",
    "  plt.plot(fpr2, tpr2, lw=lw, label='Validation set (ROC-AUC = %0.2f)' % roc_auc[1])\n",
    "  plt.plot([0, 1], [0, 1], color='black', lw=lw, linestyle='--', label = 'Random guess')\n",
    "  plt.xlim([0.0, 1.0])\n",
    "  plt.ylim([0.0, 1.05])\n",
    "  plt.xlabel('False Positive Rate', fontsize=18)\n",
    "  plt.ylabel('True Positive Rate', fontsize=18)\n",
    "  plt.title('Training set vs. Validation set ROC curves')\n",
    "  plt.legend(loc=\"lower right\", prop = {'size': 20})\n",
    "  plt.show()"
   ]
  },
  {
   "cell_type": "markdown",
   "metadata": {
    "colab_type": "text",
    "id": "ByTli3H1VfQD"
   },
   "source": [
    "## **Training The Model**"
   ]
  },
  {
   "cell_type": "code",
   "execution_count": null,
   "metadata": {
    "colab": {},
    "colab_type": "code",
    "id": "CKvhQs_9gpVN"
   },
   "outputs": [],
   "source": [
    "# Loading and preparing the data\n",
    "\n",
    "# Loading Auxiliary Experiment set - can take a few minutes\n",
    "experiment_auxiliary = 'MAFAT RADAR Challenge - Auxiliary Experiment Set V1'\n",
    "experiment_auxiliary_df = load_data(experiment_auxiliary)"
   ]
  },
  {
   "cell_type": "code",
   "execution_count": null,
   "metadata": {
    "colab": {
     "base_uri": "https://localhost:8080/",
     "height": 54
    },
    "colab_type": "code",
    "id": "AMDQ4YgSN_fW",
    "outputId": "7bc4e8cc-f66f-4d46-8431-d00b92d96fb1"
   },
   "outputs": [
    {
     "name": "stderr",
     "output_type": "stream",
     "text": [
      "/usr/local/lib/python3.6/dist-packages/ipykernel_launcher.py:38: DeprecationWarning: elementwise comparison failed; this will raise an error in the future.\n"
     ]
    }
   ],
   "source": [
    "# Taking sample from the Auxiliary Experiment set\n",
    "train_aux = aux_split(experiment_auxiliary_df)"
   ]
  },
  {
   "cell_type": "code",
   "execution_count": null,
   "metadata": {
    "colab": {},
    "colab_type": "code",
    "id": "ZcsTx2T_2Uzk"
   },
   "outputs": [],
   "source": [
    "# The function append_dict is for concatenating the training set \n",
    "# with the Auxiliary data set segments\n",
    "\n",
    "def append_dict(dict1, dict2):\n",
    "  for key in dict1:\n",
    "    dict1[key] = np.concatenate([dict1[key], dict2[key]], axis=0)\n",
    "  return dict1"
   ]
  },
  {
   "cell_type": "code",
   "execution_count": null,
   "metadata": {
    "colab": {},
    "colab_type": "code",
    "id": "xqdUzjrN-U6f"
   },
   "outputs": [],
   "source": [
    "# Training set\n",
    "train_path = 'MAFAT RADAR Challenge - Training Set V1'\n",
    "training_df = load_data(train_path)\n",
    "\n",
    "# Adding segments from the experiment auxiliary set to the training set\n",
    "train_df = append_dict(training_df, train_aux)\n",
    "\n",
    "# Preprocessing and split the data to training and validation\n",
    "train_df = data_preprocess(train_df.copy())\n",
    "train_x, train_y, val_x, val_y = split_train_val(train_df)\n",
    "\n",
    "val_y =  val_y.astype(int)\n",
    "train_y =train_y.astype(int)\n",
    "train_x = train_x.reshape(list(train_x.shape)+[1])\n",
    "val_x = val_x.reshape(list(val_x.shape)+[1])"
   ]
  },
  {
   "cell_type": "code",
   "execution_count": null,
   "metadata": {
    "colab": {},
    "colab_type": "code",
    "id": "BZk7ZKOGb6tM"
   },
   "outputs": [],
   "source": [
    "# Public test set - loading and preprocessing\n",
    "test_path = 'MAFAT RADAR Challenge - Public Test Set V1'\n",
    "test_df = load_data(test_path)\n",
    "test_df = data_preprocess(test_df.copy())\n",
    "test_x = test_df['iq_sweep_burst']\n",
    "test_x = test_x.reshape(list(test_x.shape)+[1])"
   ]
  },
  {
   "cell_type": "code",
   "execution_count": null,
   "metadata": {
    "colab": {},
    "colab_type": "code",
    "id": "mfVig_oBa63z"
   },
   "outputs": [],
   "source": [
    "# Model configuration:\n",
    "batch_size = 16\n",
    "img_width, img_height = 126, 32\n",
    "loss_function = BinaryCrossentropy()\n",
    "no_epochs = 10\n",
    "optimizer = Adam(learning_rate = 0.001)\n",
    "input_shape = (img_width, img_height, 1)\n",
    "\n",
    "init = tf.keras.initializers.GlorotNormal(seed = 0)\n",
    "\n",
    "# Creating and running the model\n",
    "model = create_model(input_shape, init)  \n",
    "model.compile(loss=loss_function, optimizer=optimizer, metrics=[AUC(), 'accuracy'])\n"
   ]
  },
  {
   "cell_type": "markdown",
   "metadata": {
    "colab_type": "text",
    "id": "EmISWmSlPXtK"
   },
   "source": [
    "**Model Architecture**   \n",
    "   \n",
    "![](https://drive.google.com/uc?export=view&id=1wsJBHbghEPGT0s1QQG6BHl7MS3Yo0o4i)"
   ]
  },
  {
   "cell_type": "code",
   "execution_count": null,
   "metadata": {
    "colab": {
     "base_uri": "https://localhost:8080/",
     "height": 425
    },
    "colab_type": "code",
    "id": "9ZVukitT3-cn",
    "outputId": "ee3c55a6-1ad7-42ff-a9af-e3187400641c"
   },
   "outputs": [
    {
     "name": "stdout",
     "output_type": "stream",
     "text": [
      "Model: \"sequential\"\n",
      "_________________________________________________________________\n",
      "Layer (type)                 Output Shape              Param #   \n",
      "=================================================================\n",
      "conv2d (Conv2D)              (None, 124, 30, 16)       160       \n",
      "_________________________________________________________________\n",
      "max_pooling2d (MaxPooling2D) (None, 62, 15, 16)        0         \n",
      "_________________________________________________________________\n",
      "conv2d_1 (Conv2D)            (None, 60, 13, 32)        4640      \n",
      "_________________________________________________________________\n",
      "max_pooling2d_1 (MaxPooling2 (None, 30, 6, 32)         0         \n",
      "_________________________________________________________________\n",
      "flatten (Flatten)            (None, 5760)              0         \n",
      "_________________________________________________________________\n",
      "dense (Dense)                (None, 128)               737408    \n",
      "_________________________________________________________________\n",
      "dense_1 (Dense)              (None, 32)                4128      \n",
      "_________________________________________________________________\n",
      "dense_2 (Dense)              (None, 1)                 33        \n",
      "=================================================================\n",
      "Total params: 746,369\n",
      "Trainable params: 746,369\n",
      "Non-trainable params: 0\n",
      "_________________________________________________________________\n"
     ]
    }
   ],
   "source": [
    "model.summary()"
   ]
  },
  {
   "cell_type": "code",
   "execution_count": null,
   "metadata": {
    "colab": {
     "base_uri": "https://localhost:8080/",
     "height": 377
    },
    "colab_type": "code",
    "id": "3PXlRHub7ae-",
    "outputId": "eccdc485-b46b-4e5e-f031-a31e57e671c3"
   },
   "outputs": [
    {
     "name": "stdout",
     "output_type": "stream",
     "text": [
      "Epoch 1/10\n",
      "411/411 [==============================] - 5s 11ms/step - loss: 0.4963 - auc: 0.9303 - accuracy: 0.9036 - val_loss: 0.5929 - val_auc: 0.8070 - val_accuracy: 0.7346\n",
      "Epoch 2/10\n",
      "411/411 [==============================] - 4s 10ms/step - loss: 0.2344 - auc: 0.9517 - accuracy: 0.9225 - val_loss: 0.5353 - val_auc: 0.8665 - val_accuracy: 0.7605\n",
      "Epoch 3/10\n",
      "411/411 [==============================] - 4s 10ms/step - loss: 0.2048 - auc: 0.9631 - accuracy: 0.9327 - val_loss: 0.4665 - val_auc: 0.8990 - val_accuracy: 0.8058\n",
      "Epoch 4/10\n",
      "411/411 [==============================] - 4s 10ms/step - loss: 0.1809 - auc: 0.9707 - accuracy: 0.9415 - val_loss: 0.5143 - val_auc: 0.9030 - val_accuracy: 0.7961\n",
      "Epoch 5/10\n",
      "411/411 [==============================] - 4s 10ms/step - loss: 0.1674 - auc: 0.9759 - accuracy: 0.9456 - val_loss: 0.4200 - val_auc: 0.9118 - val_accuracy: 0.8252\n",
      "Epoch 6/10\n",
      "411/411 [==============================] - 4s 10ms/step - loss: 0.1591 - auc: 0.9767 - accuracy: 0.9498 - val_loss: 0.4481 - val_auc: 0.9338 - val_accuracy: 0.8123\n",
      "Epoch 7/10\n",
      "411/411 [==============================] - 4s 10ms/step - loss: 0.1592 - auc: 0.9765 - accuracy: 0.9495 - val_loss: 0.3842 - val_auc: 0.9269 - val_accuracy: 0.8511\n",
      "Epoch 8/10\n",
      "411/411 [==============================] - 4s 10ms/step - loss: 0.1546 - auc: 0.9783 - accuracy: 0.9513 - val_loss: 0.3661 - val_auc: 0.9364 - val_accuracy: 0.8706\n",
      "Epoch 9/10\n",
      "411/411 [==============================] - 4s 10ms/step - loss: 0.1522 - auc: 0.9796 - accuracy: 0.9501 - val_loss: 0.3579 - val_auc: 0.9355 - val_accuracy: 0.8608\n",
      "Epoch 10/10\n",
      "411/411 [==============================] - 4s 10ms/step - loss: 0.1429 - auc: 0.9827 - accuracy: 0.9568 - val_loss: 0.3549 - val_auc: 0.9368 - val_accuracy: 0.8673\n"
     ]
    }
   ],
   "source": [
    "# Model fit\n",
    "history = model.fit(train_x, train_y, batch_size = batch_size, epochs = no_epochs, \n",
    "                    validation_data = (val_x, val_y))"
   ]
  },
  {
   "cell_type": "markdown",
   "metadata": {
    "colab_type": "text",
    "id": "r3Rx56zVdb3T"
   },
   "source": [
    "#### **Results**\n",
    "Submissions are evaluated on the area under the Receiver Operating Characteristic Curve ([ROC AUC](https://en.wikipedia.org/wiki/Receiver_operating_characteristic))   \n",
    "on the predicted probabilities, as calculated by [roc_auc_score in scikit-learn (v 0.23.1)](https://scikit-learn.org/stable/modules/generated/sklearn.metrics.roc_auc_score.html).\n"
   ]
  },
  {
   "cell_type": "code",
   "execution_count": null,
   "metadata": {
    "colab": {
     "base_uri": "https://localhost:8080/",
     "height": 544
    },
    "colab_type": "code",
    "id": "1RCwJ8CWoLyJ",
    "outputId": "a1d3d134-e82c-4cce-c7a4-0ec4bf46075d"
   },
   "outputs": [
    {
     "data": {
      "image/png": "[encoded data removed]",
      "text/plain": [
       "<Figure size 1440x720 with 1 Axes>"
      ]
     },
     "metadata": {
      "needs_background": "light",
      "tags": []
     },
     "output_type": "display_data"
    }
   ],
   "source": [
    "# Plot ROC curve and show ROC-AUC results of the training and validation sets. \n",
    "pred = [model.predict(train_x), model.predict(val_x)]\n",
    "actual = [train_y, val_y]\n",
    "stats(pred, actual)"
   ]
  },
  {
   "cell_type": "markdown",
   "metadata": {
    "colab_type": "text",
    "id": "wrLzeJJroRtn"
   },
   "source": [
    "## **Final Submission File**"
   ]
  },
  {
   "cell_type": "markdown",
   "metadata": {
    "colab_type": "text",
    "id": "Wn6lmtdlE-hU"
   },
   "source": [
    "Create a CSV submission file , zip and download it."
   ]
  },
  {
   "cell_type": "code",
   "execution_count": null,
   "metadata": {
    "colab": {},
    "colab_type": "code",
    "id": "_xnZkjgU6eRH"
   },
   "outputs": [],
   "source": [
    "# Creating DataFrame with the probability prediction for each segment\n",
    "submission =  pd.DataFrame()\n",
    "submission['segment_id'] = test_df['segment_id']\n",
    "submission['prediction'] = model.predict(test_x)\n",
    "submission['prediction'] = submission['prediction'].astype('float')\n",
    "\n",
    "# Save submission\n",
    "submission.to_csv('submission.csv', index=False)"
   ]
  },
  {
   "cell_type": "code",
   "execution_count": null,
   "metadata": {
    "colab": {
     "base_uri": "https://localhost:8080/",
     "height": 17
    },
    "colab_type": "code",
    "id": "jheQSZzg_Lkk",
    "outputId": "103a7762-c3a1-4eba-9cdb-3d44605c8456"
   },
   "outputs": [
    {
     "data": {
      "application/javascript": [
       "\n",
       "    async function download(id, filename, size) {\n",
       "      if (!google.colab.kernel.accessAllowed) {\n",
       "        return;\n",
       "      }\n",
       "      const div = document.createElement('div');\n",
       "      const label = document.createElement('label');\n",
       "      label.textContent = `Downloading \"${filename}\": `;\n",
       "      div.appendChild(label);\n",
       "      const progress = document.createElement('progress');\n",
       "      progress.max = size;\n",
       "      div.appendChild(progress);\n",
       "      document.body.appendChild(div);\n",
       "\n",
       "      const buffers = [];\n",
       "      let downloaded = 0;\n",
       "\n",
       "      const channel = await google.colab.kernel.comms.open(id);\n",
       "      // Send a message to notify the kernel that we're ready.\n",
       "      channel.send({})\n",
       "\n",
       "      for await (const message of channel.messages) {\n",
       "        // Send a message to notify the kernel that we're ready.\n",
       "        channel.send({})\n",
       "        if (message.buffers) {\n",
       "          for (const buffer of message.buffers) {\n",
       "            buffers.push(buffer);\n",
       "            downloaded += buffer.byteLength;\n",
       "            progress.value = downloaded;\n",
       "          }\n",
       "        }\n",
       "      }\n",
       "      const blob = new Blob(buffers, {type: 'application/binary'});\n",
       "      const a = document.createElement('a');\n",
       "      a.href = window.URL.createObjectURL(blob);\n",
       "      a.download = filename;\n",
       "      div.appendChild(a);\n",
       "      a.click();\n",
       "      div.remove();\n",
       "    }\n",
       "  "
      ],
      "text/plain": [
       "<IPython.core.display.Javascript object>"
      ]
     },
     "metadata": {
      "tags": []
     },
     "output_type": "display_data"
    },
    {
     "data": {
      "application/javascript": [
       "download(\"download_2342289c-70d5-4d86-8a60-4e1e88891f3b\", \"submission.zip\", 2764)"
      ],
      "text/plain": [
       "<IPython.core.display.Javascript object>"
      ]
     },
     "metadata": {
      "tags": []
     },
     "output_type": "display_data"
    }
   ],
   "source": [
    "# Download zip file\n",
    "from zipfile import ZipFile\n",
    "from google.colab import files\n",
    "\n",
    "with ZipFile('submission.zip', 'w') as myzip:\n",
    "  myzip.write('submission.csv')\n",
    "\n",
    "files.download('submission.zip')\n"
   ]
  }
 ],
 "metadata": {
  "accelerator": "GPU",
  "colab": {
   "collapsed_sections": [],
   "name": "MAFAT Radar Challenge - Baseline CNN Model.ipynb",
   "provenance": [],
   "toc_visible": true
  },
  "kernelspec": {
   "display_name": "Python 3",
   "language": "python",
   "name": "python3"
  },
  "language_info": {
   "codemirror_mode": {
    "name": "ipython",
    "version": 3
   },
   "file_extension": ".py",
   "mimetype": "text/x-python",
   "name": "python",
   "nbconvert_exporter": "python",
   "pygments_lexer": "ipython3",
   "version": "3.6.9"
  }
 },
 "nbformat": 4,
 "nbformat_minor": 1
}
