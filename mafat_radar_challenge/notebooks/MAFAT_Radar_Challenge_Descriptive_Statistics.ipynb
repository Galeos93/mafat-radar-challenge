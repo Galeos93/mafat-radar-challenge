{
 "cells": [
  {
   "cell_type": "markdown",
   "metadata": {
    "colab_type": "text",
    "id": "dFtOGEoQHKcj"
   },
   "source": [
    "# **MAFAT Radar Challenge - Descriptive Statistics**\n",
    "\n",
    "Dear participant,    \n",
    "We welcome you to our competition and wish you a challenging, interesting and fun competition.  \n",
    "This notebook presents an exploratory analysis of the metadata for the training and the public-test data sets.   \n",
    "The purpose of this notebook is to give participants a better understanding of the data by describing   \n",
    "and analyzing the distributions and characteristics of the signals.\n",
    "\n",
    "[Competition website](https://competitions.codalab.org/competitions/25389)   \n",
    "[MAFAT Challenge homepage](https://mafatchallenge.mod.gov.il/)\n"
   ]
  },
  {
   "cell_type": "markdown",
   "metadata": {
    "colab_type": "text",
    "id": "Ush533GDyoMK"
   },
   "source": [
    "\n",
    "###**Data Description**   \n",
    "The data contains I/Q signals of humans or animals collected by radar sensors in different locations and times.  \n",
    "Each signal of human or animal is a single track. The tracks in the dataset are split into 32 time-units segments.   \n",
    "Each record in the dataset represents a single segment.\n",
    "The goal is to classify the segments correctly.\n",
    "\n",
    "\n"
   ]
  },
  {
   "cell_type": "markdown",
   "metadata": {
    "colab_type": "text",
    "id": "A7SM-tNVOlcF"
   },
   "source": [
    "####**Data Fields** \n",
    "8 fields describe each segment:\n",
    "\n",
    "  \n",
    "\n",
    "*   **segment_id** - The segment's unique ID. \n",
    "*   **target_type** - What is the object detected in the segment?   \n",
    "The possible values are: \"human\", \"animal\", \"empty\".\n",
    "*   **snr_type** - Signal to Noise Ratio (SNR), there are 3 categories:  \n",
    "High SNR, Low SNR, and Synthetic Low SNR. The Synthetic segments are the   \n",
    "High SNR signals in the dataset that transformed into Low SNR artificially,   \n",
    "will be elaborated at the end of this notebook.   \n",
    "The possible values are: \"HighSNR\", \"LowSNR\", \"SynthSNR\".   \n",
    "*   **track_id** - Segment is part of a continuous track. Use this identifier to locate all segments of the same track.   \n",
    "*   **geolocation_type** - Identifies the surrounding terrain type of each location (string, categorical).   \n",
    "*   **geolocation_id** - Each location has a unique ID (integer).   \n",
    "*   **sensor_id** - Each Radar has a unique ID (integer). In some of the locations were number of radars.   \n",
    "*   **date_index** - Numerical, each number represents a unique   calendar day (integer).   "
   ]
  },
  {
   "cell_type": "markdown",
   "metadata": {
    "colab_type": "text",
    "id": "IQhyI97COY7Q"
   },
   "source": [
    "####**Short Overview - Training and Test Sets**   \n",
    "There are 6,656 signal segments in the training set (taken from 1,510 signal tracks),   \n",
    "and 106 segments in the public test set.   \n",
    "The private test set will be accessible only in the second stage of the competition.   \n",
    "   \n",
    "The segments in the test set are selected in a way that guarantees a track has at most a single segment,   \n",
    "with the exception of very long tracks that may contribute more than one segment.    \n",
    "The segments in the test set and the training set are not from the same tracks.   \n",
    "Also, in the training set, all the segments of the track are available as opposed to a single segment from each track in the test set."
   ]
  },
  {
   "cell_type": "markdown",
   "metadata": {
    "colab_type": "text",
    "id": "J6sJwgBkEGd-"
   },
   "source": [
    "###**Setup**"
   ]
  },
  {
   "cell_type": "code",
   "execution_count": 1,
   "metadata": {
    "colab": {
     "base_uri": "https://localhost:8080/",
     "height": 70
    },
    "colab_type": "code",
    "id": "W8nDDW65cGsY",
    "outputId": "723b64ef-e5a6-49da-c0eb-e5a27f6a9dcf"
   },
   "outputs": [
    {
     "ename": "ModuleNotFoundError",
     "evalue": "No module named 'seaborn'",
     "output_type": "error",
     "traceback": [
      "\u001b[0;31m---------------------------------------------------------------------------\u001b[0m",
      "\u001b[0;31mModuleNotFoundError\u001b[0m                       Traceback (most recent call last)",
      "\u001b[0;32m<ipython-input-1-8203c8c7ac1e>\u001b[0m in \u001b[0;36m<module>\u001b[0;34m\u001b[0m\n\u001b[1;32m      3\u001b[0m \u001b[0;32mimport\u001b[0m \u001b[0mpandas\u001b[0m \u001b[0;32mas\u001b[0m \u001b[0mpd\u001b[0m\u001b[0;34m\u001b[0m\u001b[0;34m\u001b[0m\u001b[0m\n\u001b[1;32m      4\u001b[0m \u001b[0;32mimport\u001b[0m \u001b[0mnumpy\u001b[0m \u001b[0;32mas\u001b[0m \u001b[0mnp\u001b[0m\u001b[0;34m\u001b[0m\u001b[0;34m\u001b[0m\u001b[0m\n\u001b[0;32m----> 5\u001b[0;31m \u001b[0;32mimport\u001b[0m \u001b[0mseaborn\u001b[0m \u001b[0;32mas\u001b[0m \u001b[0msns\u001b[0m\u001b[0;34m\u001b[0m\u001b[0;34m\u001b[0m\u001b[0m\n\u001b[0m\u001b[1;32m      6\u001b[0m \u001b[0;32mimport\u001b[0m \u001b[0mmatplotlib\u001b[0m\u001b[0;34m.\u001b[0m\u001b[0mpyplot\u001b[0m \u001b[0;32mas\u001b[0m \u001b[0mplt\u001b[0m\u001b[0;34m\u001b[0m\u001b[0;34m\u001b[0m\u001b[0m\n\u001b[1;32m      7\u001b[0m \u001b[0;34m\u001b[0m\u001b[0m\n",
      "\u001b[0;31mModuleNotFoundError\u001b[0m: No module named 'seaborn'"
     ]
    }
   ],
   "source": [
    "%matplotlib inline\n",
    "import os\n",
    "import pandas as pd\n",
    "import numpy as np\n",
    "import seaborn as sns\n",
    "import matplotlib.pyplot as plt\n",
    "\n",
    "from termcolor import colored\n",
    "from IPython.display import display"
   ]
  },
  {
   "cell_type": "code",
   "execution_count": 2,
   "metadata": {
    "colab": {
     "base_uri": "https://localhost:8080/",
     "height": 66
    },
    "colab_type": "code",
    "id": "tqG1lZqqRc1p",
    "outputId": "13f9376e-11fc-4c32-ce61-43877218732d"
   },
   "outputs": [],
   "source": [
    "mount_path = '/home/agarcia/repos/mafat-radar-challenge/mafat_radar_challenge'\n",
    "competition_path = 'data'"
   ]
  },
  {
   "cell_type": "code",
   "execution_count": 5,
   "metadata": {
    "colab": {},
    "colab_type": "code",
    "id": "jnNTuyQbv5HD"
   },
   "outputs": [],
   "source": [
    "def load_csv_metadata(file_path):\n",
    "    \"\"\"\n",
    "    Reads csv as pandas DataFrame (only Metadata).\n",
    "\n",
    "    Arguments:\n",
    "    file_path -- {str} -- path to csv metadata file\n",
    "\n",
    "    Returns:\n",
    "    Pandas DataFarme\n",
    "    \"\"\"\n",
    "    path = os.path.join(mount_path, competition_path, file_path + '.csv')\n",
    "    with open(path, 'rb') as data:\n",
    "        output = pd.read_csv(data)\n",
    "    return output"
   ]
  },
  {
   "cell_type": "code",
   "execution_count": 8,
   "metadata": {
    "colab": {},
    "colab_type": "code",
    "id": "oRJ9n_lKDd9I"
   },
   "outputs": [],
   "source": [
    "training_path = 'MAFAT RADAR Challenge - Training Set V1'\n",
    "test_path = 'MAFAT RADAR Challenge - Public Test Set V1'\n",
    "\n",
    "training_set = load_csv_metadata(training_path)\n",
    "test_set = load_csv_metadata(test_path)"
   ]
  },
  {
   "cell_type": "markdown",
   "metadata": {
    "colab_type": "text",
    "id": "cB4p8613ENGB"
   },
   "source": [
    "###**Training and Test sets Descriptives**"
   ]
  },
  {
   "cell_type": "code",
   "execution_count": 9,
   "metadata": {
    "colab": {
     "base_uri": "https://localhost:8080/",
     "height": 50
    },
    "colab_type": "code",
    "id": "OCB9l9vI908w",
    "outputId": "f648f734-7af4-41dd-b870-0b203637549c"
   },
   "outputs": [
    {
     "name": "stdout",
     "output_type": "stream",
     "text": [
      "The training set shape is: (6656, 8)\n",
      "The test set shape is: (106, 2)\n"
     ]
    }
   ],
   "source": [
    "# Number of obserevations (segments), and number of columns (fields)   \n",
    "# except for the I/Q matrix and the doppler burst vector\n",
    "\n",
    "print(f\"The training set shape is: {training_set.shape}\")\n",
    "print(f\"The test set shape is: {test_set.shape}\")"
   ]
  },
  {
   "cell_type": "code",
   "execution_count": 10,
   "metadata": {
    "colab": {
     "base_uri": "https://localhost:8080/",
     "height": 191
    },
    "colab_type": "code",
    "id": "HyvYNUiZDgrt",
    "outputId": "7f35703c-6138-401d-91fe-c278475584b0"
   },
   "outputs": [
    {
     "data": {
      "text/html": [
       "<div>\n",
       "<style scoped>\n",
       "    .dataframe tbody tr th:only-of-type {\n",
       "        vertical-align: middle;\n",
       "    }\n",
       "\n",
       "    .dataframe tbody tr th {\n",
       "        vertical-align: top;\n",
       "    }\n",
       "\n",
       "    .dataframe thead th {\n",
       "        text-align: right;\n",
       "    }\n",
       "</style>\n",
       "<table border=\"1\" class=\"dataframe\">\n",
       "  <thead>\n",
       "    <tr style=\"text-align: right;\">\n",
       "      <th></th>\n",
       "      <th>segment_id</th>\n",
       "      <th>track_id</th>\n",
       "      <th>geolocation_type</th>\n",
       "      <th>geolocation_id</th>\n",
       "      <th>sensor_id</th>\n",
       "      <th>snr_type</th>\n",
       "      <th>date_index</th>\n",
       "      <th>target_type</th>\n",
       "    </tr>\n",
       "  </thead>\n",
       "  <tbody>\n",
       "    <tr>\n",
       "      <th>0</th>\n",
       "      <td>0</td>\n",
       "      <td>11</td>\n",
       "      <td>C</td>\n",
       "      <td>1</td>\n",
       "      <td>1</td>\n",
       "      <td>HighSNR</td>\n",
       "      <td>27</td>\n",
       "      <td>animal</td>\n",
       "    </tr>\n",
       "    <tr>\n",
       "      <th>1</th>\n",
       "      <td>1</td>\n",
       "      <td>16</td>\n",
       "      <td>C</td>\n",
       "      <td>1</td>\n",
       "      <td>1</td>\n",
       "      <td>HighSNR</td>\n",
       "      <td>27</td>\n",
       "      <td>animal</td>\n",
       "    </tr>\n",
       "    <tr>\n",
       "      <th>2</th>\n",
       "      <td>2</td>\n",
       "      <td>16</td>\n",
       "      <td>C</td>\n",
       "      <td>1</td>\n",
       "      <td>1</td>\n",
       "      <td>HighSNR</td>\n",
       "      <td>27</td>\n",
       "      <td>animal</td>\n",
       "    </tr>\n",
       "    <tr>\n",
       "      <th>3</th>\n",
       "      <td>3</td>\n",
       "      <td>29</td>\n",
       "      <td>C</td>\n",
       "      <td>1</td>\n",
       "      <td>1</td>\n",
       "      <td>HighSNR</td>\n",
       "      <td>27</td>\n",
       "      <td>animal</td>\n",
       "    </tr>\n",
       "    <tr>\n",
       "      <th>4</th>\n",
       "      <td>4</td>\n",
       "      <td>29</td>\n",
       "      <td>C</td>\n",
       "      <td>1</td>\n",
       "      <td>1</td>\n",
       "      <td>HighSNR</td>\n",
       "      <td>27</td>\n",
       "      <td>animal</td>\n",
       "    </tr>\n",
       "  </tbody>\n",
       "</table>\n",
       "</div>"
      ],
      "text/plain": [
       "   segment_id  track_id geolocation_type  geolocation_id  sensor_id snr_type  \\\n",
       "0           0        11                C               1          1  HighSNR   \n",
       "1           1        16                C               1          1  HighSNR   \n",
       "2           2        16                C               1          1  HighSNR   \n",
       "3           3        29                C               1          1  HighSNR   \n",
       "4           4        29                C               1          1  HighSNR   \n",
       "\n",
       "   date_index target_type  \n",
       "0          27      animal  \n",
       "1          27      animal  \n",
       "2          27      animal  \n",
       "3          27      animal  \n",
       "4          27      animal  "
      ]
     },
     "execution_count": 10,
     "metadata": {},
     "output_type": "execute_result"
    }
   ],
   "source": [
    "training_set.head() "
   ]
  },
  {
   "cell_type": "code",
   "execution_count": 11,
   "metadata": {
    "colab": {
     "base_uri": "https://localhost:8080/",
     "height": 191
    },
    "colab_type": "code",
    "id": "2HBzMoswDTc1",
    "outputId": "4bb2fbf0-cdf2-49fe-c841-b414c663522a"
   },
   "outputs": [
    {
     "data": {
      "text/html": [
       "<div>\n",
       "<style scoped>\n",
       "    .dataframe tbody tr th:only-of-type {\n",
       "        vertical-align: middle;\n",
       "    }\n",
       "\n",
       "    .dataframe tbody tr th {\n",
       "        vertical-align: top;\n",
       "    }\n",
       "\n",
       "    .dataframe thead th {\n",
       "        text-align: right;\n",
       "    }\n",
       "</style>\n",
       "<table border=\"1\" class=\"dataframe\">\n",
       "  <thead>\n",
       "    <tr style=\"text-align: right;\">\n",
       "      <th></th>\n",
       "      <th>segment_id</th>\n",
       "      <th>snr_type</th>\n",
       "    </tr>\n",
       "  </thead>\n",
       "  <tbody>\n",
       "    <tr>\n",
       "      <th>0</th>\n",
       "      <td>6656</td>\n",
       "      <td>HighSNR</td>\n",
       "    </tr>\n",
       "    <tr>\n",
       "      <th>1</th>\n",
       "      <td>6658</td>\n",
       "      <td>HighSNR</td>\n",
       "    </tr>\n",
       "    <tr>\n",
       "      <th>2</th>\n",
       "      <td>6662</td>\n",
       "      <td>LowSNR</td>\n",
       "    </tr>\n",
       "    <tr>\n",
       "      <th>3</th>\n",
       "      <td>6664</td>\n",
       "      <td>LowSNR</td>\n",
       "    </tr>\n",
       "    <tr>\n",
       "      <th>4</th>\n",
       "      <td>6665</td>\n",
       "      <td>LowSNR</td>\n",
       "    </tr>\n",
       "  </tbody>\n",
       "</table>\n",
       "</div>"
      ],
      "text/plain": [
       "   segment_id snr_type\n",
       "0        6656  HighSNR\n",
       "1        6658  HighSNR\n",
       "2        6662   LowSNR\n",
       "3        6664   LowSNR\n",
       "4        6665   LowSNR"
      ]
     },
     "execution_count": 11,
     "metadata": {},
     "output_type": "execute_result"
    }
   ],
   "source": [
    "test_set.head()"
   ]
  },
  {
   "cell_type": "code",
   "execution_count": 12,
   "metadata": {
    "colab": {
     "base_uri": "https://localhost:8080/",
     "height": 133
    },
    "colab_type": "code",
    "id": "xYL5__VikpID",
    "outputId": "979e355d-e464-4486-9475-4b4ad6f807f5"
   },
   "outputs": [
    {
     "data": {
      "text/html": [
       "<div>\n",
       "<style scoped>\n",
       "    .dataframe tbody tr th:only-of-type {\n",
       "        vertical-align: middle;\n",
       "    }\n",
       "\n",
       "    .dataframe tbody tr th {\n",
       "        vertical-align: top;\n",
       "    }\n",
       "\n",
       "    .dataframe thead th {\n",
       "        text-align: right;\n",
       "    }\n",
       "</style>\n",
       "<table border=\"1\" class=\"dataframe\">\n",
       "  <thead>\n",
       "    <tr style=\"text-align: right;\">\n",
       "      <th></th>\n",
       "      <th>segment_id</th>\n",
       "      <th>track_id</th>\n",
       "      <th>geolocation_type</th>\n",
       "      <th>geolocation_id</th>\n",
       "      <th>sensor_id</th>\n",
       "      <th>snr_type</th>\n",
       "      <th>date_index</th>\n",
       "      <th>target_type</th>\n",
       "    </tr>\n",
       "  </thead>\n",
       "  <tbody>\n",
       "    <tr>\n",
       "      <th>unique</th>\n",
       "      <td>6656</td>\n",
       "      <td>1510</td>\n",
       "      <td>3</td>\n",
       "      <td>4</td>\n",
       "      <td>4</td>\n",
       "      <td>2</td>\n",
       "      <td>29</td>\n",
       "      <td>2</td>\n",
       "    </tr>\n",
       "    <tr>\n",
       "      <th>top</th>\n",
       "      <td>4213</td>\n",
       "      <td>285</td>\n",
       "      <td>A</td>\n",
       "      <td>3</td>\n",
       "      <td>3</td>\n",
       "      <td>LowSNR</td>\n",
       "      <td>20</td>\n",
       "      <td>animal</td>\n",
       "    </tr>\n",
       "    <tr>\n",
       "      <th>freq</th>\n",
       "      <td>1</td>\n",
       "      <td>43</td>\n",
       "      <td>4811</td>\n",
       "      <td>4560</td>\n",
       "      <td>4560</td>\n",
       "      <td>4191</td>\n",
       "      <td>714</td>\n",
       "      <td>5757</td>\n",
       "    </tr>\n",
       "  </tbody>\n",
       "</table>\n",
       "</div>"
      ],
      "text/plain": [
       "       segment_id track_id geolocation_type geolocation_id sensor_id snr_type  \\\n",
       "unique       6656     1510                3              4         4        2   \n",
       "top          4213      285                A              3         3   LowSNR   \n",
       "freq            1       43             4811           4560      4560     4191   \n",
       "\n",
       "       date_index target_type  \n",
       "unique         29           2  \n",
       "top            20      animal  \n",
       "freq          714        5757  "
      ]
     },
     "execution_count": 12,
     "metadata": {},
     "output_type": "execute_result"
    }
   ],
   "source": [
    "# All fields in metadata are categorical, therefore only simple descriptives \n",
    "# like the mode and the number of unique values is relevant.\n",
    "training_set = training_set.astype(str)\n",
    "training_set.describe().iloc[1:]"
   ]
  },
  {
   "cell_type": "code",
   "execution_count": 13,
   "metadata": {
    "colab": {
     "base_uri": "https://localhost:8080/",
     "height": 133
    },
    "colab_type": "code",
    "id": "lvXqijqzHvZu",
    "outputId": "50cd9f56-8a2e-498d-f4e3-2faff963ca8c"
   },
   "outputs": [
    {
     "data": {
      "text/html": [
       "<div>\n",
       "<style scoped>\n",
       "    .dataframe tbody tr th:only-of-type {\n",
       "        vertical-align: middle;\n",
       "    }\n",
       "\n",
       "    .dataframe tbody tr th {\n",
       "        vertical-align: top;\n",
       "    }\n",
       "\n",
       "    .dataframe thead th {\n",
       "        text-align: right;\n",
       "    }\n",
       "</style>\n",
       "<table border=\"1\" class=\"dataframe\">\n",
       "  <thead>\n",
       "    <tr style=\"text-align: right;\">\n",
       "      <th></th>\n",
       "      <th>segment_id</th>\n",
       "      <th>snr_type</th>\n",
       "    </tr>\n",
       "  </thead>\n",
       "  <tbody>\n",
       "    <tr>\n",
       "      <th>unique</th>\n",
       "      <td>106</td>\n",
       "      <td>2</td>\n",
       "    </tr>\n",
       "    <tr>\n",
       "      <th>top</th>\n",
       "      <td>6933</td>\n",
       "      <td>HighSNR</td>\n",
       "    </tr>\n",
       "    <tr>\n",
       "      <th>freq</th>\n",
       "      <td>1</td>\n",
       "      <td>56</td>\n",
       "    </tr>\n",
       "  </tbody>\n",
       "</table>\n",
       "</div>"
      ],
      "text/plain": [
       "       segment_id snr_type\n",
       "unique        106        2\n",
       "top          6933  HighSNR\n",
       "freq            1       56"
      ]
     },
     "execution_count": 13,
     "metadata": {},
     "output_type": "execute_result"
    }
   ],
   "source": [
    "test_set = test_set.astype(str)\n",
    "test_set.describe().iloc[1:]"
   ]
  },
  {
   "cell_type": "code",
   "execution_count": 14,
   "metadata": {
    "colab": {
     "base_uri": "https://localhost:8080/",
     "height": 50
    },
    "colab_type": "code",
    "id": "SYwwyxUO8Cfw",
    "outputId": "92587792-e7d3-42fe-fee2-3108d2b3c06c"
   },
   "outputs": [
    {
     "name": "stdout",
     "output_type": "stream",
     "text": [
      "None of the columns in test_set have missing data.\n",
      "None of the columns in training_set have missing data.\n"
     ]
    }
   ],
   "source": [
    "def check_missing(df):\n",
    "    try:\n",
    "        df.name =[x for x in globals() if globals()[x] is df][0]\n",
    "        if sum(df.isnull().sum()) == 0:\n",
    "          print(f\"None of the columns in {df.name} have missing data.\")\n",
    "    except:\n",
    "        print(df.isnull().any())\n",
    "\n",
    "check_missing(test_set)\n",
    "check_missing(training_set)"
   ]
  },
  {
   "cell_type": "code",
   "execution_count": 15,
   "metadata": {
    "colab": {
     "base_uri": "https://localhost:8080/",
     "height": 33
    },
    "colab_type": "code",
    "id": "W32_V93R-tD9",
    "outputId": "c315ae5b-24e8-4647-b194-9d3b88bb6713"
   },
   "outputs": [
    {
     "name": "stdout",
     "output_type": "stream",
     "text": [
      "The number of tracks in the training set is: 1510\n"
     ]
    }
   ],
   "source": [
    "print(f\"The number of tracks in the training set is: {training_set['track_id'].nunique()}\")"
   ]
  },
  {
   "cell_type": "markdown",
   "metadata": {
    "colab_type": "text",
    "id": "5-HTnIUQPru0"
   },
   "source": [
    "As said before, there are 1,510 signal tracks split to 6,656 signal segments in the training set.   \n",
    "Participants are asked to classify signal segments.   \n",
    "The tracks and segments' SNR can be Low or High SNR.   \n",
    "In some cases (200 Tracks) the track is in one part Low SNR and another part High SNR."
   ]
  },
  {
   "cell_type": "markdown",
   "metadata": {
    "colab_type": "text",
    "id": "MPCwF-KeGUOZ"
   },
   "source": [
    "*Tracks that have both High and Low SNR are being counted twice as two tracks    \n",
    "(once for High SNR and once for Low SNR) but have the same track id.*\n"
   ]
  },
  {
   "cell_type": "code",
   "execution_count": null,
   "metadata": {
    "colab": {
     "base_uri": "https://localhost:8080/",
     "height": 66
    },
    "colab_type": "code",
    "id": "9nErZAicPFjH",
    "outputId": "aa2c5cc9-28ce-47e2-9bc9-28e8d8cf9e64"
   },
   "outputs": [
    {
     "name": "stdout",
     "output_type": "stream",
     "text": [
      "Number of tracks that are High SNR and Low SNR: 200\n",
      "Number of tracks that are High SNR or Low SNR: 1310\n",
      "Number of total counted tracks (grouped by snr_type and track_id): 1710\n"
     ]
    }
   ],
   "source": [
    "tracks_hsnr_and_lsnr = sum(training_set[['track_id', 'snr_type']].\n",
    "                           groupby('track_id', as_index=False)\n",
    "                           ['snr_type'].nunique()==2)\n",
    "\n",
    "tracks_one_snr = sum(training_set[['track_id', 'snr_type']].\n",
    "                     groupby('track_id', as_index=False)\n",
    "                     ['snr_type'].nunique()==1)\n",
    "\n",
    "total_count_of_tracks = training_set.groupby(['track_id', 'snr_type'], \n",
    "                                             as_index=False).count()['track_id'].count()\n",
    "\n",
    "print(f'Number of tracks that are High SNR and Low SNR: {tracks_hsnr_and_lsnr}')\n",
    "print(f'Number of tracks that are High SNR or Low SNR: {tracks_one_snr}')\n",
    "print(f'Number of total counted tracks (grouped by snr_type and track_id): {total_count_of_tracks}')"
   ]
  },
  {
   "cell_type": "code",
   "execution_count": 16,
   "metadata": {
    "colab": {
     "base_uri": "https://localhost:8080/",
     "height": 548
    },
    "colab_type": "code",
    "id": "xzrFKiRBUBet",
    "outputId": "e34cfb13-3612-4554-b3f2-e834a0a4e640"
   },
   "outputs": [
    {
     "name": "stdout",
     "output_type": "stream",
     "text": [
      "\n",
      " Bar chart - The frequency of tracks lengthes (number of segments in a single track) in the Training set. \n",
      "\n",
      "\n"
     ]
    },
    {
     "data": {
      "image/png": "[encoded data removed]",
      "text/plain": [
       "<Figure size 1440x432 with 2 Axes>"
      ]
     },
     "metadata": {},
     "output_type": "display_data"
    },
    {
     "name": "stdout",
     "output_type": "stream",
     "text": [
      "\n",
      " The number of segments of tracks that are shorter or equal to 11 segments is: 1401\n",
      "\n",
      " The number of segments of tracks that are longer than 11 segments is: 109\n"
     ]
    }
   ],
   "source": [
    "print(\"\\n Bar chart - The frequency of tracks lengthes (number of segments\\\n",
    " in a single track) in the Training set. \\n\\n\")\n",
    "\n",
    "fig = plt.figure()\n",
    "ax1 = fig.add_subplot(1, 2, 1)\n",
    "ax2 = fig.add_subplot(1, 2, 2) \n",
    "\n",
    "segments_int_track = training_set.groupby('track_id')['segment_id'].count()\n",
    "segments_int_track.value_counts(sort=False)[:11].plot(kind='barh', \n",
    "                                                      figsize =(20,6),\n",
    "                                                      ax =ax1 )\n",
    "ax1.set_title(\"Tracks shorter than 11 segments \\n\")\n",
    "ax1.set_ylabel('No. of segments in a single track')\n",
    "ax1.set_xlabel('No. of tracks')\n",
    "\n",
    "for index, value in enumerate(segments_int_track.value_counts(sort=False)[:11]):\n",
    "    ax1.text(value, index, str(value))\n",
    "\n",
    "segments_int_track = training_set.groupby('track_id')['segment_id'].count()\n",
    "segments_int_track.value_counts(sort=False)[11:].plot(kind='barh',\n",
    "                                                      figsize =(20,6),\n",
    "                                                      ax =ax2 )\n",
    "ax2.set_title(\"Tracks longer than 11 segments \\n\")\n",
    "ax2.set_ylabel('No. of segments in a single track', labelpad =15)\n",
    "ax2.set_xlabel('No. of tracks')\n",
    "\n",
    "for index, value in enumerate(segments_int_track.value_counts(sort=False)[11:]):\n",
    "    ax2.text(value, index, str(value))\n",
    "\n",
    "plt.show()\n",
    "\n",
    "print(f\"\\n The number of segments of tracks that are shorter or equal to 11\\\n",
    " segments is: {segments_int_track.value_counts(sort=False)[:11].sum()}\")\n",
    "print(f\"\\n The number of segments of tracks that are longer than 11\\\n",
    " segments is: {segments_int_track.value_counts(sort=False)[11:].sum()}\")"
   ]
  },
  {
   "cell_type": "code",
   "execution_count": 17,
   "metadata": {
    "colab": {},
    "colab_type": "code",
    "id": "8EVRjv5XQs3B"
   },
   "outputs": [],
   "source": [
    "def ratio(series):\n",
    "  \"\"\"\n",
    "  Calculates ratios in a given series.\n",
    "\n",
    "  Arguments:\n",
    "    series -- {series} -- series to calculate ratios for.\n",
    "\n",
    "  Returns:\n",
    "    ratio_results -- {series} -- ratio result for each integer in the\n",
    "                                 series array.\n",
    "  \"\"\"\n",
    "\n",
    "  ratio_results = series.apply(lambda x: '{0:.1%}'.format(x/sum(series)))\n",
    "  \n",
    "  return ratio_results"
   ]
  },
  {
   "cell_type": "code",
   "execution_count": 18,
   "metadata": {
    "colab": {
     "base_uri": "https://localhost:8080/",
     "height": 610
    },
    "colab_type": "code",
    "id": "kRcQVdWQO2co",
    "outputId": "cdcfb895-dfd3-4fd5-e248-60e273fd25c9"
   },
   "outputs": [
    {
     "name": "stdout",
     "output_type": "stream",
     "text": [
      "Training Set\n"
     ]
    },
    {
     "data": {
      "image/png": "[encoded data removed]",
      "text/plain": [
       "<Figure size 720x432 with 2 Axes>"
      ]
     },
     "metadata": {},
     "output_type": "display_data"
    },
    {
     "data": {
      "text/html": [
       "<div>\n",
       "<style scoped>\n",
       "    .dataframe tbody tr th:only-of-type {\n",
       "        vertical-align: middle;\n",
       "    }\n",
       "\n",
       "    .dataframe tbody tr th {\n",
       "        vertical-align: top;\n",
       "    }\n",
       "\n",
       "    .dataframe thead th {\n",
       "        text-align: right;\n",
       "    }\n",
       "</style>\n",
       "<table border=\"1\" class=\"dataframe\">\n",
       "  <thead>\n",
       "    <tr style=\"text-align: right;\">\n",
       "      <th></th>\n",
       "      <th>snr_type</th>\n",
       "      <th>segment_id</th>\n",
       "      <th>ratio</th>\n",
       "    </tr>\n",
       "  </thead>\n",
       "  <tbody>\n",
       "    <tr>\n",
       "      <th>0</th>\n",
       "      <td>HighSNR</td>\n",
       "      <td>2465</td>\n",
       "      <td>37.0%</td>\n",
       "    </tr>\n",
       "    <tr>\n",
       "      <th>1</th>\n",
       "      <td>LowSNR</td>\n",
       "      <td>4191</td>\n",
       "      <td>63.0%</td>\n",
       "    </tr>\n",
       "  </tbody>\n",
       "</table>\n",
       "</div>"
      ],
      "text/plain": [
       "  snr_type  segment_id  ratio\n",
       "0  HighSNR        2465  37.0%\n",
       "1   LowSNR        4191  63.0%"
      ]
     },
     "metadata": {},
     "output_type": "display_data"
    },
    {
     "data": {
      "text/html": [
       "<div>\n",
       "<style scoped>\n",
       "    .dataframe tbody tr th:only-of-type {\n",
       "        vertical-align: middle;\n",
       "    }\n",
       "\n",
       "    .dataframe tbody tr th {\n",
       "        vertical-align: top;\n",
       "    }\n",
       "\n",
       "    .dataframe thead th {\n",
       "        text-align: right;\n",
       "    }\n",
       "</style>\n",
       "<table border=\"1\" class=\"dataframe\">\n",
       "  <thead>\n",
       "    <tr style=\"text-align: right;\">\n",
       "      <th></th>\n",
       "      <th>snr_type</th>\n",
       "      <th>track_id</th>\n",
       "      <th>ratio</th>\n",
       "    </tr>\n",
       "  </thead>\n",
       "  <tbody>\n",
       "    <tr>\n",
       "      <th>0</th>\n",
       "      <td>HighSNR</td>\n",
       "      <td>566</td>\n",
       "      <td>33.1%</td>\n",
       "    </tr>\n",
       "    <tr>\n",
       "      <th>1</th>\n",
       "      <td>LowSNR</td>\n",
       "      <td>1144</td>\n",
       "      <td>66.9%</td>\n",
       "    </tr>\n",
       "  </tbody>\n",
       "</table>\n",
       "</div>"
      ],
      "text/plain": [
       "  snr_type  track_id  ratio\n",
       "0  HighSNR       566  33.1%\n",
       "1   LowSNR      1144  66.9%"
      ]
     },
     "metadata": {},
     "output_type": "display_data"
    }
   ],
   "source": [
    "# Bar chart - compares the number of tracks and segments by snr type in the training set.\n",
    "\n",
    "print(\"Training Set\")\n",
    "fig = plt.figure()\n",
    "\n",
    "ax1 = fig.add_subplot(1, 2, 1)\n",
    "ax2 = fig.add_subplot(1, 2, 2) \n",
    "fig.subplots_adjust(wspace=0.5)\n",
    "\n",
    "segments_hsnr_lsnr = training_set.groupby(\n",
    "    ['snr_type'])['segment_id'].count()\n",
    "tracks_hsnr_lsnr = training_set.groupby(\n",
    "    ['snr_type'])['track_id'].nunique()\n",
    "\n",
    "segments_hsnr_lsnr.plot(kind='bar', figsize=(10,6), ax=ax1)\n",
    "ax1.set_title(\"No. of segments by SNR_type \\n\")\n",
    "ax1.set_ylabel('No. of segments', labelpad =15)\n",
    "ax1.set_xlabel('SNR Type')\n",
    "ax1.set_xticklabels(['High SNR','Low SNR'], rotation =0)\n",
    "ax1.set_ylim(top=5000)\n",
    "ax1.text(-0.13,2700,format(segments_hsnr_lsnr[0],','))\n",
    "ax1.text(0.87,4400,format(segments_hsnr_lsnr[1],','))\n",
    "\n",
    "\n",
    "tracks_hsnr_lsnr.plot(kind='bar', figsize=(10,6), ax=ax2)\n",
    "ax2.set_title(\"No. of tracks by SNR_type \\n\")\n",
    "ax2.set_ylabel('No. of tracks', labelpad =15)\n",
    "ax2.set_xlabel('SNR Type')\n",
    "ax2.set_xticklabels(['High SNR','Low SNR'], rotation =0)\n",
    "ax2.set_ylim(top=1400)\n",
    "ax2.text(-0.09,640,format(tracks_hsnr_lsnr[0],','))\n",
    "ax2.text(0.87,1220,format(tracks_hsnr_lsnr[1],','))\n",
    "\n",
    "\n",
    "plt.show()\n",
    "\n",
    "display(pd.concat([pd.DataFrame(segments_hsnr_lsnr),\n",
    "                   pd.DataFrame(ratio(segments_hsnr_lsnr)).rename(\n",
    "                       columns={'segment_id':'ratio'})], \n",
    "                   axis=1).reset_index())\n",
    "display(pd.concat([pd.DataFrame(tracks_hsnr_lsnr),\n",
    "                   pd.DataFrame(ratio(tracks_hsnr_lsnr)).rename(\n",
    "                       columns={'track_id':'ratio'})],\n",
    "                   axis=1).reset_index())"
   ]
  },
  {
   "cell_type": "markdown",
   "metadata": {
    "colab_type": "text",
    "id": "W7mmCwABPJRe"
   },
   "source": [
    "In the public test set, at this stage, it is only relevant and possible to see the distribution of HighSNR and LowSNR by segments.   \n",
    "The ratio between HighSNR and LowSNR in the test set is more balanced than the ratio in the training set."
   ]
  },
  {
   "cell_type": "code",
   "execution_count": 19,
   "metadata": {
    "colab": {
     "base_uri": "https://localhost:8080/",
     "height": 522
    },
    "colab_type": "code",
    "id": "5I8OhI9hPOpC",
    "outputId": "03859900-d426-423c-8ae7-e09842f33d5e"
   },
   "outputs": [
    {
     "name": "stdout",
     "output_type": "stream",
     "text": [
      "Public test Set\n"
     ]
    },
    {
     "data": {
      "image/png": "[encoded data removed]",
      "text/plain": [
       "<Figure size 720x432 with 1 Axes>"
      ]
     },
     "metadata": {},
     "output_type": "display_data"
    },
    {
     "data": {
      "text/html": [
       "<div>\n",
       "<style scoped>\n",
       "    .dataframe tbody tr th:only-of-type {\n",
       "        vertical-align: middle;\n",
       "    }\n",
       "\n",
       "    .dataframe tbody tr th {\n",
       "        vertical-align: top;\n",
       "    }\n",
       "\n",
       "    .dataframe thead th {\n",
       "        text-align: right;\n",
       "    }\n",
       "</style>\n",
       "<table border=\"1\" class=\"dataframe\">\n",
       "  <thead>\n",
       "    <tr style=\"text-align: right;\">\n",
       "      <th></th>\n",
       "      <th>snr_type</th>\n",
       "      <th>segment_id</th>\n",
       "      <th>ratio</th>\n",
       "    </tr>\n",
       "  </thead>\n",
       "  <tbody>\n",
       "    <tr>\n",
       "      <th>0</th>\n",
       "      <td>HighSNR</td>\n",
       "      <td>56</td>\n",
       "      <td>52.8%</td>\n",
       "    </tr>\n",
       "    <tr>\n",
       "      <th>1</th>\n",
       "      <td>LowSNR</td>\n",
       "      <td>50</td>\n",
       "      <td>47.2%</td>\n",
       "    </tr>\n",
       "  </tbody>\n",
       "</table>\n",
       "</div>"
      ],
      "text/plain": [
       "  snr_type  segment_id  ratio\n",
       "0  HighSNR          56  52.8%\n",
       "1   LowSNR          50  47.2%"
      ]
     },
     "metadata": {},
     "output_type": "display_data"
    }
   ],
   "source": [
    "# Bar chart - compares number of segments by snr type in the public test set.\n",
    "print(\"Public test Set\")\n",
    "fig = plt.figure()\n",
    "ax1 = fig.add_subplot(1, 1, 1)\n",
    "\n",
    "segments_hsnr_lsnr_test = test_set.groupby(['snr_type'])['segment_id'].count()\n",
    "segments_hsnr_lsnr_test.plot(kind='bar', figsize=(10,6), ax=ax1)\n",
    "ax1.set_title(\"No. of segments by SNR_type in the Test set\\n\")\n",
    "ax1.set_ylabel('No. of segments', labelpad =15)\n",
    "ax1.set_xlabel('SNR Type')\n",
    "ax1.set_xticklabels(['High SNR','Low SNR'], rotation =0)\n",
    "ax1.set_ylim(top=100)\n",
    "\n",
    "for index, value in enumerate(segments_hsnr_lsnr_test): \n",
    "    label = format(value, ',') \n",
    "    ax1.annotate(label, xy=(index-0.03 , value+5), color='black')\n",
    "    \n",
    "plt.show()\n",
    "\n",
    "display(pd.concat([pd.DataFrame(segments_hsnr_lsnr_test),pd.DataFrame(\n",
    "  ratio(segments_hsnr_lsnr_test)).rename(\n",
    "      columns={'segment_id':'ratio'})],axis=1).reset_index())"
   ]
  },
  {
   "cell_type": "markdown",
   "metadata": {
    "colab_type": "text",
    "id": "E-9p-4k61U-5"
   },
   "source": [
    "####**Other Training Set Fields Descriptive Statistics**"
   ]
  },
  {
   "cell_type": "markdown",
   "metadata": {
    "colab_type": "text",
    "id": "NQg9iT4yuphi"
   },
   "source": [
    "Tracks and Segments frequencies by target_type and snr_type."
   ]
  },
  {
   "cell_type": "code",
   "execution_count": 20,
   "metadata": {
    "colab": {
     "base_uri": "https://localhost:8080/",
     "height": 326
    },
    "colab_type": "code",
    "id": "AYMy2yauiIsz",
    "outputId": "10e4a90d-d139-47a4-e039-aaa4cc2b3ca8"
   },
   "outputs": [
    {
     "name": "stdout",
     "output_type": "stream",
     "text": [
      "Training Set\n"
     ]
    },
    {
     "data": {
      "image/png": "[encoded data removed]",
      "text/plain": [
       "<Figure size 432x288 with 1 Axes>"
      ]
     },
     "metadata": {},
     "output_type": "display_data"
    }
   ],
   "source": [
    "print(\"Training Set\")\n",
    "target_segments = training_set.groupby(['target_type'])['segment_id'].count()\n",
    "target_segments_hsnr_lsnr = training_set.groupby(\n",
    "    ['target_type','snr_type'])['segment_id'].count()\n",
    "target_tracks_hsnr_lsnr = training_set.groupby(\n",
    "    ['target_type','snr_type'])['track_id'].nunique()\n",
    "target_segments.plot(kind='bar', color=['tab:red','tab:blue'])\n",
    "\n",
    "plt.title('Target type distribution \\n')\n",
    "plt.ylim(top=6500)\n",
    "plt.ylabel('No. of segments')\n",
    "plt.xlabel('Target Type')\n",
    "plt.xticks(rotation =0)\n",
    "plt.text(-0.08,5850,format(target_segments[0],','))\n",
    "plt.text(0.95,970,format(target_segments[1],','))\n",
    "plt.show()"
   ]
  },
  {
   "cell_type": "code",
   "execution_count": null,
   "metadata": {
    "colab": {
     "base_uri": "https://localhost:8080/",
     "height": 533
    },
    "colab_type": "code",
    "id": "WczUlZPDiJMt",
    "outputId": "fa914d1c-17df-4b4b-b941-fcb812610fe0"
   },
   "outputs": [
    {
     "name": "stdout",
     "output_type": "stream",
     "text": [
      "Training Set\n"
     ]
    },
    {
     "data": {
      "image/png": "[encoded data removed]",
      "text/plain": [
       "<Figure size 720x432 with 2 Axes>"
      ]
     },
     "metadata": {
      "needs_background": "light",
      "tags": []
     },
     "output_type": "display_data"
    }
   ],
   "source": [
    "# Bar chart - compares number of segments and tracks by snr type\n",
    "# and target type in the training set.\n",
    "print(\"Training Set\")\n",
    "\n",
    "fig = plt.figure()\n",
    "ax1 = fig.add_subplot(1, 2, 1)\n",
    "ax2 = fig.add_subplot(1, 2, 2) \n",
    "fig.subplots_adjust(wspace=0.5)\n",
    "\n",
    "target_segments_hsnr_lsnr.plot(kind='bar', figsize=(10,6), \n",
    "                               color=[\n",
    "                                      'tab:red','tab:red',\n",
    "                                      'tab:blue','tab:blue'\n",
    "                                      ],\n",
    "                               label='_nolegend_',ax=ax1)\n",
    "ax1.set_title(\"No. of segments \\n\")\n",
    "ax1.set_ylabel('No. of segments', labelpad =15)\n",
    "ax1.set_xlabel('Target type and SNR Type')\n",
    "ax1.set_ylim(top=5000)\n",
    "ax1.bar(0, target_segments_hsnr_lsnr[0], width=0.01, alpha=0.9, \n",
    "        color='tab:red', label='Animal')\n",
    "ax1.bar(2, target_segments_hsnr_lsnr[2], width=0.01, alpha=0.9,\n",
    "        color='tab:blue', label='Human')\n",
    "\n",
    "for index, value in enumerate(target_segments_hsnr_lsnr): \n",
    "  label = format(value, ',') \n",
    "  ax1.annotate(label, xy=(index-0.2 , value+80), color='black')\n",
    "\n",
    "target_tracks_hsnr_lsnr.plot(kind='bar', figsize=(10,6), \n",
    "                             color=['tab:red','tab:red',\n",
    "                                    'tab:blue','tab:blue'\n",
    "                                    ],\n",
    "                             label='_nolegend_', ax=ax2)\n",
    "ax2.set_title(\"No. of tracks \\n\")\n",
    "ax2.set_ylabel('No. of tracks', labelpad =15)\n",
    "ax2.set_xlabel('Target type and SNR Type')\n",
    "ax2.set_ylim(top=1400)\n",
    "\n",
    "for index, value in enumerate(target_tracks_hsnr_lsnr): \n",
    "  label = format(value, ',') \n",
    "  ax2.annotate(label, xy=(index-0.2 , value+20), color='black')\n",
    "\n",
    "fig.legend()\n",
    "plt.show()"
   ]
  },
  {
   "cell_type": "code",
   "execution_count": null,
   "metadata": {
    "colab": {
     "base_uri": "https://localhost:8080/",
     "height": 162
    },
    "colab_type": "code",
    "id": "QSKFh1svx5LU",
    "outputId": "732a578d-5e61-479e-c39b-bbdd528e1815"
   },
   "outputs": [
    {
     "data": {
      "text/html": [
       "<div>\n",
       "<style scoped>\n",
       "    .dataframe tbody tr th:only-of-type {\n",
       "        vertical-align: middle;\n",
       "    }\n",
       "\n",
       "    .dataframe tbody tr th {\n",
       "        vertical-align: top;\n",
       "    }\n",
       "\n",
       "    .dataframe thead th {\n",
       "        text-align: right;\n",
       "    }\n",
       "</style>\n",
       "<table border=\"1\" class=\"dataframe\">\n",
       "  <thead>\n",
       "    <tr style=\"text-align: right;\">\n",
       "      <th></th>\n",
       "      <th>targe_type</th>\n",
       "      <th>snr_type</th>\n",
       "      <th>tracks_count_ratio</th>\n",
       "    </tr>\n",
       "  </thead>\n",
       "  <tbody>\n",
       "    <tr>\n",
       "      <th>0</th>\n",
       "      <td>animal</td>\n",
       "      <td>HighSNR</td>\n",
       "      <td>24.8%</td>\n",
       "    </tr>\n",
       "    <tr>\n",
       "      <th>1</th>\n",
       "      <td>animal</td>\n",
       "      <td>LowSNR</td>\n",
       "      <td>61.6%</td>\n",
       "    </tr>\n",
       "    <tr>\n",
       "      <th>2</th>\n",
       "      <td>human</td>\n",
       "      <td>HighSNR</td>\n",
       "      <td>12.2%</td>\n",
       "    </tr>\n",
       "    <tr>\n",
       "      <th>3</th>\n",
       "      <td>human</td>\n",
       "      <td>LowSNR</td>\n",
       "      <td>1.3%</td>\n",
       "    </tr>\n",
       "  </tbody>\n",
       "</table>\n",
       "</div>"
      ],
      "text/plain": [
       "  targe_type snr_type tracks_count_ratio\n",
       "0     animal  HighSNR              24.8%\n",
       "1     animal   LowSNR              61.6%\n",
       "2      human  HighSNR              12.2%\n",
       "3      human   LowSNR               1.3%"
      ]
     },
     "execution_count": 23,
     "metadata": {
      "tags": []
     },
     "output_type": "execute_result"
    }
   ],
   "source": [
    "target_segments_hsnr_lsnr\n",
    "segments_display = pd.DataFrame(ratio(target_segments_hsnr_lsnr).reset_index())\n",
    "segments_display.columns=['targe_type', 'snr_type', 'tracks_count_ratio']\n",
    "segments_display"
   ]
  },
  {
   "cell_type": "markdown",
   "metadata": {
    "colab_type": "text",
    "id": "d10uYXYEeYli"
   },
   "source": [
    "From tracks perspective the ratios by total are almost the same."
   ]
  },
  {
   "cell_type": "code",
   "execution_count": null,
   "metadata": {
    "colab": {
     "base_uri": "https://localhost:8080/",
     "height": 162
    },
    "colab_type": "code",
    "id": "AEg55M189tv4",
    "outputId": "cfa7270d-0d9c-4dd7-b982-f6f8080683cb"
   },
   "outputs": [
    {
     "data": {
      "text/html": [
       "<div>\n",
       "<style scoped>\n",
       "    .dataframe tbody tr th:only-of-type {\n",
       "        vertical-align: middle;\n",
       "    }\n",
       "\n",
       "    .dataframe tbody tr th {\n",
       "        vertical-align: top;\n",
       "    }\n",
       "\n",
       "    .dataframe thead th {\n",
       "        text-align: right;\n",
       "    }\n",
       "</style>\n",
       "<table border=\"1\" class=\"dataframe\">\n",
       "  <thead>\n",
       "    <tr style=\"text-align: right;\">\n",
       "      <th></th>\n",
       "      <th>targe_type</th>\n",
       "      <th>snr_type</th>\n",
       "      <th>tracks count ratio</th>\n",
       "    </tr>\n",
       "  </thead>\n",
       "  <tbody>\n",
       "    <tr>\n",
       "      <th>0</th>\n",
       "      <td>animal</td>\n",
       "      <td>HighSNR</td>\n",
       "      <td>26.1%</td>\n",
       "    </tr>\n",
       "    <tr>\n",
       "      <th>1</th>\n",
       "      <td>animal</td>\n",
       "      <td>LowSNR</td>\n",
       "      <td>65.0%</td>\n",
       "    </tr>\n",
       "    <tr>\n",
       "      <th>2</th>\n",
       "      <td>human</td>\n",
       "      <td>HighSNR</td>\n",
       "      <td>7.0%</td>\n",
       "    </tr>\n",
       "    <tr>\n",
       "      <th>3</th>\n",
       "      <td>human</td>\n",
       "      <td>LowSNR</td>\n",
       "      <td>1.9%</td>\n",
       "    </tr>\n",
       "  </tbody>\n",
       "</table>\n",
       "</div>"
      ],
      "text/plain": [
       "  targe_type snr_type tracks count ratio\n",
       "0     animal  HighSNR              26.1%\n",
       "1     animal   LowSNR              65.0%\n",
       "2      human  HighSNR               7.0%\n",
       "3      human   LowSNR               1.9%"
      ]
     },
     "execution_count": 24,
     "metadata": {
      "tags": []
     },
     "output_type": "execute_result"
    }
   ],
   "source": [
    "tracks_display = pd.DataFrame(ratio(target_tracks_hsnr_lsnr).reset_index())\n",
    "tracks_display.columns=['targe_type', 'snr_type', 'tracks count ratio']\n",
    "tracks_display"
   ]
  },
  {
   "cell_type": "markdown",
   "metadata": {
    "colab_type": "text",
    "id": "bUUs08Ssy6bB"
   },
   "source": [
    "##### **Crosstabulation on the Segments Frequncy - A Deeper Look**\n",
    "The tables below are crosstabulation of segments frquency by snr_type and target_type.   \n",
    "The Frequency can be presented in different ratios, depending on the perspective.   \n",
    "Counting segments relative to the target type or the SNR type.   \n",
    "\n",
    "For example:    \n",
    "There are 5,757 animal segments and 899 humans segments in the training set.   \n",
    "14% of the segments are Humans and 86% are animals.   \n",
    "37% of the segments are High SNR and 63% are Low SNR.     \n",
    "Splitting the target type by SNR type show that most of the Low SNR segments are animals (98%).   \n",
    "Splitting the SNR type by target type shows that 90% of Humans segments are High SNR and 10% are Low SNR.   \n",
    "\n",
    "See the tables below for more insights."
   ]
  },
  {
   "cell_type": "code",
   "execution_count": null,
   "metadata": {
    "colab": {
     "base_uri": "https://localhost:8080/",
     "height": 718
    },
    "colab_type": "code",
    "id": "HN3K-266tvvf",
    "outputId": "f452b100-70f8-4955-d34c-ef98d20f2229"
   },
   "outputs": [
    {
     "name": "stdout",
     "output_type": "stream",
     "text": [
      "Count segments: \n",
      "\n"
     ]
    },
    {
     "data": {
      "text/html": [
       "<div>\n",
       "<style scoped>\n",
       "    .dataframe tbody tr th:only-of-type {\n",
       "        vertical-align: middle;\n",
       "    }\n",
       "\n",
       "    .dataframe tbody tr th {\n",
       "        vertical-align: top;\n",
       "    }\n",
       "\n",
       "    .dataframe thead th {\n",
       "        text-align: right;\n",
       "    }\n",
       "</style>\n",
       "<table border=\"1\" class=\"dataframe\">\n",
       "  <thead>\n",
       "    <tr style=\"text-align: right;\">\n",
       "      <th>snr_type</th>\n",
       "      <th>HighSNR</th>\n",
       "      <th>LowSNR</th>\n",
       "      <th>All</th>\n",
       "    </tr>\n",
       "    <tr>\n",
       "      <th>target_type</th>\n",
       "      <th></th>\n",
       "      <th></th>\n",
       "      <th></th>\n",
       "    </tr>\n",
       "  </thead>\n",
       "  <tbody>\n",
       "    <tr>\n",
       "      <th>animal</th>\n",
       "      <td>1654</td>\n",
       "      <td>4103</td>\n",
       "      <td>5757</td>\n",
       "    </tr>\n",
       "    <tr>\n",
       "      <th>human</th>\n",
       "      <td>811</td>\n",
       "      <td>88</td>\n",
       "      <td>899</td>\n",
       "    </tr>\n",
       "    <tr>\n",
       "      <th>All</th>\n",
       "      <td>2465</td>\n",
       "      <td>4191</td>\n",
       "      <td>6656</td>\n",
       "    </tr>\n",
       "  </tbody>\n",
       "</table>\n",
       "</div>"
      ],
      "text/plain": [
       "snr_type     HighSNR  LowSNR   All\n",
       "target_type                       \n",
       "animal          1654    4103  5757\n",
       "human            811      88   899\n",
       "All             2465    4191  6656"
      ]
     },
     "metadata": {
      "tags": []
     },
     "output_type": "display_data"
    },
    {
     "name": "stdout",
     "output_type": "stream",
     "text": [
      "\n",
      " Ratio by target type: \n",
      "\n"
     ]
    },
    {
     "data": {
      "text/html": [
       "<div>\n",
       "<style scoped>\n",
       "    .dataframe tbody tr th:only-of-type {\n",
       "        vertical-align: middle;\n",
       "    }\n",
       "\n",
       "    .dataframe tbody tr th {\n",
       "        vertical-align: top;\n",
       "    }\n",
       "\n",
       "    .dataframe thead th {\n",
       "        text-align: right;\n",
       "    }\n",
       "</style>\n",
       "<table border=\"1\" class=\"dataframe\">\n",
       "  <thead>\n",
       "    <tr style=\"text-align: right;\">\n",
       "      <th>snr_type</th>\n",
       "      <th>HighSNR</th>\n",
       "      <th>LowSNR</th>\n",
       "    </tr>\n",
       "    <tr>\n",
       "      <th>target_type</th>\n",
       "      <th></th>\n",
       "      <th></th>\n",
       "    </tr>\n",
       "  </thead>\n",
       "  <tbody>\n",
       "    <tr>\n",
       "      <th>animal</th>\n",
       "      <td>0.29</td>\n",
       "      <td>0.71</td>\n",
       "    </tr>\n",
       "    <tr>\n",
       "      <th>human</th>\n",
       "      <td>0.90</td>\n",
       "      <td>0.10</td>\n",
       "    </tr>\n",
       "  </tbody>\n",
       "</table>\n",
       "</div>"
      ],
      "text/plain": [
       "snr_type     HighSNR  LowSNR\n",
       "target_type                 \n",
       "animal          0.29    0.71\n",
       "human           0.90    0.10"
      ]
     },
     "metadata": {
      "tags": []
     },
     "output_type": "display_data"
    },
    {
     "name": "stdout",
     "output_type": "stream",
     "text": [
      "\n",
      " Ratio by SNR type: \n",
      "\n"
     ]
    },
    {
     "data": {
      "text/html": [
       "<div>\n",
       "<style scoped>\n",
       "    .dataframe tbody tr th:only-of-type {\n",
       "        vertical-align: middle;\n",
       "    }\n",
       "\n",
       "    .dataframe tbody tr th {\n",
       "        vertical-align: top;\n",
       "    }\n",
       "\n",
       "    .dataframe thead th {\n",
       "        text-align: right;\n",
       "    }\n",
       "</style>\n",
       "<table border=\"1\" class=\"dataframe\">\n",
       "  <thead>\n",
       "    <tr style=\"text-align: right;\">\n",
       "      <th>snr_type</th>\n",
       "      <th>HighSNR</th>\n",
       "      <th>LowSNR</th>\n",
       "    </tr>\n",
       "    <tr>\n",
       "      <th>target_type</th>\n",
       "      <th></th>\n",
       "      <th></th>\n",
       "    </tr>\n",
       "  </thead>\n",
       "  <tbody>\n",
       "    <tr>\n",
       "      <th>animal</th>\n",
       "      <td>0.67</td>\n",
       "      <td>0.98</td>\n",
       "    </tr>\n",
       "    <tr>\n",
       "      <th>human</th>\n",
       "      <td>0.33</td>\n",
       "      <td>0.02</td>\n",
       "    </tr>\n",
       "  </tbody>\n",
       "</table>\n",
       "</div>"
      ],
      "text/plain": [
       "snr_type     HighSNR  LowSNR\n",
       "target_type                 \n",
       "animal          0.67    0.98\n",
       "human           0.33    0.02"
      ]
     },
     "metadata": {
      "tags": []
     },
     "output_type": "display_data"
    },
    {
     "name": "stdout",
     "output_type": "stream",
     "text": [
      "\n",
      " Ratio by SNR type and target type: \n",
      "\n"
     ]
    },
    {
     "data": {
      "text/html": [
       "<div>\n",
       "<style scoped>\n",
       "    .dataframe tbody tr th:only-of-type {\n",
       "        vertical-align: middle;\n",
       "    }\n",
       "\n",
       "    .dataframe tbody tr th {\n",
       "        vertical-align: top;\n",
       "    }\n",
       "\n",
       "    .dataframe thead th {\n",
       "        text-align: right;\n",
       "    }\n",
       "</style>\n",
       "<table border=\"1\" class=\"dataframe\">\n",
       "  <thead>\n",
       "    <tr style=\"text-align: right;\">\n",
       "      <th>snr_type</th>\n",
       "      <th>HighSNR</th>\n",
       "      <th>LowSNR</th>\n",
       "      <th>All</th>\n",
       "    </tr>\n",
       "    <tr>\n",
       "      <th>target_type</th>\n",
       "      <th></th>\n",
       "      <th></th>\n",
       "      <th></th>\n",
       "    </tr>\n",
       "  </thead>\n",
       "  <tbody>\n",
       "    <tr>\n",
       "      <th>animal</th>\n",
       "      <td>0.25</td>\n",
       "      <td>0.62</td>\n",
       "      <td>0.86</td>\n",
       "    </tr>\n",
       "    <tr>\n",
       "      <th>human</th>\n",
       "      <td>0.12</td>\n",
       "      <td>0.01</td>\n",
       "      <td>0.14</td>\n",
       "    </tr>\n",
       "    <tr>\n",
       "      <th>All</th>\n",
       "      <td>0.37</td>\n",
       "      <td>0.63</td>\n",
       "      <td>1.00</td>\n",
       "    </tr>\n",
       "  </tbody>\n",
       "</table>\n",
       "</div>"
      ],
      "text/plain": [
       "snr_type     HighSNR  LowSNR   All\n",
       "target_type                       \n",
       "animal          0.25    0.62  0.86\n",
       "human           0.12    0.01  0.14\n",
       "All             0.37    0.63  1.00"
      ]
     },
     "metadata": {
      "tags": []
     },
     "output_type": "display_data"
    }
   ],
   "source": [
    "# Crosstabulation tables presenting same numbers in different perspectives and ratios\n",
    "print(\"Count segments: \\n\")\n",
    "display(pd.crosstab(training_set['target_type'],training_set['snr_type'],\n",
    "                    margins = True).round(2))\n",
    "print(\"\\n Ratio by target type: \\n\")\n",
    "display(pd.crosstab(training_set['target_type'],training_set['snr_type'],\n",
    "                    normalize=0).round(2))\n",
    "print(\"\\n Ratio by SNR type: \\n\")\n",
    "display(pd.crosstab(training_set['target_type'],training_set['snr_type'],\n",
    "                    normalize=1).round(2))\n",
    "print(\"\\n Ratio by SNR type and target type: \\n\")\n",
    "display(pd.crosstab(training_set['target_type'],training_set['snr_type'],\n",
    "                    normalize='all',margins = True).round(2))"
   ]
  },
  {
   "cell_type": "markdown",
   "metadata": {
    "colab_type": "text",
    "id": "BqFqMsCZ67tn"
   },
   "source": [
    "#### **Geolocations**\n",
    "The segments in the training and the test sets are gathered from different geolocations.   \n",
    "One of the goals of this competition is to test the ability of the participants' models to classify well even though   \n",
    "test segments can be from a new and unfamiliar geolocation_type or geolocation_id.   \n",
    "Remember, in the test set there are segments from new geolocations that are not in the training set."
   ]
  },
  {
   "cell_type": "markdown",
   "metadata": {
    "colab_type": "text",
    "id": "eflog0Pe8Hwm"
   },
   "source": [
    "##### **Perfect Multicollinearity - geolocation_id**\n",
    "The geolocation field has Multicollinearity with other fields in the training set.   \n",
    "These relations do not necessarily exist in the auxiliary and test sets.   \n",
    "\n",
    "\n",
    "1. Each geolocation id belongs to one geolocation type (This     \n",
    "statement holds for all data sets). In each geolocation type can be   \n",
    "one or more geolocation id.\n",
    "2. In the training set, each geolocation id has one sensor.\n",
    "3. In the training set, some of the date indices are unique for     specific geolocations.   \n",
    "This means that in some calendar days only one geolocation recorded signals.   \n",
    "4. Some of the geolocations may have only one target type.   \n",
    "5. All geolocations have High and Low SNR segments.\n",
    "\n",
    "*Statements 2 and 3 are not necessarily true for geolocations in the auxiliary and test sets.*"
   ]
  },
  {
   "cell_type": "code",
   "execution_count": null,
   "metadata": {
    "colab": {
     "base_uri": "https://localhost:8080/",
     "height": 195
    },
    "colab_type": "code",
    "id": "dIOgeWGuFIyj",
    "outputId": "a148b1f6-095d-4df0-f525-5c2c83a37281"
   },
   "outputs": [
    {
     "name": "stdout",
     "output_type": "stream",
     "text": [
      "Geolocation id, geolocation type and sensor_id: \n",
      "\n"
     ]
    },
    {
     "data": {
      "text/html": [
       "<div>\n",
       "<style scoped>\n",
       "    .dataframe tbody tr th:only-of-type {\n",
       "        vertical-align: middle;\n",
       "    }\n",
       "\n",
       "    .dataframe tbody tr th {\n",
       "        vertical-align: top;\n",
       "    }\n",
       "\n",
       "    .dataframe thead th {\n",
       "        text-align: right;\n",
       "    }\n",
       "</style>\n",
       "<table border=\"1\" class=\"dataframe\">\n",
       "  <thead>\n",
       "    <tr style=\"text-align: right;\">\n",
       "      <th></th>\n",
       "      <th>geolocation_type</th>\n",
       "      <th>geolocation_id</th>\n",
       "      <th>sensor_id</th>\n",
       "      <th>segment_id count</th>\n",
       "    </tr>\n",
       "  </thead>\n",
       "  <tbody>\n",
       "    <tr>\n",
       "      <th>0</th>\n",
       "      <td>A</td>\n",
       "      <td>2</td>\n",
       "      <td>2</td>\n",
       "      <td>251</td>\n",
       "    </tr>\n",
       "    <tr>\n",
       "      <th>1</th>\n",
       "      <td>A</td>\n",
       "      <td>3</td>\n",
       "      <td>3</td>\n",
       "      <td>4560</td>\n",
       "    </tr>\n",
       "    <tr>\n",
       "      <th>2</th>\n",
       "      <td>C</td>\n",
       "      <td>1</td>\n",
       "      <td>1</td>\n",
       "      <td>944</td>\n",
       "    </tr>\n",
       "    <tr>\n",
       "      <th>3</th>\n",
       "      <td>D</td>\n",
       "      <td>4</td>\n",
       "      <td>4</td>\n",
       "      <td>901</td>\n",
       "    </tr>\n",
       "  </tbody>\n",
       "</table>\n",
       "</div>"
      ],
      "text/plain": [
       "  geolocation_type geolocation_id sensor_id  segment_id count\n",
       "0                A              2         2               251\n",
       "1                A              3         3              4560\n",
       "2                C              1         1               944\n",
       "3                D              4         4               901"
      ]
     },
     "execution_count": 26,
     "metadata": {
      "tags": []
     },
     "output_type": "execute_result"
    }
   ],
   "source": [
    "print('Geolocation id, geolocation type and sensor_id: \\n')\n",
    "display = pd.DataFrame(training_set.groupby(\n",
    "    ['geolocation_type','geolocation_id', 'sensor_id'])['segment_id'].\n",
    "    count())\n",
    "display.columns=['segment_id count']\n",
    "display.reset_index(inplace=True)\n",
    "display"
   ]
  },
  {
   "cell_type": "code",
   "execution_count": null,
   "metadata": {
    "colab": {
     "base_uri": "https://localhost:8080/",
     "height": 396
    },
    "colab_type": "code",
    "id": "MAgZohYSGW9b",
    "outputId": "21079111-fbee-42b3-a261-61884b56fbe5"
   },
   "outputs": [
    {
     "name": "stdout",
     "output_type": "stream",
     "text": [
      "More than 1 geolocation_id in a sindgle date: \n",
      "\n"
     ]
    },
    {
     "data": {
      "text/html": [
       "<div>\n",
       "<style scoped>\n",
       "    .dataframe tbody tr th:only-of-type {\n",
       "        vertical-align: middle;\n",
       "    }\n",
       "\n",
       "    .dataframe tbody tr th {\n",
       "        vertical-align: top;\n",
       "    }\n",
       "\n",
       "    .dataframe thead th {\n",
       "        text-align: right;\n",
       "    }\n",
       "</style>\n",
       "<table border=\"1\" class=\"dataframe\">\n",
       "  <thead>\n",
       "    <tr style=\"text-align: right;\">\n",
       "      <th></th>\n",
       "      <th>date_index</th>\n",
       "      <th>number of locations</th>\n",
       "      <th>geolocation id</th>\n",
       "    </tr>\n",
       "  </thead>\n",
       "  <tbody>\n",
       "    <tr>\n",
       "      <th>0</th>\n",
       "      <td>15</td>\n",
       "      <td>2</td>\n",
       "      <td>[2, 3]</td>\n",
       "    </tr>\n",
       "    <tr>\n",
       "      <th>1</th>\n",
       "      <td>16</td>\n",
       "      <td>2</td>\n",
       "      <td>[2, 3]</td>\n",
       "    </tr>\n",
       "    <tr>\n",
       "      <th>2</th>\n",
       "      <td>17</td>\n",
       "      <td>2</td>\n",
       "      <td>[2, 3]</td>\n",
       "    </tr>\n",
       "    <tr>\n",
       "      <th>3</th>\n",
       "      <td>18</td>\n",
       "      <td>2</td>\n",
       "      <td>[2, 3]</td>\n",
       "    </tr>\n",
       "    <tr>\n",
       "      <th>4</th>\n",
       "      <td>19</td>\n",
       "      <td>2</td>\n",
       "      <td>[2, 3]</td>\n",
       "    </tr>\n",
       "    <tr>\n",
       "      <th>5</th>\n",
       "      <td>20</td>\n",
       "      <td>2</td>\n",
       "      <td>[2, 3]</td>\n",
       "    </tr>\n",
       "    <tr>\n",
       "      <th>6</th>\n",
       "      <td>23</td>\n",
       "      <td>2</td>\n",
       "      <td>[2, 3]</td>\n",
       "    </tr>\n",
       "    <tr>\n",
       "      <th>7</th>\n",
       "      <td>6</td>\n",
       "      <td>2</td>\n",
       "      <td>[2, 3]</td>\n",
       "    </tr>\n",
       "    <tr>\n",
       "      <th>8</th>\n",
       "      <td>7</td>\n",
       "      <td>2</td>\n",
       "      <td>[2, 3]</td>\n",
       "    </tr>\n",
       "    <tr>\n",
       "      <th>9</th>\n",
       "      <td>8</td>\n",
       "      <td>2</td>\n",
       "      <td>[2, 3]</td>\n",
       "    </tr>\n",
       "    <tr>\n",
       "      <th>10</th>\n",
       "      <td>9</td>\n",
       "      <td>2</td>\n",
       "      <td>[2, 3]</td>\n",
       "    </tr>\n",
       "  </tbody>\n",
       "</table>\n",
       "</div>"
      ],
      "text/plain": [
       "   date_index  number of locations geolocation id\n",
       "0          15                    2         [2, 3]\n",
       "1          16                    2         [2, 3]\n",
       "2          17                    2         [2, 3]\n",
       "3          18                    2         [2, 3]\n",
       "4          19                    2         [2, 3]\n",
       "5          20                    2         [2, 3]\n",
       "6          23                    2         [2, 3]\n",
       "7           6                    2         [2, 3]\n",
       "8           7                    2         [2, 3]\n",
       "9           8                    2         [2, 3]\n",
       "10          9                    2         [2, 3]"
      ]
     },
     "execution_count": 27,
     "metadata": {
      "tags": []
     },
     "output_type": "execute_result"
    }
   ],
   "source": [
    "print('More than 1 geolocation_id in a sindgle date: \\n')\n",
    "\n",
    "date_geolocation = training_set.groupby(['date_index'])['geolocation_id'].nunique()\n",
    "date_geolocation = date_geolocation[date_geolocation>1]\n",
    "date_geolocation_unique = training_set.groupby(['date_index'])['geolocation_id'].unique()\n",
    "date_geolocation_unique = date_geolocation_unique.loc[date_geolocation[date_geolocation>1].index]\n",
    "\n",
    "multiple_locations_dates = pd.concat([date_geolocation,date_geolocation_unique],axis=1)\n",
    "multiple_locations_dates.columns = ['number of locations', 'geolocation id']\n",
    "multiple_locations_dates.reset_index()"
   ]
  },
  {
   "cell_type": "markdown",
   "metadata": {
    "colab_type": "text",
    "id": "TbBgHFb90k86"
   },
   "source": [
    "##### **Analysis of the Distribution by target_type and geolocation_id**\n",
    "*See tables and graphs below for an analysis of the distribution of target type and geolocation id.*"
   ]
  },
  {
   "cell_type": "code",
   "execution_count": null,
   "metadata": {
    "colab": {},
    "colab_type": "code",
    "id": "Sp00WuhjEWow"
   },
   "outputs": [],
   "source": [
    "target_geolocation_segments = training_set.groupby(\n",
    "    ['target_type','geolocation_id'])['segment_id'].count()\n",
    "\n",
    "target_geolocation_id_1_and_4_hsnr_lsnr = training_set.groupby(\n",
    "    ['target_type', 'geolocation_id','snr_type'])['segment_id'].count().\\\n",
    "    drop(labels=[('animal', '2'), ('animal', '3')])\n",
    "\n",
    "target_geolocation_id_1_and_4_tracks_hsnr_lsnr = training_set.groupby(\n",
    "    ['target_type', 'geolocation_id', 'snr_type'])['track_id'].nunique().\\\n",
    "    drop(labels=[('animal', '2'), ('animal', '3')])\n"
   ]
  },
  {
   "cell_type": "code",
   "execution_count": null,
   "metadata": {
    "colab": {
     "base_uri": "https://localhost:8080/",
     "height": 903
    },
    "colab_type": "code",
    "id": "g0fQfIWR-kpq",
    "outputId": "bad4c04a-0f33-41ae-8dd4-b4e97904681c"
   },
   "outputs": [
    {
     "name": "stdout",
     "output_type": "stream",
     "text": [
      "Training Set\n"
     ]
    },
    {
     "data": {
      "text/html": [
       "<div>\n",
       "<style scoped>\n",
       "    .dataframe tbody tr th:only-of-type {\n",
       "        vertical-align: middle;\n",
       "    }\n",
       "\n",
       "    .dataframe tbody tr th {\n",
       "        vertical-align: top;\n",
       "    }\n",
       "\n",
       "    .dataframe thead th {\n",
       "        text-align: right;\n",
       "    }\n",
       "</style>\n",
       "<table border=\"1\" class=\"dataframe\">\n",
       "  <thead>\n",
       "    <tr style=\"text-align: right;\">\n",
       "      <th></th>\n",
       "      <th></th>\n",
       "      <th>segment_id count</th>\n",
       "    </tr>\n",
       "    <tr>\n",
       "      <th>target_type</th>\n",
       "      <th>geolocation_id</th>\n",
       "      <th></th>\n",
       "    </tr>\n",
       "  </thead>\n",
       "  <tbody>\n",
       "    <tr>\n",
       "      <th rowspan=\"4\" valign=\"top\">animal</th>\n",
       "      <th>1</th>\n",
       "      <td>468</td>\n",
       "    </tr>\n",
       "    <tr>\n",
       "      <th>2</th>\n",
       "      <td>251</td>\n",
       "    </tr>\n",
       "    <tr>\n",
       "      <th>3</th>\n",
       "      <td>4560</td>\n",
       "    </tr>\n",
       "    <tr>\n",
       "      <th>4</th>\n",
       "      <td>478</td>\n",
       "    </tr>\n",
       "    <tr>\n",
       "      <th rowspan=\"2\" valign=\"top\">human</th>\n",
       "      <th>1</th>\n",
       "      <td>476</td>\n",
       "    </tr>\n",
       "    <tr>\n",
       "      <th>4</th>\n",
       "      <td>423</td>\n",
       "    </tr>\n",
       "  </tbody>\n",
       "</table>\n",
       "</div>"
      ],
      "text/plain": [
       "                            segment_id count\n",
       "target_type geolocation_id                  \n",
       "animal      1                            468\n",
       "            2                            251\n",
       "            3                           4560\n",
       "            4                            478\n",
       "human       1                            476\n",
       "            4                            423"
      ]
     },
     "metadata": {
      "tags": []
     },
     "output_type": "display_data"
    },
    {
     "data": {
      "image/png": "[encoded data removed]",
      "text/plain": [
       "<Figure size 432x288 with 1 Axes>"
      ]
     },
     "metadata": {
      "needs_background": "light",
      "tags": []
     },
     "output_type": "display_data"
    },
    {
     "data": {
      "text/html": [
       "<div>\n",
       "<style scoped>\n",
       "    .dataframe tbody tr th:only-of-type {\n",
       "        vertical-align: middle;\n",
       "    }\n",
       "\n",
       "    .dataframe tbody tr th {\n",
       "        vertical-align: top;\n",
       "    }\n",
       "\n",
       "    .dataframe thead th {\n",
       "        text-align: right;\n",
       "    }\n",
       "</style>\n",
       "<table border=\"1\" class=\"dataframe\">\n",
       "  <thead>\n",
       "    <tr style=\"text-align: right;\">\n",
       "      <th></th>\n",
       "      <th>geolocation_id</th>\n",
       "      <th>snr_type</th>\n",
       "      <th>Animal</th>\n",
       "      <th>Human</th>\n",
       "      <th>Row Total</th>\n",
       "      <th>Animal/Row Total</th>\n",
       "      <th>Human/Row Total</th>\n",
       "    </tr>\n",
       "  </thead>\n",
       "  <tbody>\n",
       "    <tr>\n",
       "      <th>0</th>\n",
       "      <td>1</td>\n",
       "      <td>HighSNR</td>\n",
       "      <td>230</td>\n",
       "      <td>444</td>\n",
       "      <td>674</td>\n",
       "      <td>0.34</td>\n",
       "      <td>0.66</td>\n",
       "    </tr>\n",
       "    <tr>\n",
       "      <th>1</th>\n",
       "      <td>1</td>\n",
       "      <td>LowSNR</td>\n",
       "      <td>238</td>\n",
       "      <td>32</td>\n",
       "      <td>270</td>\n",
       "      <td>0.88</td>\n",
       "      <td>0.12</td>\n",
       "    </tr>\n",
       "    <tr>\n",
       "      <th>2</th>\n",
       "      <td>2</td>\n",
       "      <td>HighSNR</td>\n",
       "      <td>190</td>\n",
       "      <td>0</td>\n",
       "      <td>190</td>\n",
       "      <td>1.00</td>\n",
       "      <td>0.00</td>\n",
       "    </tr>\n",
       "    <tr>\n",
       "      <th>3</th>\n",
       "      <td>2</td>\n",
       "      <td>LowSNR</td>\n",
       "      <td>61</td>\n",
       "      <td>0</td>\n",
       "      <td>61</td>\n",
       "      <td>1.00</td>\n",
       "      <td>0.00</td>\n",
       "    </tr>\n",
       "    <tr>\n",
       "      <th>4</th>\n",
       "      <td>3</td>\n",
       "      <td>HighSNR</td>\n",
       "      <td>1043</td>\n",
       "      <td>0</td>\n",
       "      <td>1043</td>\n",
       "      <td>1.00</td>\n",
       "      <td>0.00</td>\n",
       "    </tr>\n",
       "    <tr>\n",
       "      <th>5</th>\n",
       "      <td>3</td>\n",
       "      <td>LowSNR</td>\n",
       "      <td>3517</td>\n",
       "      <td>0</td>\n",
       "      <td>3517</td>\n",
       "      <td>1.00</td>\n",
       "      <td>0.00</td>\n",
       "    </tr>\n",
       "    <tr>\n",
       "      <th>6</th>\n",
       "      <td>4</td>\n",
       "      <td>HighSNR</td>\n",
       "      <td>191</td>\n",
       "      <td>367</td>\n",
       "      <td>558</td>\n",
       "      <td>0.34</td>\n",
       "      <td>0.66</td>\n",
       "    </tr>\n",
       "    <tr>\n",
       "      <th>7</th>\n",
       "      <td>4</td>\n",
       "      <td>LowSNR</td>\n",
       "      <td>287</td>\n",
       "      <td>56</td>\n",
       "      <td>343</td>\n",
       "      <td>0.84</td>\n",
       "      <td>0.16</td>\n",
       "    </tr>\n",
       "    <tr>\n",
       "      <th>8</th>\n",
       "      <td>Total</td>\n",
       "      <td></td>\n",
       "      <td>5757</td>\n",
       "      <td>899</td>\n",
       "      <td>6656</td>\n",
       "      <td>0.86</td>\n",
       "      <td>0.14</td>\n",
       "    </tr>\n",
       "  </tbody>\n",
       "</table>\n",
       "</div>"
      ],
      "text/plain": [
       "  geolocation_id snr_type  Animal  ...  Row Total  Animal/Row Total  Human/Row Total\n",
       "0              1  HighSNR     230  ...        674              0.34             0.66\n",
       "1              1   LowSNR     238  ...        270              0.88             0.12\n",
       "2              2  HighSNR     190  ...        190              1.00             0.00\n",
       "3              2   LowSNR      61  ...         61              1.00             0.00\n",
       "4              3  HighSNR    1043  ...       1043              1.00             0.00\n",
       "5              3   LowSNR    3517  ...       3517              1.00             0.00\n",
       "6              4  HighSNR     191  ...        558              0.34             0.66\n",
       "7              4   LowSNR     287  ...        343              0.84             0.16\n",
       "8          Total             5757  ...       6656              0.86             0.14\n",
       "\n",
       "[9 rows x 7 columns]"
      ]
     },
     "execution_count": 29,
     "metadata": {
      "tags": []
     },
     "output_type": "execute_result"
    }
   ],
   "source": [
    "print(\"Training Set\")\n",
    "from IPython.display import display\n",
    "display(pd.DataFrame(target_geolocation_segments).rename(\n",
    "    columns={'segment_id':'segment_id count'}))\n",
    "\n",
    "color_list=['tab:red']*4+['tab:blue']*2\n",
    "target_geolocation_segments.plot(kind='bar', color = color_list,\n",
    "                                 label='_nolegend_')\n",
    "plt.bar(0, target_geolocation_segments[0], alpha=0.9, color='tab:red',\n",
    "                label='Animal')\n",
    "plt.bar(6, target_geolocation_segments[4], alpha=0.9, color='tab:blue',\n",
    "                label='Human')\n",
    "plt.title('Target type distribution \\n')\n",
    "plt.ylim(top=6500)\n",
    "plt.ylabel('No. of segments')\n",
    "plt.xlabel('\\n Target Type, Geolocation ID ')\n",
    "\n",
    "for index, value in enumerate(target_geolocation_segments): \n",
    "    label = format(value, ',')\n",
    "    plt.annotate(label, xy=(index-0.2 , value+90), color='black')\n",
    "plt.legend()\n",
    "plt.show()\n",
    "\n",
    "geolocation_distribution = pd.concat(\n",
    "    [pd.crosstab([training_set.geolocation_id,training_set.snr_type],\n",
    "                 training_set.target_type, margins=True, margins_name=\"Total\"),\n",
    "     pd.crosstab([training_set.geolocation_id,training_set.snr_type], \n",
    "                 training_set.target_type, margins=True, normalize=0, \n",
    "                 margins_name=\"Total\").round(2)], axis=1\n",
    "                 )\n",
    "geolocation_distribution.columns = [\n",
    "                                    'Animal', 'Human', 'Row Total',\n",
    "                                    'Animal/Row Total','Human/Row Total'\n",
    "                                    ]\n",
    "geolocation_distribution.reset_index(inplace=True)\n",
    "geolocation_distribution"
   ]
  },
  {
   "cell_type": "markdown",
   "metadata": {
    "colab_type": "text",
    "id": "fBwCoSH4JGiv"
   },
   "source": [
    "The same distribution can be presented from a different angle:"
   ]
  },
  {
   "cell_type": "code",
   "execution_count": null,
   "metadata": {
    "colab": {
     "base_uri": "https://localhost:8080/",
     "height": 220
    },
    "colab_type": "code",
    "id": "Aw-3W_CTIM-e",
    "outputId": "229256c0-eee3-4f85-f80b-df254aea68aa"
   },
   "outputs": [
    {
     "data": {
      "text/html": [
       "<div>\n",
       "<style scoped>\n",
       "    .dataframe tbody tr th:only-of-type {\n",
       "        vertical-align: middle;\n",
       "    }\n",
       "\n",
       "    .dataframe tbody tr th {\n",
       "        vertical-align: top;\n",
       "    }\n",
       "\n",
       "    .dataframe thead th {\n",
       "        text-align: right;\n",
       "    }\n",
       "</style>\n",
       "<table border=\"1\" class=\"dataframe\">\n",
       "  <thead>\n",
       "    <tr style=\"text-align: right;\">\n",
       "      <th></th>\n",
       "      <th></th>\n",
       "      <th>1</th>\n",
       "      <th>2</th>\n",
       "      <th>3</th>\n",
       "      <th>4</th>\n",
       "      <th>Row_Total</th>\n",
       "      <th>Ratio 1</th>\n",
       "      <th>Ratio 2</th>\n",
       "      <th>Ratio 3</th>\n",
       "      <th>Ratio 4</th>\n",
       "    </tr>\n",
       "    <tr>\n",
       "      <th>target_type</th>\n",
       "      <th>snr_type</th>\n",
       "      <th></th>\n",
       "      <th></th>\n",
       "      <th></th>\n",
       "      <th></th>\n",
       "      <th></th>\n",
       "      <th></th>\n",
       "      <th></th>\n",
       "      <th></th>\n",
       "      <th></th>\n",
       "    </tr>\n",
       "  </thead>\n",
       "  <tbody>\n",
       "    <tr>\n",
       "      <th rowspan=\"2\" valign=\"top\">animal</th>\n",
       "      <th>HighSNR</th>\n",
       "      <td>230</td>\n",
       "      <td>190</td>\n",
       "      <td>1043</td>\n",
       "      <td>191</td>\n",
       "      <td>1654</td>\n",
       "      <td>0.14</td>\n",
       "      <td>0.11</td>\n",
       "      <td>0.63</td>\n",
       "      <td>0.12</td>\n",
       "    </tr>\n",
       "    <tr>\n",
       "      <th>LowSNR</th>\n",
       "      <td>238</td>\n",
       "      <td>61</td>\n",
       "      <td>3517</td>\n",
       "      <td>287</td>\n",
       "      <td>4103</td>\n",
       "      <td>0.06</td>\n",
       "      <td>0.01</td>\n",
       "      <td>0.86</td>\n",
       "      <td>0.07</td>\n",
       "    </tr>\n",
       "    <tr>\n",
       "      <th rowspan=\"2\" valign=\"top\">human</th>\n",
       "      <th>HighSNR</th>\n",
       "      <td>444</td>\n",
       "      <td>0</td>\n",
       "      <td>0</td>\n",
       "      <td>367</td>\n",
       "      <td>811</td>\n",
       "      <td>0.55</td>\n",
       "      <td>0.00</td>\n",
       "      <td>0.00</td>\n",
       "      <td>0.45</td>\n",
       "    </tr>\n",
       "    <tr>\n",
       "      <th>LowSNR</th>\n",
       "      <td>32</td>\n",
       "      <td>0</td>\n",
       "      <td>0</td>\n",
       "      <td>56</td>\n",
       "      <td>88</td>\n",
       "      <td>0.36</td>\n",
       "      <td>0.00</td>\n",
       "      <td>0.00</td>\n",
       "      <td>0.64</td>\n",
       "    </tr>\n",
       "    <tr>\n",
       "      <th>Total</th>\n",
       "      <th></th>\n",
       "      <td>944</td>\n",
       "      <td>251</td>\n",
       "      <td>4560</td>\n",
       "      <td>901</td>\n",
       "      <td>6656</td>\n",
       "      <td>0.14</td>\n",
       "      <td>0.04</td>\n",
       "      <td>0.69</td>\n",
       "      <td>0.14</td>\n",
       "    </tr>\n",
       "  </tbody>\n",
       "</table>\n",
       "</div>"
      ],
      "text/plain": [
       "                        1    2     3    4  ...  Ratio 1  Ratio 2  Ratio 3  Ratio 4\n",
       "target_type snr_type                       ...                                    \n",
       "animal      HighSNR   230  190  1043  191  ...     0.14     0.11     0.63     0.12\n",
       "            LowSNR    238   61  3517  287  ...     0.06     0.01     0.86     0.07\n",
       "human       HighSNR   444    0     0  367  ...     0.55     0.00     0.00     0.45\n",
       "            LowSNR     32    0     0   56  ...     0.36     0.00     0.00     0.64\n",
       "Total                 944  251  4560  901  ...     0.14     0.04     0.69     0.14\n",
       "\n",
       "[5 rows x 9 columns]"
      ]
     },
     "execution_count": 30,
     "metadata": {
      "tags": []
     },
     "output_type": "execute_result"
    }
   ],
   "source": [
    "geolocation_distribution = pd.concat(\n",
    "    [pd.crosstab([training_set.target_type, training_set.snr_type],\n",
    "    training_set.geolocation_id, margins=True, margins_name=\"Total\"), \n",
    "    pd.crosstab([training_set.target_type, training_set.snr_type], \n",
    "                training_set.geolocation_id, margins=True, normalize=0,\n",
    "                margins_name=\"Total\").round(2)], axis=1\n",
    "                )\n",
    "geolocation_distribution.columns = [\n",
    "                                    '1', '2', '3', '4', 'Row_Total',\n",
    "                                    'Ratio 1', 'Ratio 2', 'Ratio 3',\n",
    "                                    'Ratio 4',\n",
    "                                    ]\n",
    "geolocation_distribution"
   ]
  },
  {
   "cell_type": "markdown",
   "metadata": {
    "colab_type": "text",
    "id": "MwG8dNDt_nPq"
   },
   "source": [
    "##### **Analysis without geolocation_id 2 and 3**\n",
    "One can see that geolocation 3 is very different from other geolocations and cause for imbalance in the training set.   \n",
    "Also, notice that geolocations 2 and 3 have only Animals segments.   \n",
    "Below, a plot of the same bar chart without geolocations 2 and 3.   "
   ]
  },
  {
   "cell_type": "code",
   "execution_count": null,
   "metadata": {
    "colab": {},
    "colab_type": "code",
    "id": "NhFK6ehtBIS-"
   },
   "outputs": [],
   "source": [
    "target_geolocation_1_and_4_segments = target_geolocation_segments.drop(\n",
    "    labels=[('animal', '2'),('animal', '3')])"
   ]
  },
  {
   "cell_type": "code",
   "execution_count": null,
   "metadata": {
    "colab": {
     "base_uri": "https://localhost:8080/",
     "height": 383
    },
    "colab_type": "code",
    "id": "rP2vp92PAEYP",
    "outputId": "2afdb6ed-1821-4b93-edbb-55c506f77b5d"
   },
   "outputs": [
    {
     "name": "stdout",
     "output_type": "stream",
     "text": [
      "Training set\n"
     ]
    },
    {
     "data": {
      "image/png": "[encoded data removed]",
      "text/plain": [
       "<Figure size 432x288 with 1 Axes>"
      ]
     },
     "metadata": {
      "needs_background": "light",
      "tags": []
     },
     "output_type": "display_data"
    }
   ],
   "source": [
    "print(\"Training set\")\n",
    "\n",
    "color_list=['tab:red']*2+['tab:blue']*2\n",
    "target_geolocation_1_and_4_segments.plot(kind='bar', color = color_list,\n",
    "                                 label='_nolegend_')\n",
    "plt.title('Target type distribution \\n')\n",
    "plt.ylim(top=600)\n",
    "plt.ylabel('No. of segments')\n",
    "plt.xlabel('\\n Target Type, Geolocation ID ')\n",
    "\n",
    "for index, value in enumerate(target_geolocation_1_and_4_segments):\n",
    "  label = format(value, ',')\n",
    "  plt.annotate(label, xy=(index-0.15, value+10), color='black')\n",
    "\n",
    "plt.bar(0, target_geolocation_1_and_4_segments[0], width=0.01, alpha=1, \n",
    "        color='tab:red', label='Animal')\n",
    "plt.bar(2, target_geolocation_1_and_4_segments[2], width=0.01, alpha=1, \n",
    "        color='tab:blue', label='Human')\n",
    "plt.legend()\n",
    "plt.show()"
   ]
  },
  {
   "cell_type": "markdown",
   "metadata": {
    "colab_type": "text",
    "id": "C1gDI9DbBSCH"
   },
   "source": [
    "Excluding geolocations 2 and 3 reveals a more balanced distribution of the target types."
   ]
  },
  {
   "cell_type": "code",
   "execution_count": null,
   "metadata": {
    "colab": {
     "base_uri": "https://localhost:8080/",
     "height": 133
    },
    "colab_type": "code",
    "id": "tkYQ0vi9nL1m",
    "outputId": "2f0dfca3-c3a9-47b5-aa32-cb3b26ad0621"
   },
   "outputs": [
    {
     "data": {
      "text/html": [
       "<div>\n",
       "<style scoped>\n",
       "    .dataframe tbody tr th:only-of-type {\n",
       "        vertical-align: middle;\n",
       "    }\n",
       "\n",
       "    .dataframe tbody tr th {\n",
       "        vertical-align: top;\n",
       "    }\n",
       "\n",
       "    .dataframe thead tr th {\n",
       "        text-align: left;\n",
       "    }\n",
       "</style>\n",
       "<table border=\"1\" class=\"dataframe\">\n",
       "  <thead>\n",
       "    <tr>\n",
       "      <th>target_type</th>\n",
       "      <th colspan=\"2\" halign=\"left\">animal</th>\n",
       "      <th colspan=\"2\" halign=\"left\">human</th>\n",
       "    </tr>\n",
       "    <tr>\n",
       "      <th>geolocation_id</th>\n",
       "      <th>1</th>\n",
       "      <th>4</th>\n",
       "      <th>1</th>\n",
       "      <th>4</th>\n",
       "    </tr>\n",
       "  </thead>\n",
       "  <tbody>\n",
       "    <tr>\n",
       "      <th>count segments</th>\n",
       "      <td>468</td>\n",
       "      <td>478</td>\n",
       "      <td>476</td>\n",
       "      <td>423</td>\n",
       "    </tr>\n",
       "    <tr>\n",
       "      <th>ratio</th>\n",
       "      <td>25.4%</td>\n",
       "      <td>25.9%</td>\n",
       "      <td>25.8%</td>\n",
       "      <td>22.9%</td>\n",
       "    </tr>\n",
       "  </tbody>\n",
       "</table>\n",
       "</div>"
      ],
      "text/plain": [
       "target_type    animal         human       \n",
       "geolocation_id      1      4      1      4\n",
       "count segments    468    478    476    423\n",
       "ratio           25.4%  25.9%  25.8%  22.9%"
      ]
     },
     "execution_count": 33,
     "metadata": {
      "tags": []
     },
     "output_type": "execute_result"
    }
   ],
   "source": [
    "target_geolocation_segments_count_and_ratio_1_and_4 = pd.DataFrame(data=[target_geolocation_1_and_4_segments,\n",
    "                                                                 ratio(target_geolocation_1_and_4_segments)])\n",
    "target_geolocation_segments_count_and_ratio_1_and_4.set_index([['count segments', 'ratio']], inplace=True)\n",
    "target_geolocation_segments_count_and_ratio_1_and_4"
   ]
  },
  {
   "cell_type": "code",
   "execution_count": null,
   "metadata": {
    "colab": {
     "base_uri": "https://localhost:8080/",
     "height": 546
    },
    "colab_type": "code",
    "id": "cv-ISiro-XUn",
    "outputId": "085d28ff-501d-4f52-d513-a668188dfc15"
   },
   "outputs": [
    {
     "name": "stdout",
     "output_type": "stream",
     "text": [
      "Training set\n"
     ]
    },
    {
     "data": {
      "image/png": "[encoded data removed]",
      "text/plain": [
       "<Figure size 1440x432 with 2 Axes>"
      ]
     },
     "metadata": {
      "needs_background": "light",
      "tags": []
     },
     "output_type": "display_data"
    }
   ],
   "source": [
    "# Bar chart - compares number of segments and tracks by snr type\n",
    "# target type and geolocation id in the training set.\n",
    "print(\"Training set\")\n",
    "\n",
    "fig = plt.figure()\n",
    "ax1 = fig.add_subplot(1, 2, 1)\n",
    "ax2 = fig.add_subplot(1, 2, 2) \n",
    "fig.subplots_adjust(wspace=0.25)\n",
    "color_list=['tab:red']*4+['tab:blue']*4\n",
    "\n",
    "target_geolocation_id_1_and_4_hsnr_lsnr.plot(kind='bar', figsize=(20,6), \n",
    "                                  color = color_list, label='_nolegend_',\n",
    "                                  ax=ax1)\n",
    "ax1.set_title(\"No. of segments by target type \\n\")\n",
    "ax1.set_ylabel('No. of segments', labelpad =15)\n",
    "ax1.set_xlabel('Target Type,  Geolocation ID, SNR type')\n",
    "ax1.bar(0, target_geolocation_id_1_and_4_hsnr_lsnr[0], width=0.01, alpha=0.9, \n",
    "        color='tab:red', label='Animal')\n",
    "ax1.bar(2, target_geolocation_id_1_and_4_hsnr_lsnr[6], width=0.01, alpha=0.9,\n",
    "        color='tab:blue', label='Human')\n",
    "\n",
    "for index, value in enumerate(target_geolocation_id_1_and_4_hsnr_lsnr):\n",
    "  label = format(value, ',')\n",
    "  ax1.annotate(label, xy=(index-0.15, value+7), color='black')\n",
    "\n",
    "\n",
    "target_geolocation_id_1_and_4_tracks_hsnr_lsnr.plot(kind='bar', figsize=(20,6), \n",
    "                                         color=color_list, label='_nolegend_',\n",
    "                                         ax=ax2)\n",
    "ax2.set_title(\"No. of tracks by SNR_type \\n\")\n",
    "ax2.set_ylabel('No. of tracks', labelpad =15)\n",
    "ax2.set_xlabel('Target Type, Geolocation ID, SNR type')\n",
    "\n",
    "ax2.set_ylim(top=110)\n",
    "for index, value in enumerate(target_geolocation_id_1_and_4_tracks_hsnr_lsnr):\n",
    "  label = format(value, ',')\n",
    "  ax2.annotate(label, xy=(index-0.1, value+2), color='black')\n",
    "\n",
    "fig.legend()\n",
    "plt.show()\n"
   ]
  },
  {
   "cell_type": "markdown",
   "metadata": {
    "colab_type": "text",
    "id": "gJq47q9pESK6"
   },
   "source": [
    "### **Auxiliary**\n",
    "The auxiliary dataset is separated into 3 sets:   \n",
    "\n",
    "1. **Synthetic**   \n",
    "File name: *MAFAT RADAR Challenge - Auxiliary Synthetic Set V1*      \n",
    "This set is an augmentation of the High SNR segments from the train set. The High SNR segments transformed into Low SNR by adding random \"white noise\" to each segment. Therefore, the distribution of this set is identical to the distribution of the High SNR segments in the training set. \n",
    "     \n",
    "2. **Background (empty) Tracks**   \n",
    "File name: *MAFAT RADAR Challenge - Auxiliary Background(empty) Set V1*   \n",
    "The segments in this set are signals in the same geolocation, time and direction that did not recieve the target.   \n",
    "The target (human or animal) does not appear in these segments.   \n",
    "These tracks can help to separate between the \"background noise\" and the target. Background segments are available only in geolocation_ids 2,3,5,6. \n",
    "    \n",
    "3. **Experiment geolocations (geolocation_id 5,6,7)**   \n",
    "File name: *MAFAT RADAR Challenge - Auxiliary Experiment Set V1*     \n",
    "This set has segments of humans from 3 different geolocations.   \n",
    "The signals from these geolocations are not \"natural\" recordings (as opposed to the segments in the training and test set) of humans.   \n",
    "These geolocations are used for controlled tests of the radars.      "
   ]
  },
  {
   "cell_type": "markdown",
   "metadata": {
    "colab_type": "text",
    "id": "T738CawyuTjO"
   },
   "source": [
    "#### **Auxiliary - Summary Descriptive Statistics**\n",
    "\n",
    "\n",
    "*   The Auxiliary Synthetic set has segments from all geolocation_id. There are 50,883 segments from 3,232 tracks.    \n",
    "These equal to the number of segments and tracks of High SNR in the Training and Experiment data sets.   \n",
    "The snr_type value is labeled \"SynthSNR\".\n",
    "*   The Auxiliary Background set has segments from 4 geolocation_id ([2, 3] - only animals, [5, 6] - only humans). There are 31,128 segments from 3,064 tracks.   \n",
    "The target_type is labeled \"empty\".\n",
    "*   The Auxiliary Experiment set has segments from 3 geolocation_id (5, 6, 7), all segments of the same target (\"human\"). There are 49,071 segments from 3,006 tracks. "
   ]
  },
  {
   "cell_type": "code",
   "execution_count": null,
   "metadata": {
    "colab": {},
    "colab_type": "code",
    "id": "6KJohHj3085o"
   },
   "outputs": [],
   "source": [
    "synthetic_path = 'MAFAT RADAR Challenge - Auxiliary Synthetic Set V1'\n",
    "background_path = 'MAFAT RADAR Challenge - Auxiliary Background(empty) Set V1'\n",
    "experiment_path = 'MAFAT RADAR Challenge - Auxiliary Experiment Set V1'\n",
    "\n",
    "synthetic_set = load_csv_metadata(synthetic_path)\n",
    "background_set = load_csv_metadata(background_path)\n",
    "experiment_set = load_csv_metadata(experiment_path)"
   ]
  },
  {
   "cell_type": "code",
   "execution_count": null,
   "metadata": {
    "colab": {
     "base_uri": "https://localhost:8080/",
     "height": 66
    },
    "colab_type": "code",
    "id": "hK7uHahA2KH4",
    "outputId": "30131626-e784-4e51-ff2b-bb140e76df3c"
   },
   "outputs": [
    {
     "name": "stdout",
     "output_type": "stream",
     "text": [
      "The Synthetic set shape is: (50883, 8)\n",
      "The Background set shape is: (31128, 8)\n",
      "The Experiment geolocations set shape is: (49071, 8)\n"
     ]
    }
   ],
   "source": [
    "print(f\"The Synthetic set shape is: {synthetic_set.shape}\")\n",
    "print(f\"The Background set shape is: {background_set.shape}\")\n",
    "print(f\"The Experiment geolocations set shape is: {experiment_set.shape}\")\n"
   ]
  },
  {
   "cell_type": "code",
   "execution_count": null,
   "metadata": {
    "colab": {
     "base_uri": "https://localhost:8080/",
     "height": 261
    },
    "colab_type": "code",
    "id": "6BJ-79Uj3FQx",
    "outputId": "d4ab7829-b447-4e88-f55f-621eb8e0f7ba"
   },
   "outputs": [
    {
     "name": "stdout",
     "output_type": "stream",
     "text": [
      "Tracks count in synthetic_set\n",
      "Number of tracks that are High SNR and Low SNR: 0\n",
      "Number of tracks that are High SNR or Low SNR: 3,232\n",
      "Number of total counted tracks (grouped by snr_type and track_id): 3,232 \n",
      "\n",
      "Tracks count in background_set\n",
      "Number of tracks that are High SNR and Low SNR: 177\n",
      "Number of tracks that are High SNR or Low SNR: 2,710\n",
      "Number of total counted tracks (grouped by snr_type and track_id): 3,064 \n",
      "\n",
      "Tracks count in experiment_set\n",
      "Number of tracks that are High SNR and Low SNR: 288\n",
      "Number of tracks that are High SNR or Low SNR: 2,430\n",
      "Number of total counted tracks (grouped by snr_type and track_id): 3,006 \n",
      "\n"
     ]
    }
   ],
   "source": [
    "for df in [synthetic_set, background_set, experiment_set]:\n",
    "  tracks_hsnr_and_lsnr = sum(df[['track_id', 'snr_type']].\n",
    "                            groupby('track_id', as_index=False)\n",
    "                            ['snr_type'].nunique()==2)\n",
    "\n",
    "  tracks_one_snr = sum(df[['track_id', 'snr_type']].\n",
    "                      groupby('track_id', as_index=False)\n",
    "                      ['snr_type'].nunique()==1)\n",
    "\n",
    "  total_count_of_tracks = df.groupby(['track_id', 'snr_type'], \n",
    "                                              as_index=False).count()['track_id'].count()\n",
    "  \n",
    "  df.name =[x for x in globals() if globals()[x] is df][0]\n",
    "  print(f'Tracks count in {df.name}')\n",
    "  print(f'Number of tracks that are High SNR and Low SNR: {tracks_hsnr_and_lsnr:,}')\n",
    "  print(f'Number of tracks that are High SNR or Low SNR: {tracks_one_snr:,}')\n",
    "  print(f'Number of total counted tracks (grouped by snr_type and track_id): {total_count_of_tracks:,} \\n')"
   ]
  },
  {
   "cell_type": "markdown",
   "metadata": {
    "colab_type": "text",
    "id": "7Z7ofSTtaZ4g"
   },
   "source": [
    "#### **Relation between Auxiliary and Training data sets - *Important!**\n",
    "Connecting between the segments in the Synthetic and Background data sets to the training set \"original\" segments can be done by using the segment_id.   \n",
    "The background's segments have segment_id with 1,000,000 added to the original segment_id in the training set, and the synthetic's segments have segment_id with 2,000,000 added to the original segment_id in the training set.    \n",
    "For example:   \n",
    "segment_id in the training set of an High SNR = 123   \n",
    "segment_id of the background segment = 1,000,123   \n",
    "segment_id of the synthetic segment = 2,000,123  \n"
   ]
  },
  {
   "cell_type": "markdown",
   "metadata": {},
   "source": [
    "# Observe tracking"
   ]
  },
  {
   "cell_type": "code",
   "execution_count": 1,
   "metadata": {},
   "outputs": [],
   "source": [
    "import pickle\n",
    "import numpy as np"
   ]
  },
  {
   "cell_type": "code",
   "execution_count": 2,
   "metadata": {},
   "outputs": [],
   "source": [
    "train_data_path = \"/home/agarcia/repos/mafat-radar-challenge/mafat_radar_challenge/data/MAFAT RADAR Challenge - Training Set V1.pkl\"\n",
    "with open(train_data_path, 'rb') as data:\n",
    "    train_data = pickle.load(data)"
   ]
  },
  {
   "cell_type": "code",
   "execution_count": 7,
   "metadata": {},
   "outputs": [
    {
     "data": {
      "text/plain": [
       "(6656, 32)"
      ]
     },
     "execution_count": 7,
     "metadata": {},
     "output_type": "execute_result"
    }
   ],
   "source": [
    "train_data[\"doppler_burst\"].shape"
   ]
  },
  {
   "cell_type": "code",
   "execution_count": 4,
   "metadata": {},
   "outputs": [
    {
     "data": {
      "text/plain": [
       "66.27764423076923"
      ]
     },
     "execution_count": 4,
     "metadata": {},
     "output_type": "execute_result"
    }
   ],
   "source": [
    "np.mean(np.max(train_data[\"doppler_burst\"], axis=1) - np.min(train_data[\"doppler_burst\"], axis=1))"
   ]
  },
  {
   "cell_type": "code",
   "execution_count": 11,
   "metadata": {},
   "outputs": [
    {
     "data": {
      "text/plain": [
       "46.40854220992392"
      ]
     },
     "execution_count": 11,
     "metadata": {},
     "output_type": "execute_result"
    }
   ],
   "source": [
    "np.mean(np.std(train_data[\"doppler_burst\"], axis=1))*2"
   ]
  },
  {
   "cell_type": "code",
   "execution_count": 18,
   "metadata": {},
   "outputs": [
    {
     "data": {
      "text/plain": [
       "92.81708441984784"
      ]
     },
     "execution_count": 18,
     "metadata": {},
     "output_type": "execute_result"
    }
   ],
   "source": [
    "np.mean(np.std(train_data[\"doppler_burst\"], axis=1))*4"
   ]
  },
  {
   "cell_type": "code",
   "execution_count": 13,
   "metadata": {},
   "outputs": [
    {
     "data": {
      "text/plain": [
       "array([ 31, 120,  16, ...,  14,  37,  32], dtype=uint8)"
      ]
     },
     "execution_count": 13,
     "metadata": {},
     "output_type": "execute_result"
    }
   ],
   "source": [
    "np.max(train_data[\"doppler_burst\"], axis=1) - np.min(train_data[\"doppler_burst\"], axis=1)"
   ]
  }
 ],
 "metadata": {
  "colab": {
   "collapsed_sections": [],
   "name": "MAFAT Radar Challenge - Descriptive Statistics",
   "provenance": [],
   "toc_visible": true
  },
  "kernelspec": {
   "display_name": "Python 3",
   "language": "python",
   "name": "python3"
  },
  "language_info": {
   "codemirror_mode": {
    "name": "ipython",
    "version": 3
   },
   "file_extension": ".py",
   "mimetype": "text/x-python",
   "name": "python",
   "nbconvert_exporter": "python",
   "pygments_lexer": "ipython3",
   "version": "3.8.4"
  }
 },
 "nbformat": 4,
 "nbformat_minor": 1
}
