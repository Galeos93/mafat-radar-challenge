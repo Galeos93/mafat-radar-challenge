{
 "cells": [
  {
   "cell_type": "code",
   "execution_count": 5,
   "metadata": {},
   "outputs": [],
   "source": [
    "import torch\n",
    "import numpy as np\n",
    "import cv2\n",
    "import pandas as pd\n",
    "import os\n",
    "from functools import partial\n",
    "import itertools\n",
    "from collections import defaultdict\n",
    "from glob import glob\n",
    "\n",
    "from albumentations import (\n",
    "    HorizontalFlip,\n",
    "    VerticalFlip,\n",
    "    Rotate,\n",
    "    NoOp,\n",
    ")\n",
    "import tqdm\n",
    "from sklearn import metrics\n",
    "from scipy.optimize import minimize\n",
    "from scipy.stats import rankdata\n",
    "from zipfile import ZipFile\n",
    "\n",
    "import mafat_radar_challenge.data_loader.augmentation as module_aug\n",
    "import mafat_radar_challenge.data_loader.data_loaders as module_data\n",
    "import mafat_radar_challenge.model.loss as module_loss\n",
    "import mafat_radar_challenge.model.metric as module_metric\n",
    "import mafat_radar_challenge.model.model as module_arch\n",
    "from mafat_radar_challenge.trainer import Trainer, MAFATTrainer\n",
    "from mafat_radar_challenge.utils import setup_logger\n",
    "from mafat_radar_challenge.tester import MAFATTester\n",
    "import mafat_radar_challenge.data_loader.data_splitter as module_splitter\n",
    "import mafat_radar_challenge.data_loader.samplers as module_sampler\n",
    "import mafat_radar_challenge.data_loader.mixers as module_mix\n",
    "\n",
    "from mafat_radar_challenge.main import get_instance, setup_device\n",
    "from mafat_radar_challenge.cli import load_config"
   ]
  },
  {
   "cell_type": "code",
   "execution_count": 6,
   "metadata": {},
   "outputs": [],
   "source": [
    "def predict(model_path, \n",
    "            data_path=None, \n",
    "            metadata_path=None, \n",
    "            tta_transforms=[\n",
    "                NoOp(p=1),\n",
    "                HorizontalFlip(p=1),\n",
    "                VerticalFlip(p=1),\n",
    "            ]\n",
    "           ):\n",
    "    print(model_path)\n",
    "    # Setup\n",
    "    cfg = load_config(os.path.join(os.path.dirname(model_path), \"config.yml\"))\n",
    "    cfg[\"augmentation\"][\"type\"] = \"ImgAugTTATransform\" # TTA Augmentation\n",
    "    transforms = get_instance(module_aug, \"augmentation\", cfg)\n",
    "\n",
    "    cfg[\"val_data_loader\"][\"type\"] = \"MAFATTestDataLoader\"\n",
    "    cfg[\"val_data_loader\"][\"args\"].pop('shuffle', None)\n",
    "    if (data_path is not None) and (metadata_path is not None):\n",
    "        cfg[\"val_data_loader\"][\"args\"][\"batch_size\"] = 32\n",
    "        cfg[\"val_data_loader\"][\"args\"][\"data_dir\"] = data_path\n",
    "        cfg[\"val_data_loader\"][\"args\"][\"csv_dir\"] = metadata_path\n",
    "        \n",
    "    setattr(transforms, \"TRANSFORM_LIST\", tta_transforms)\n",
    "    transforms_list = getattr(transforms, \"TRANSFORM_LIST\")  # TTA Augmentation\n",
    "    tta_preds_list = list()  # TTA Augmentation\n",
    "    \n",
    "    for idx, transformation in enumerate(transforms_list):\n",
    "        transforms.CURR_TRANSFORM = transformation\n",
    "        valid_data_loader = get_instance(module_data, \"val_data_loader\", cfg, transforms)\n",
    "        validation_df = valid_data_loader.dataset.df.copy()\n",
    "        model = get_instance(module_arch, \"arch\", cfg)\n",
    "        checkpoint = torch.load(model_path)\n",
    "        model.load_state_dict(checkpoint[\"state_dict\"])\n",
    "        model, device = setup_device(model, cfg[\"target_devices\"])\n",
    "        model.eval()\n",
    "\n",
    "        # Predict\n",
    "        counter = 0\n",
    "        preds = list()\n",
    "        with torch.no_grad():\n",
    "            for idx, data in enumerate(valid_data_loader):\n",
    "                if isinstance(data, list):\n",
    "                    for i, _ in enumerate(data):\n",
    "                        data[i] = data[i].to(device)\n",
    "                else:\n",
    "                    data = data.to(device)\n",
    "                output = model(data).cpu()\n",
    "                output = torch.sigmoid(output)\n",
    "                preds.append(output.cpu().numpy())\n",
    "\n",
    "        preds = np.vstack(preds).reshape(-1).tolist()\n",
    "        tta_preds_list.append(preds)\n",
    "\n",
    "    validation_df[\"score\"] = np.mean(tta_preds_list, axis=0)\n",
    "    return validation_df\n",
    "\n",
    "def power_average(df_list, weights, axis=0):\n",
    "    df_final = df_list[0].copy()\n",
    "    df_final[\"weighted_score\"] = np.mean([df.score**weight for df, weight in zip(df_list, weights)], axis=axis)\n",
    "    return df_final   \n",
    "\n",
    "def create_submission(weights, pred_list, aggregation_function):\n",
    "    final_dfs = [x[0].copy() for x in pred_list]\n",
    "    groupwise_scores = [np.mean([y.score.values for y in x], axis=0) for x in pred_list]\n",
    "    for idx, x in enumerate(final_dfs):\n",
    "        x[\"score\"] = groupwise_scores[idx]\n",
    "    agg_df = aggregation_function(final_dfs, weights=weights)\n",
    "    return agg_df\n",
    "\n",
    "def auc_score(gt, preds):\n",
    "    fpr, tpr, th = metrics.roc_curve(gt, preds)\n",
    "    return -metrics.auc(fpr, tpr)"
   ]
  },
  {
   "cell_type": "code",
   "execution_count": 7,
   "metadata": {},
   "outputs": [],
   "source": [
    "candidate_models_folds = [    \n",
    "    [\"/mnt/agarcia_HDD/mafat-radar-challenge-experiment/MAFAT_b2_all_data/1012-234226/checkpoints/model_best.pth\"],\n",
    "    [\"/mnt/agarcia_HDD/mafat-radar-challenge-experiment/MAFAT_b3_all_data/1013-022349/checkpoints/model_best-swa.pth\"],\n",
    "    [\"/mnt/agarcia_HDD/mafat-radar-challenge-experiment/MAFAT_b4_all_data/1013-064711/checkpoints/model_best-swa.pth\"]]"
   ]
  },
  {
   "cell_type": "code",
   "execution_count": 8,
   "metadata": {},
   "outputs": [
    {
     "name": "stderr",
     "output_type": "stream",
     "text": [
      "\r",
      "0it [00:00, ?it/s]"
     ]
    },
    {
     "name": "stdout",
     "output_type": "stream",
     "text": [
      "/home/agarcia/repos/mafat-radar-challenge/submissions/borrar/MAFAT_b2_all_data\n",
      "/mnt/agarcia_HDD/mafat-radar-challenge-experiment/MAFAT_b2_all_data/1012-234226/checkpoints/model_best.pth\n",
      "Using NoOp(always_apply=False, p=1)\n",
      "Loaded pretrained weights for efficientnet-b2\n",
      "Using HorizontalFlip(always_apply=False, p=1)\n",
      "Loaded pretrained weights for efficientnet-b2\n",
      "Using VerticalFlip(always_apply=False, p=1)\n",
      "Loaded pretrained weights for efficientnet-b2\n"
     ]
    },
    {
     "name": "stderr",
     "output_type": "stream",
     "text": [
      "\r",
      "1it [00:01,  1.99s/it]"
     ]
    },
    {
     "name": "stdout",
     "output_type": "stream",
     "text": [
      "/home/agarcia/repos/mafat-radar-challenge/submissions/borrar/MAFAT_b3_all_data\n",
      "/mnt/agarcia_HDD/mafat-radar-challenge-experiment/MAFAT_b3_all_data/1013-022349/checkpoints/model_best-swa.pth\n",
      "Using NoOp(always_apply=False, p=1)\n",
      "Loaded pretrained weights for efficientnet-b3\n",
      "Using HorizontalFlip(always_apply=False, p=1)\n",
      "Loaded pretrained weights for efficientnet-b3\n",
      "Using VerticalFlip(always_apply=False, p=1)\n",
      "Loaded pretrained weights for efficientnet-b3\n"
     ]
    },
    {
     "name": "stderr",
     "output_type": "stream",
     "text": [
      "\r",
      "2it [00:04,  2.19s/it]"
     ]
    },
    {
     "name": "stdout",
     "output_type": "stream",
     "text": [
      "/home/agarcia/repos/mafat-radar-challenge/submissions/borrar/MAFAT_b4_all_data\n",
      "/mnt/agarcia_HDD/mafat-radar-challenge-experiment/MAFAT_b4_all_data/1013-064711/checkpoints/model_best-swa.pth\n",
      "Using NoOp(always_apply=False, p=1)\n",
      "Loaded pretrained weights for efficientnet-b4\n",
      "Using HorizontalFlip(always_apply=False, p=1)\n",
      "Loaded pretrained weights for efficientnet-b4\n",
      "Using VerticalFlip(always_apply=False, p=1)\n",
      "Loaded pretrained weights for efficientnet-b4\n"
     ]
    },
    {
     "name": "stderr",
     "output_type": "stream",
     "text": [
      "3it [00:09,  3.03s/it]\n"
     ]
    }
   ],
   "source": [
    "output_path = \"/home/agarcia/repos/mafat-radar-challenge/submissions/ensemble_two\"\n",
    "# data_paths = [\"/home/agarcia/repos/mafat-radar-challenge/mafat_radar_challenge/data/mafat_private_test_v9_spectrogram.npy\"]*len(candidate_models_folds)\n",
    "data_paths = [\"/home/agarcia/repos/mafat-radar-challenge/mafat_radar_challenge/data/MAFAT RADAR Challenge - Private Test Set V1.pkl\"]*len(candidate_models_folds)\n",
    "metadata_paths = [\"/home/agarcia/repos/mafat-radar-challenge/mafat_radar_challenge/data/MAFAT RADAR Challenge - Private Test Set V1.csv\"]*len(candidate_models_folds)\n",
    "group_dfs = list()\n",
    "for data_path, metadata_path, models in tqdm.tqdm(zip(data_paths, metadata_paths, candidate_models_folds)):\n",
    "    fold_dfs = list()\n",
    "    for model in models:\n",
    "        model_alias = os.path.join(output_path, model.split(os.sep)[-4])\n",
    "        print(model_alias)\n",
    "        df = predict(model, data_path, metadata_path)\n",
    "        df.to_csv(os.path.join(output_path, model_alias) + \"-private-test.csv\", index=False)  \n",
    "        fold_dfs.append(df.copy())\n",
    "    group_dfs.append(fold_dfs)"
   ]
  },
  {
   "cell_type": "code",
   "execution_count": 9,
   "metadata": {},
   "outputs": [],
   "source": [
    "partial_opt_fun = partial(create_submission, \n",
    "                          pred_list=group_dfs, \n",
    "                          aggregation_function=power_average)"
   ]
  },
  {
   "cell_type": "code",
   "execution_count": 10,
   "metadata": {},
   "outputs": [],
   "source": [
    "submission = partial_opt_fun([ 0.6787341 , 24.11685955,  0.07866237])\n",
    "# auc_score(submission.label, submission.weighted_score)"
   ]
  },
  {
   "cell_type": "code",
   "execution_count": 11,
   "metadata": {},
   "outputs": [
    {
     "data": {
      "text/plain": [
       "<matplotlib.axes._subplots.AxesSubplot at 0x7f1ce0f724f0>"
      ]
     },
     "execution_count": 11,
     "metadata": {},
     "output_type": "execute_result"
    },
    {
     "data": {
      "image/png": "[encoded data removed]",
      "text/plain": [
       "<Figure size 432x288 with 1 Axes>"
      ]
     },
     "metadata": {
      "needs_background": "light"
     },
     "output_type": "display_data"
    }
   ],
   "source": [
    "submission.weighted_score.hist()"
   ]
  },
  {
   "cell_type": "code",
   "execution_count": 12,
   "metadata": {},
   "outputs": [],
   "source": [
    "submission = submission[[\"segment_id\", \"weighted_score\"]]\n",
    "submission.columns = [\"segment_id\", \"prediction\"]"
   ]
  },
  {
   "cell_type": "code",
   "execution_count": 13,
   "metadata": {},
   "outputs": [
    {
     "data": {
      "text/html": [
       "<div>\n",
       "<style scoped>\n",
       "    .dataframe tbody tr th:only-of-type {\n",
       "        vertical-align: middle;\n",
       "    }\n",
       "\n",
       "    .dataframe tbody tr th {\n",
       "        vertical-align: top;\n",
       "    }\n",
       "\n",
       "    .dataframe thead th {\n",
       "        text-align: right;\n",
       "    }\n",
       "</style>\n",
       "<table border=\"1\" class=\"dataframe\">\n",
       "  <thead>\n",
       "    <tr style=\"text-align: right;\">\n",
       "      <th></th>\n",
       "      <th>segment_id</th>\n",
       "      <th>prediction</th>\n",
       "    </tr>\n",
       "  </thead>\n",
       "  <tbody>\n",
       "    <tr>\n",
       "      <th>0</th>\n",
       "      <td>6940</td>\n",
       "      <td>0.926948</td>\n",
       "    </tr>\n",
       "    <tr>\n",
       "      <th>1</th>\n",
       "      <td>6941</td>\n",
       "      <td>0.310968</td>\n",
       "    </tr>\n",
       "    <tr>\n",
       "      <th>2</th>\n",
       "      <td>6942</td>\n",
       "      <td>0.215187</td>\n",
       "    </tr>\n",
       "    <tr>\n",
       "      <th>3</th>\n",
       "      <td>6943</td>\n",
       "      <td>0.674401</td>\n",
       "    </tr>\n",
       "    <tr>\n",
       "      <th>4</th>\n",
       "      <td>6944</td>\n",
       "      <td>0.350532</td>\n",
       "    </tr>\n",
       "  </tbody>\n",
       "</table>\n",
       "</div>"
      ],
      "text/plain": [
       "   segment_id  prediction\n",
       "0        6940    0.926948\n",
       "1        6941    0.310968\n",
       "2        6942    0.215187\n",
       "3        6943    0.674401\n",
       "4        6944    0.350532"
      ]
     },
     "execution_count": 13,
     "metadata": {},
     "output_type": "execute_result"
    }
   ],
   "source": [
    "submission.head()"
   ]
  },
  {
   "cell_type": "code",
   "execution_count": 14,
   "metadata": {},
   "outputs": [],
   "source": [
    "output_csv = os.path.join(\n",
    "    \"/home/agarcia/repos/mafat-radar-challenge/submissions/ensemble_two\", \n",
    "    \"submission_ensemble_two.csv\")\n",
    "submission.to_csv(output_csv, index=False)\n",
    "# Download zip file\n",
    "\n",
    "with ZipFile(os.path.splitext(output_csv)[0] + \".zip\", \"w\") as myzip:\n",
    "    myzip.write(output_csv, arcname=os.path.basename(output_csv))"
   ]
  }
 ],
 "metadata": {
  "kernelspec": {
   "display_name": "Python 3",
   "language": "python",
   "name": "python3"
  },
  "language_info": {
   "codemirror_mode": {
    "name": "ipython",
    "version": 3
   },
   "file_extension": ".py",
   "mimetype": "text/x-python",
   "name": "python",
   "nbconvert_exporter": "python",
   "pygments_lexer": "ipython3",
   "version": "3.8.5"
  }
 },
 "nbformat": 4,
 "nbformat_minor": 4
}
