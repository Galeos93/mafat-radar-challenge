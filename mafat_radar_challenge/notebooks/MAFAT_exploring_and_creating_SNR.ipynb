{
 "cells": [
  {
   "cell_type": "code",
   "execution_count": 1,
   "metadata": {},
   "outputs": [],
   "source": [
    "import os\n",
    "import random\n",
    "import pickle\n",
    "import pandas as pd\n",
    "import matplotlib.pyplot as plt\n",
    "import numpy as np\n",
    "\n",
    "from matplotlib.colors import LinearSegmentedColormap\n",
    "from termcolor import colored\n",
    "import tqdm"
   ]
  },
  {
   "cell_type": "code",
   "execution_count": 2,
   "metadata": {},
   "outputs": [],
   "source": [
    "mount_path = '/home/agarcia/repos/mafat-radar-challenge/mafat_radar_challenge'\n",
    "competition_path = 'data'"
   ]
  },
  {
   "cell_type": "code",
   "execution_count": 3,
   "metadata": {},
   "outputs": [],
   "source": [
    "def load_data(file_path):\n",
    "    \"\"\"\n",
    "    Reads all data files (metadata and signal matrix data) as python dictionary,\n",
    "    the pkl and csv files must have the same file name.\n",
    "\n",
    "    Arguments:\n",
    "    file_path -- {str} -- path to the iq_matrix file and metadata file\n",
    "\n",
    "    Returns:\n",
    "    Python dictionary\n",
    "    \"\"\"\n",
    "    pkl = load_pkl_data(file_path)\n",
    "    meta = load_csv_metadata(file_path)\n",
    "    data_dictionary = {**meta, **pkl}\n",
    "\n",
    "    for key in data_dictionary.keys():\n",
    "        data_dictionary[key] = np.array(data_dictionary[key])\n",
    "\n",
    "    return data_dictionary\n",
    "  \n",
    "\n",
    "\n",
    "def load_pkl_data(file_path):\n",
    "    \"\"\"\n",
    "    Reads pickle file as a python dictionary (only Signal data).\n",
    "\n",
    "    Arguments:\n",
    "    file_path -- {str} -- path to pickle iq_matrix file\n",
    "\n",
    "    Returns:\n",
    "    Python dictionary\n",
    "    \"\"\"\n",
    "    path = os.path.join(mount_path, competition_path, file_path + '.pkl')\n",
    "    with open(path, 'rb') as data:\n",
    "        output = pickle.load(data)\n",
    "    return output\n",
    "\n",
    "\n",
    "def load_csv_metadata(file_path):\n",
    "    \"\"\"\n",
    "    Reads csv as pandas DataFrame (only Metadata).\n",
    "\n",
    "    Arguments:\n",
    "    file_path -- {str} -- path to csv metadata file\n",
    "\n",
    "    Returns:\n",
    "    Pandas DataFarme\n",
    "    \"\"\"\n",
    "    path = os.path.join(mount_path, competition_path, file_path + '.csv')\n",
    "    with open(path, 'rb') as data:\n",
    "        output = pd.read_csv(data)\n",
    "    return output"
   ]
  },
  {
   "cell_type": "code",
   "execution_count": 4,
   "metadata": {},
   "outputs": [],
   "source": [
    "def hann(iq, window=None):\n",
    "    \"\"\"\n",
    "    Hann smoothing of 'iq_sweep_burst'.\n",
    "\n",
    "    Arguments:\n",
    "    iq -- {ndarray} -- 'iq_sweep_burst' array\n",
    "    window -- Range of Hann window indices (Default=None)\n",
    "      If None the whole column is taken\n",
    "\n",
    "    Returns:\n",
    "      Regularized iq shaped as (window[1] - window[0] - 2, iq.shape[1])\n",
    "    \"\"\"\n",
    "    if window is None:\n",
    "        window = [0, len(iq)]\n",
    "\n",
    "    N = window[1] - window[0] - 1\n",
    "    n = np.arange(window[0], window[1])\n",
    "    n = n.reshape(len(n), 1)\n",
    "    hannCol = 0.5 * (1 - np.cos(2 * np.pi * (n / N)))\n",
    "    return (hannCol * iq[window[0]:window[1]])[1:-1]\n",
    "\n",
    "\n",
    "def calculate_spectrogram(iq_burst, axis=0, flip=True):\n",
    "    \"\"\"\n",
    "    Calculates spectrogram of 'iq_sweep_burst'.\n",
    "\n",
    "    Arguments:\n",
    "    iq_burst -- {ndarray} -- 'iq_sweep_burst' array\n",
    "    axis -- {int} -- axis to perform DFT in (Default = 0)\n",
    "\n",
    "    Returns:\n",
    "    Transformed iq_burst array\n",
    "    \"\"\"\n",
    "    iq = np.log(np.abs(np.fft.fft(hann(iq_burst), axis=axis)))\n",
    "    iq = np.maximum(np.median(iq) - 1, iq)\n",
    "    if flip:\n",
    "        iq = np.flip(iq, axis=0)\n",
    "    return iq"
   ]
  },
  {
   "cell_type": "code",
   "execution_count": 5,
   "metadata": {},
   "outputs": [],
   "source": [
    "def plot_spectrogram(iq_burst, doppler_burst, color_map_name='parula',\n",
    "                    color_map_path=None, save_path=None, flip=True, return_spec=False):\n",
    "    \"\"\"\n",
    "    Plots spectrogram of 'iq_sweep_burst'.\n",
    "\n",
    "    Arguments:\n",
    "    iq_burst -- {ndarray} -- 'iq_sweep_burst' array\n",
    "    doppler_burst -- {ndarray} -- 'doppler_burst' array (center of mass)\n",
    "      if is 0 (or zero array) then not plotted\n",
    "    color_map_name -- {str}  -- name of color map to be used (Default = 'parula')\n",
    "      if 'parula' is set then color_map_path must be provided\n",
    "    color_map_path -- {str} -- path to color_map file (Default=None)\n",
    "      if None then default color map is used\n",
    "    save_path -- {str} -- path to save image (Default = None)\n",
    "      if None then saving is not performed\n",
    "    flip -- {bool} -- flip the spectrogram to match Matlab spectrogram (Default = True)\n",
    "    return_spec -- {bool} -- if True, returns spectrogram data and skips plotting and saving\n",
    "\n",
    "    Returns:\n",
    "    Spectrogram data if return_spec is True\n",
    "    \"\"\"\n",
    "    if color_map_path is not None:\n",
    "        cm_data = np.load(color_map_path)\n",
    "        color_map = LinearSegmentedColormap.from_list(color_map_name, cm_data)\n",
    "    elif color_map_name == 'parula':\n",
    "        print(\"Error: when 'parula' color map is used, color_map_path should be provided.\")\n",
    "        print(\"Switching color map to 'viridis'.\")\n",
    "        color_map = None\n",
    "    else:\n",
    "        color_map = plt.get_cmap(color_map_name)\n",
    "\n",
    "    iq = calculate_spectrogram(iq_burst, flip=flip)\n",
    "  \n",
    "    if return_spec:\n",
    "        return iq\n",
    "\n",
    "    if doppler_burst is not None:\n",
    "        pixel_shift = 0.5\n",
    "        if flip:\n",
    "            plt.plot(pixel_shift + np.arange(len(doppler_burst)),\n",
    "                    pixel_shift + (len(iq) - doppler_burst), '.w')\n",
    "        else:\n",
    "            plt.plot(pixel_shift + np.arange(len(doppler_burst)), pixel_shift + doppler_burst, '.w')\n",
    "\n",
    "    plt.imshow(iq, cmap=color_map)\n",
    "    plt.show()\n",
    "    if save_path is not None:\n",
    "        plt.imsave(save_path, iq, cmap=color_map)\n",
    "\n",
    "    plt.clf()\n",
    "\n",
    "\n",
    "def get_track_id(data, segment_id):\n",
    "    \"\"\"\n",
    "    Get track id from segment id.\n",
    "\n",
    "    Arguments:\n",
    "    data -- {dictionary} -- python dictionary of python numpy arrays\n",
    "    segment_id -- {int} -- segment id of a track\n",
    "\n",
    "    Returns:\n",
    "    Track id\n",
    "    \"\"\"\n",
    "    segment_index = np.where(data['segment_id'] == segment_id)\n",
    "    return data['track_id'][segment_index][0]\n",
    "\n",
    "\n",
    "def has_single_snr_type(data, id, is_segment):\n",
    "    \"\"\"\n",
    "    Check if a track has a single SNR type or both High and Low SNR.\n",
    "\n",
    "    Arguments:\n",
    "    data -- {dictionary} -- python dictionary of python numpy arrays\n",
    "    id -- {int} -- segment or track id, based on is_segment\n",
    "    is_segment -- {bool} -- If true then id is segment, otherwise id is track\n",
    "\n",
    "    Returns:\n",
    "    True if track has a High or Low SNR but not both\n",
    "    \"\"\"\n",
    "    if is_segment:\n",
    "        id = get_track_id(data, id)\n",
    "    return np.all(data['snr_type'][np.where(data['track_id'] == id)] == data['snr_type']\\\n",
    "                [np.where(data['track_id'] == id)][0], axis = 0)"
   ]
  },
  {
   "cell_type": "code",
   "execution_count": 6,
   "metadata": {},
   "outputs": [],
   "source": [
    "def spectrogram(data, segment_id=None, plot_track=False, track_id=None, snr_plot='both',\n",
    "                color_map_name='parula', color_map_path=None, save_path=None, flip=True,\n",
    "                return_spec=False):\n",
    "    \"\"\"\n",
    "    Plots spectrogram of a track or of a single segment I/Q matrix ('iq_sweep_burst').\n",
    "    If segment_id is passed than plots spectrogram for the specific segment,\n",
    "    unless plot_track=='True' and than plots the entire track of the segment.\n",
    "    If track_id is passed than plots spectrogram for the entire track.\n",
    "    In case that the Track has two SNR Types asks the user to choose HighSNR or LowSNR or ignore.\n",
    "    If color map is 'parula' must pass color_map_path.        \n",
    "\n",
    "    Arguments:\n",
    "    data -- {dictionary} -- python dictionary of python numpy arrays\n",
    "    segment_id -- {int} -- the segment_id number of the wanted segment\n",
    "    track_id -- {int} -- the segment_id number of the wanted segment\n",
    "    snr_plot -- {str} -- If track has both high and low SNR signals which SNR to plot (Default = 'both')\n",
    "      The valid values are: 'HighSNR', 'LowSNR' or 'both'\n",
    "    iq_burst -- {ndarray} -- 'iq_sweep_burst' array\n",
    "    doppler_burst -- {ndarray} -- 'doppler_burst' array (center of mass)\n",
    "      if is 0 (or zero array) then not plotted\n",
    "    color_map_name -- {str}  -- name of color map to be used (Default = 'parula')\n",
    "      if 'parula' is set then color_map_path must be provided\n",
    "    color_map_path -- {str} -- path to color_map file (Default=None)\n",
    "      if None then default color map is used\n",
    "    save_path -- {str} -- path to save image (Default = None)\n",
    "      if None then saving is not performed\n",
    "    flip -- {bool} -- flip the spectrogram to match Matlab spectrogram (Default = True)\n",
    "    return_spec -- {bool} -- if True, returns spectrogram data and skips plotting and saving\n",
    "\n",
    "    Returns:\n",
    "    Spectrogram data if return_spec is True\n",
    "    \"\"\"\n",
    "    if (segment_id == None) and (track_id == None):\n",
    "        raise ValueError(\"You must pass segment id or track id\")\n",
    "    elif (segment_id != None) and (track_id != None):\n",
    "        raise ValueError(\"You must pass segment id or track id, you can't pass both.\",\n",
    "        \"\\nIf you want to plot the entire track of a segment by passig only the segment_id than set 'plot_track'=True\")\n",
    "    elif (segment_id != None) and (track_id == None):\n",
    "        segment_index = np.where(data['segment_id'] == segment_id)\n",
    "        if not plot_track:\n",
    "            iq_matrix = data['iq_sweep_burst'][segment_index]\n",
    "            iq_matrix = iq_matrix.reshape(iq_matrix.shape[1], -1)\n",
    "            doppler_vector = data['doppler_burst'][segment_index]\n",
    "            doppler_vector = doppler_vector.reshape(doppler_vector.shape[1])\n",
    "            plot_spectrogram(iq_burst=iq_matrix, doppler_burst=doppler_vector, color_map_name=color_map_name,\n",
    "                          color_map_path=color_map_path, save_path=save_path, flip=flip, return_spec=return_spec)\n",
    "        else:\n",
    "            '''plot_track=True than plots all track by segment_id'''\n",
    "            track_id = data['track_id'][segment_index]\n",
    "            spectrogram(data, segment_id=None, plot_track=False, track_id=track_id,\n",
    "                        snr_plot=snr_plot, color_map_name=color_map_name, \n",
    "                        color_map_path=color_map_path, save_path=save_path, flip=flip, \n",
    "                        return_spec=return_spec)\n",
    "    else:\n",
    "        ''' track_id is passed, plotting the entire track '''\n",
    "        track_indices = np.where(data['track_id'] == track_id)\n",
    "        iq_list = []\n",
    "        dopller_list = []\n",
    "\n",
    "        if (snr_plot != 'both') and (not has_single_snr_type(data, track_id, False)):\n",
    "            track_indices = np.where((data['track_id'] == track_id) & (data['snr_type'] == snr_plot))\n",
    "    \n",
    "        for i in track_indices:\n",
    "            iq_list.append(data['iq_sweep_burst'][i])\n",
    "            dopller_list.append(data['doppler_burst'][i])\n",
    "      \n",
    "        iq_matrix = np.concatenate(np.concatenate(iq_list, axis=1),axis=1)\n",
    "        doppler_vector = np.concatenate(np.concatenate(dopller_list, axis=0),axis=0)\n",
    "\n",
    "        plot_spectrogram(iq_burst=iq_matrix, doppler_burst=doppler_vector, \n",
    "                         color_map_name=color_map_name, color_map_path=color_map_path, \n",
    "                         save_path=save_path, flip=flip, return_spec=return_spec)"
   ]
  },
  {
   "cell_type": "markdown",
   "metadata": {},
   "source": [
    "# Observing differences"
   ]
  },
  {
   "cell_type": "code",
   "execution_count": 7,
   "metadata": {},
   "outputs": [
    {
     "data": {
      "image/png": "[encoded data removed]",
      "text/plain": [
       "<Figure size 432x288 with 1 Axes>"
      ]
     },
     "metadata": {},
     "output_type": "display_data"
    },
    {
     "data": {
      "text/plain": [
       "<Figure size 432x288 with 0 Axes>"
      ]
     },
     "metadata": {},
     "output_type": "display_data"
    }
   ],
   "source": [
    "train_path = 'MAFAT RADAR Challenge - Training Set V1'\n",
    "data_train = load_data(train_path)\n",
    "\n",
    "for idx, iq_matrix in enumerate(data_train[\"iq_sweep_burst\"]):\n",
    "    segment_id = data_train[\"segment_id\"][idx]\n",
    "    save_path = os.path.join(\"/home/agarcia/repos/mafat-radar-challenge/spectrograms/test\", \"segment_\" + str(segment_id) + \".jpg\")\n",
    "    plot_spectrogram(iq_burst=iq_matrix, doppler_burst=None, \n",
    "                     color_map_name='parula', color_map_path='/home/agarcia/repos/mafat-radar-challenge/mafat_radar_challenge/data/cmap.npy', \n",
    "                     save_path=None, flip=True, return_spec=False)\n",
    "    break"
   ]
  },
  {
   "cell_type": "code",
   "execution_count": 8,
   "metadata": {},
   "outputs": [
    {
     "data": {
      "image/png": "[encoded data removed]",
      "text/plain": [
       "<Figure size 432x288 with 1 Axes>"
      ]
     },
     "metadata": {},
     "output_type": "display_data"
    },
    {
     "data": {
      "text/plain": [
       "<Figure size 432x288 with 0 Axes>"
      ]
     },
     "metadata": {},
     "output_type": "display_data"
    }
   ],
   "source": [
    "synth_path = 'MAFAT RADAR Challenge - Auxiliary Synthetic Set V2'\n",
    "data_synth = load_data(synth_path)\n",
    "\n",
    "for idx, iq_matrix in enumerate(data_synth[\"iq_sweep_burst\"]):\n",
    "    segment_id = data_synth[\"segment_id\"][idx]\n",
    "    save_path = os.path.join(\"/home/agarcia/repos/mafat-radar-challenge/spectrograms/test\", \"segment_\" + str(segment_id) + \".jpg\")\n",
    "    plot_spectrogram(iq_burst=iq_matrix, doppler_burst=None, \n",
    "                     color_map_name='parula', color_map_path='/home/agarcia/repos/mafat-radar-challenge/mafat_radar_challenge/data/cmap.npy', \n",
    "                     save_path=None, flip=True, return_spec=False)\n",
    "    break"
   ]
  },
  {
   "cell_type": "code",
   "execution_count": 9,
   "metadata": {},
   "outputs": [
    {
     "data": {
      "image/png": "[encoded data removed]",
      "text/plain": [
       "<Figure size 432x288 with 1 Axes>"
      ]
     },
     "metadata": {},
     "output_type": "display_data"
    },
    {
     "data": {
      "text/plain": [
       "<Figure size 432x288 with 0 Axes>"
      ]
     },
     "metadata": {},
     "output_type": "display_data"
    }
   ],
   "source": [
    "a = data_synth[\"iq_sweep_burst\"][0] - data_train[\"iq_sweep_burst\"][0]\n",
    "plot_spectrogram(iq_burst=a, doppler_burst=None, \n",
    "                     color_map_name='parula', color_map_path='/home/agarcia/repos/mafat-radar-challenge/mafat_radar_challenge/data/cmap.npy', \n",
    "                     save_path=None, flip=True, return_spec=False)"
   ]
  },
  {
   "cell_type": "markdown",
   "metadata": {},
   "source": [
    "# Seeing CSV differences"
   ]
  },
  {
   "cell_type": "code",
   "execution_count": 98,
   "metadata": {},
   "outputs": [],
   "source": [
    "train_df = pd.read_csv(\"/home/agarcia/repos/mafat-radar-challenge/mafat_radar_challenge/data/MAFAT RADAR Challenge - Training Set V1.csv\")\n",
    "aux_df = pd.read_csv(\"/home/agarcia/repos/mafat-radar-challenge/mafat_radar_challenge/data/MAFAT RADAR Challenge - Auxiliary Synthetic Set V2.csv\")\n",
    "aux_df_bis = pd.read_csv(\"/home/agarcia/repos/mafat-radar-challenge/mafat_radar_challenge/data/MAFAT RADAR Challenge - Auxiliary Experiment Set V2.csv\")\n",
    "bkgrd_df = pd.read_csv(\"/home/agarcia/repos/mafat-radar-challenge/mafat_radar_challenge/data/MAFAT RADAR Challenge - Auxiliary Background(empty) Set V1.csv\")"
   ]
  },
  {
   "cell_type": "code",
   "execution_count": 25,
   "metadata": {},
   "outputs": [
    {
     "data": {
      "text/plain": [
       "(6656, 8)"
      ]
     },
     "execution_count": 25,
     "metadata": {},
     "output_type": "execute_result"
    }
   ],
   "source": [
    "train_df.shape"
   ]
  },
  {
   "cell_type": "code",
   "execution_count": 36,
   "metadata": {},
   "outputs": [
    {
     "data": {
      "text/plain": [
       "(6656,)"
      ]
     },
     "execution_count": 36,
     "metadata": {},
     "output_type": "execute_result"
    }
   ],
   "source": [
    "train_df.segment_id.unique().shape"
   ]
  },
  {
   "cell_type": "code",
   "execution_count": 39,
   "metadata": {},
   "outputs": [],
   "source": [
    "aux_df.segment_id = aux_df.segment_id - 2000000"
   ]
  },
  {
   "cell_type": "code",
   "execution_count": 40,
   "metadata": {},
   "outputs": [
    {
     "data": {
      "text/plain": [
       "(2465, 8)"
      ]
     },
     "execution_count": 40,
     "metadata": {},
     "output_type": "execute_result"
    }
   ],
   "source": [
    "aux_df[aux_df.segment_id.isin(train_df.segment_id)].shape"
   ]
  },
  {
   "cell_type": "code",
   "execution_count": 41,
   "metadata": {},
   "outputs": [
    {
     "data": {
      "text/plain": [
       "(48418, 8)"
      ]
     },
     "execution_count": 41,
     "metadata": {},
     "output_type": "execute_result"
    }
   ],
   "source": [
    "aux_df[aux_df.segment_id.isin(aux_df_bis.segment_id)].shape"
   ]
  },
  {
   "cell_type": "code",
   "execution_count": 44,
   "metadata": {},
   "outputs": [
    {
     "data": {
      "text/plain": [
       "(50883, 8)"
      ]
     },
     "execution_count": 44,
     "metadata": {},
     "output_type": "execute_result"
    }
   ],
   "source": [
    "aux_df.shape"
   ]
  },
  {
   "cell_type": "code",
   "execution_count": 100,
   "metadata": {},
   "outputs": [],
   "source": [
    "bkgrd_df.segment_id = bkgrd_df.segment_id - 1000000"
   ]
  },
  {
   "cell_type": "code",
   "execution_count": null,
   "metadata": {},
   "outputs": [],
   "source": [
    "aux_idx = list(bkgrd_df[bkgrd_df.segment_id.isin(train_df.segment_id)].index)"
   ]
  },
  {
   "cell_type": "code",
   "execution_count": 108,
   "metadata": {
    "scrolled": true
   },
   "outputs": [
    {
     "data": {
      "text/plain": [
       "(31128, 8)"
      ]
     },
     "execution_count": 108,
     "metadata": {},
     "output_type": "execute_result"
    }
   ],
   "source": [
    "bkgrd_df.shape"
   ]
  },
  {
   "cell_type": "markdown",
   "metadata": {},
   "source": [
    "# Measuring differences (statistically ;)"
   ]
  },
  {
   "cell_type": "code",
   "execution_count": 52,
   "metadata": {},
   "outputs": [],
   "source": [
    "train_idx = list(train_df[train_df.segment_id.isin(aux_df.segment_id)].index)"
   ]
  },
  {
   "cell_type": "code",
   "execution_count": 53,
   "metadata": {},
   "outputs": [],
   "source": [
    "aux_idx = list(aux_df[aux_df.segment_id.isin(train_df.segment_id)].index)"
   ]
  },
  {
   "cell_type": "code",
   "execution_count": 54,
   "metadata": {},
   "outputs": [],
   "source": [
    "for key, value in data_train.items():\n",
    "    data_train[key] = data_train[key][train_idx]\n",
    "    data_synth[key] = data_synth[key][aux_idx]"
   ]
  },
  {
   "cell_type": "code",
   "execution_count": 115,
   "metadata": {},
   "outputs": [
    {
     "name": "stdout",
     "output_type": "stream",
     "text": [
      "89.91837284648437\n",
      "667.0165432239207\n"
     ]
    }
   ],
   "source": [
    "a = data_synth[\"iq_sweep_burst\"][0]\n",
    "b = data_train[\"iq_sweep_burst\"][0]\n",
    "c = np.abs(a) - np.abs(b)\n",
    "print(np.mean(c))\n",
    "print(np.std(c))"
   ]
  },
  {
   "cell_type": "code",
   "execution_count": 126,
   "metadata": {},
   "outputs": [
    {
     "name": "stdout",
     "output_type": "stream",
     "text": [
      "0.378231500790403\n",
      "0.7434843202891861\n"
     ]
    }
   ],
   "source": [
    "a = data_synth[\"iq_sweep_burst\"][1]\n",
    "b = data_train[\"iq_sweep_burst\"][1]\n",
    "c = np.log(np.abs(a)) - np.log(np.abs(b))\n",
    "print(np.mean(c))\n",
    "print(np.std(c))"
   ]
  },
  {
   "cell_type": "code",
   "execution_count": 17,
   "metadata": {},
   "outputs": [
    {
     "data": {
      "text/plain": [
       "(6656, 128, 32)"
      ]
     },
     "execution_count": 17,
     "metadata": {},
     "output_type": "execute_result"
    }
   ],
   "source": [
    "data_train[\"iq_sweep_burst\"].shape"
   ]
  },
  {
   "cell_type": "code",
   "execution_count": 71,
   "metadata": {},
   "outputs": [
    {
     "data": {
      "text/html": [
       "<div>\n",
       "<style scoped>\n",
       "    .dataframe tbody tr th:only-of-type {\n",
       "        vertical-align: middle;\n",
       "    }\n",
       "\n",
       "    .dataframe tbody tr th {\n",
       "        vertical-align: top;\n",
       "    }\n",
       "\n",
       "    .dataframe thead th {\n",
       "        text-align: right;\n",
       "    }\n",
       "</style>\n",
       "<table border=\"1\" class=\"dataframe\">\n",
       "  <thead>\n",
       "    <tr style=\"text-align: right;\">\n",
       "      <th></th>\n",
       "      <th>segment_id</th>\n",
       "      <th>track_id</th>\n",
       "      <th>geolocation_type</th>\n",
       "      <th>geolocation_id</th>\n",
       "      <th>sensor_id</th>\n",
       "      <th>snr_type</th>\n",
       "      <th>date_index</th>\n",
       "      <th>target_type</th>\n",
       "    </tr>\n",
       "  </thead>\n",
       "  <tbody>\n",
       "    <tr>\n",
       "      <th>0</th>\n",
       "      <td>0</td>\n",
       "      <td>11</td>\n",
       "      <td>C</td>\n",
       "      <td>1</td>\n",
       "      <td>1</td>\n",
       "      <td>HighSNR</td>\n",
       "      <td>27</td>\n",
       "      <td>animal</td>\n",
       "    </tr>\n",
       "    <tr>\n",
       "      <th>1</th>\n",
       "      <td>1</td>\n",
       "      <td>16</td>\n",
       "      <td>C</td>\n",
       "      <td>1</td>\n",
       "      <td>1</td>\n",
       "      <td>HighSNR</td>\n",
       "      <td>27</td>\n",
       "      <td>animal</td>\n",
       "    </tr>\n",
       "    <tr>\n",
       "      <th>2</th>\n",
       "      <td>2</td>\n",
       "      <td>16</td>\n",
       "      <td>C</td>\n",
       "      <td>1</td>\n",
       "      <td>1</td>\n",
       "      <td>HighSNR</td>\n",
       "      <td>27</td>\n",
       "      <td>animal</td>\n",
       "    </tr>\n",
       "    <tr>\n",
       "      <th>3</th>\n",
       "      <td>3</td>\n",
       "      <td>29</td>\n",
       "      <td>C</td>\n",
       "      <td>1</td>\n",
       "      <td>1</td>\n",
       "      <td>HighSNR</td>\n",
       "      <td>27</td>\n",
       "      <td>animal</td>\n",
       "    </tr>\n",
       "    <tr>\n",
       "      <th>4</th>\n",
       "      <td>4</td>\n",
       "      <td>29</td>\n",
       "      <td>C</td>\n",
       "      <td>1</td>\n",
       "      <td>1</td>\n",
       "      <td>HighSNR</td>\n",
       "      <td>27</td>\n",
       "      <td>animal</td>\n",
       "    </tr>\n",
       "    <tr>\n",
       "      <th>5</th>\n",
       "      <td>5</td>\n",
       "      <td>29</td>\n",
       "      <td>C</td>\n",
       "      <td>1</td>\n",
       "      <td>1</td>\n",
       "      <td>HighSNR</td>\n",
       "      <td>27</td>\n",
       "      <td>animal</td>\n",
       "    </tr>\n",
       "    <tr>\n",
       "      <th>6</th>\n",
       "      <td>6</td>\n",
       "      <td>29</td>\n",
       "      <td>C</td>\n",
       "      <td>1</td>\n",
       "      <td>1</td>\n",
       "      <td>HighSNR</td>\n",
       "      <td>27</td>\n",
       "      <td>animal</td>\n",
       "    </tr>\n",
       "    <tr>\n",
       "      <th>7</th>\n",
       "      <td>7</td>\n",
       "      <td>29</td>\n",
       "      <td>C</td>\n",
       "      <td>1</td>\n",
       "      <td>1</td>\n",
       "      <td>HighSNR</td>\n",
       "      <td>27</td>\n",
       "      <td>animal</td>\n",
       "    </tr>\n",
       "    <tr>\n",
       "      <th>8</th>\n",
       "      <td>8</td>\n",
       "      <td>29</td>\n",
       "      <td>C</td>\n",
       "      <td>1</td>\n",
       "      <td>1</td>\n",
       "      <td>HighSNR</td>\n",
       "      <td>27</td>\n",
       "      <td>animal</td>\n",
       "    </tr>\n",
       "    <tr>\n",
       "      <th>9</th>\n",
       "      <td>9</td>\n",
       "      <td>29</td>\n",
       "      <td>C</td>\n",
       "      <td>1</td>\n",
       "      <td>1</td>\n",
       "      <td>HighSNR</td>\n",
       "      <td>27</td>\n",
       "      <td>animal</td>\n",
       "    </tr>\n",
       "    <tr>\n",
       "      <th>10</th>\n",
       "      <td>10</td>\n",
       "      <td>29</td>\n",
       "      <td>C</td>\n",
       "      <td>1</td>\n",
       "      <td>1</td>\n",
       "      <td>HighSNR</td>\n",
       "      <td>27</td>\n",
       "      <td>animal</td>\n",
       "    </tr>\n",
       "    <tr>\n",
       "      <th>11</th>\n",
       "      <td>11</td>\n",
       "      <td>29</td>\n",
       "      <td>C</td>\n",
       "      <td>1</td>\n",
       "      <td>1</td>\n",
       "      <td>HighSNR</td>\n",
       "      <td>27</td>\n",
       "      <td>animal</td>\n",
       "    </tr>\n",
       "    <tr>\n",
       "      <th>12</th>\n",
       "      <td>12</td>\n",
       "      <td>29</td>\n",
       "      <td>C</td>\n",
       "      <td>1</td>\n",
       "      <td>1</td>\n",
       "      <td>HighSNR</td>\n",
       "      <td>27</td>\n",
       "      <td>animal</td>\n",
       "    </tr>\n",
       "    <tr>\n",
       "      <th>13</th>\n",
       "      <td>13</td>\n",
       "      <td>29</td>\n",
       "      <td>C</td>\n",
       "      <td>1</td>\n",
       "      <td>1</td>\n",
       "      <td>HighSNR</td>\n",
       "      <td>27</td>\n",
       "      <td>animal</td>\n",
       "    </tr>\n",
       "    <tr>\n",
       "      <th>14</th>\n",
       "      <td>14</td>\n",
       "      <td>31</td>\n",
       "      <td>C</td>\n",
       "      <td>1</td>\n",
       "      <td>1</td>\n",
       "      <td>HighSNR</td>\n",
       "      <td>27</td>\n",
       "      <td>animal</td>\n",
       "    </tr>\n",
       "    <tr>\n",
       "      <th>15</th>\n",
       "      <td>15</td>\n",
       "      <td>31</td>\n",
       "      <td>C</td>\n",
       "      <td>1</td>\n",
       "      <td>1</td>\n",
       "      <td>HighSNR</td>\n",
       "      <td>27</td>\n",
       "      <td>animal</td>\n",
       "    </tr>\n",
       "    <tr>\n",
       "      <th>16</th>\n",
       "      <td>16</td>\n",
       "      <td>31</td>\n",
       "      <td>C</td>\n",
       "      <td>1</td>\n",
       "      <td>1</td>\n",
       "      <td>HighSNR</td>\n",
       "      <td>27</td>\n",
       "      <td>animal</td>\n",
       "    </tr>\n",
       "    <tr>\n",
       "      <th>17</th>\n",
       "      <td>17</td>\n",
       "      <td>31</td>\n",
       "      <td>C</td>\n",
       "      <td>1</td>\n",
       "      <td>1</td>\n",
       "      <td>HighSNR</td>\n",
       "      <td>27</td>\n",
       "      <td>animal</td>\n",
       "    </tr>\n",
       "    <tr>\n",
       "      <th>18</th>\n",
       "      <td>18</td>\n",
       "      <td>31</td>\n",
       "      <td>C</td>\n",
       "      <td>1</td>\n",
       "      <td>1</td>\n",
       "      <td>HighSNR</td>\n",
       "      <td>27</td>\n",
       "      <td>animal</td>\n",
       "    </tr>\n",
       "    <tr>\n",
       "      <th>19</th>\n",
       "      <td>19</td>\n",
       "      <td>31</td>\n",
       "      <td>C</td>\n",
       "      <td>1</td>\n",
       "      <td>1</td>\n",
       "      <td>HighSNR</td>\n",
       "      <td>27</td>\n",
       "      <td>animal</td>\n",
       "    </tr>\n",
       "  </tbody>\n",
       "</table>\n",
       "</div>"
      ],
      "text/plain": [
       "    segment_id  track_id geolocation_type  geolocation_id  sensor_id snr_type  \\\n",
       "0            0        11                C               1          1  HighSNR   \n",
       "1            1        16                C               1          1  HighSNR   \n",
       "2            2        16                C               1          1  HighSNR   \n",
       "3            3        29                C               1          1  HighSNR   \n",
       "4            4        29                C               1          1  HighSNR   \n",
       "5            5        29                C               1          1  HighSNR   \n",
       "6            6        29                C               1          1  HighSNR   \n",
       "7            7        29                C               1          1  HighSNR   \n",
       "8            8        29                C               1          1  HighSNR   \n",
       "9            9        29                C               1          1  HighSNR   \n",
       "10          10        29                C               1          1  HighSNR   \n",
       "11          11        29                C               1          1  HighSNR   \n",
       "12          12        29                C               1          1  HighSNR   \n",
       "13          13        29                C               1          1  HighSNR   \n",
       "14          14        31                C               1          1  HighSNR   \n",
       "15          15        31                C               1          1  HighSNR   \n",
       "16          16        31                C               1          1  HighSNR   \n",
       "17          17        31                C               1          1  HighSNR   \n",
       "18          18        31                C               1          1  HighSNR   \n",
       "19          19        31                C               1          1  HighSNR   \n",
       "\n",
       "    date_index target_type  \n",
       "0           27      animal  \n",
       "1           27      animal  \n",
       "2           27      animal  \n",
       "3           27      animal  \n",
       "4           27      animal  \n",
       "5           27      animal  \n",
       "6           27      animal  \n",
       "7           27      animal  \n",
       "8           27      animal  \n",
       "9           27      animal  \n",
       "10          27      animal  \n",
       "11          27      animal  \n",
       "12          27      animal  \n",
       "13          27      animal  \n",
       "14          27      animal  \n",
       "15          27      animal  \n",
       "16          27      animal  \n",
       "17          27      animal  \n",
       "18          27      animal  \n",
       "19          27      animal  "
      ]
     },
     "execution_count": 71,
     "metadata": {},
     "output_type": "execute_result"
    }
   ],
   "source": [
    "train_df[train_df.segment_id.isin(aux_df.segment_id)].head(20)"
   ]
  },
  {
   "cell_type": "code",
   "execution_count": 88,
   "metadata": {},
   "outputs": [
    {
     "name": "stdout",
     "output_type": "stream",
     "text": [
      "1722.954830632987\n",
      "942.0505843450392\n"
     ]
    }
   ],
   "source": [
    "a = data_synth[\"iq_sweep_burst\"][20]\n",
    "b = data_train[\"iq_sweep_burst\"][20]\n",
    "c = a - b\n",
    "print(np.mean(np.abs(c[:,0])))\n",
    "print(np.std(np.abs(c[:,0])))"
   ]
  },
  {
   "cell_type": "code",
   "execution_count": 137,
   "metadata": {},
   "outputs": [
    {
     "name": "stdout",
     "output_type": "stream",
     "text": [
      "9.347837225136518\n",
      "7.780975026340473\n",
      "0.8876978124401401\n"
     ]
    }
   ],
   "source": [
    "a = data_synth[\"iq_sweep_burst\"][20]\n",
    "b = data_train[\"iq_sweep_burst\"][20]\n",
    "c = a - b\n",
    "print(np.mean(calculate_spectrogram(a)))\n",
    "print(np.mean(calculate_spectrogram(b)))\n",
    "print(np.std(calculate_spectrogram(a) - calculate_spectrogram(b)))"
   ]
  },
  {
   "cell_type": "code",
   "execution_count": 138,
   "metadata": {},
   "outputs": [
    {
     "name": "stdout",
     "output_type": "stream",
     "text": [
      "9.030235100833394\n",
      "8.285539823427934\n",
      "0.1023795155776346\n"
     ]
    }
   ],
   "source": [
    "a = data_synth[\"iq_sweep_burst\"][0]\n",
    "b = data_train[\"iq_sweep_burst\"][0]\n",
    "c = a - b\n",
    "print(np.mean(calculate_spectrogram(a)))\n",
    "print(np.mean(calculate_spectrogram(b)))\n",
    "print(np.std(calculate_spectrogram(a)/calculate_spectrogram(b)))"
   ]
  },
  {
   "cell_type": "code",
   "execution_count": 110,
   "metadata": {
    "collapsed": true
   },
   "outputs": [
    {
     "data": {
      "text/plain": [
       "[<matplotlib.lines.Line2D at 0x7ff82ceb75f8>]"
      ]
     },
     "execution_count": 110,
     "metadata": {},
     "output_type": "execute_result"
    },
    {
     "data": {
      "image/png": "[encoded data removed]",
      "text/plain": [
       "<Figure size 432x288 with 1 Axes>"
      ]
     },
     "metadata": {},
     "output_type": "display_data"
    },
    {
     "data": {
      "image/png": "[encoded data removed]",
      "text/plain": [
       "<Figure size 432x288 with 1 Axes>"
      ]
     },
     "metadata": {},
     "output_type": "display_data"
    },
    {
     "data": {
      "image/png": "[encoded data removed]",
      "text/plain": [
       "<Figure size 432x288 with 1 Axes>"
      ]
     },
     "metadata": {},
     "output_type": "display_data"
    }
   ],
   "source": [
    "plt.figure()\n",
    "plt.plot(np.log(np.abs(data_train[\"iq_sweep_burst\"][0][:, 0])))\n",
    "plt.figure()\n",
    "plt.plot(np.log(np.abs(data_synth[\"iq_sweep_burst\"][0][:, 0])))\n",
    "plt.figure()\n",
    "plt.plot(np.abs(data_train[\"iq_sweep_burst\"][0][:, 0] - data_synth[\"iq_sweep_burst\"][0][:, 0]))"
   ]
  },
  {
   "cell_type": "code",
   "execution_count": null,
   "metadata": {},
   "outputs": [],
   "source": [
    "plt.plot(np.abs(data_synth[\"iq_sweep_burst\"][0][:, 0]))"
   ]
  }
 ],
 "metadata": {
  "kernelspec": {
   "display_name": "Python 3",
   "language": "python",
   "name": "python3"
  },
  "language_info": {
   "codemirror_mode": {
    "name": "ipython",
    "version": 3
   },
   "file_extension": ".py",
   "mimetype": "text/x-python",
   "name": "python",
   "nbconvert_exporter": "python",
   "pygments_lexer": "ipython3",
   "version": "3.6.9"
  }
 },
 "nbformat": 4,
 "nbformat_minor": 4
}
