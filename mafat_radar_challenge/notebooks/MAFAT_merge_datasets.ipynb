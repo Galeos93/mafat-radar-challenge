{
 "cells": [
  {
   "cell_type": "code",
   "execution_count": null,
   "metadata": {},
   "outputs": [],
   "source": [
    "import pandas as pd\n",
    "import os\n",
    "import random\n",
    "import pickle\n",
    "import matplotlib.pyplot as plt\n",
    "import numpy as np\n",
    "\n",
    "from mafat_radar_challenge.utils import fft, normalize, max_value_on_doppler, hann"
   ]
  },
  {
   "cell_type": "code",
   "execution_count": null,
   "metadata": {},
   "outputs": [],
   "source": [
    "mount_path = '/home/agarcia/repos/mafat-radar-challenge/mafat_radar_challenge'\n",
    "competition_path = 'data'"
   ]
  },
  {
   "cell_type": "code",
   "execution_count": null,
   "metadata": {},
   "outputs": [],
   "source": [
    "def load_data(file_path):\n",
    "    \"\"\"\n",
    "    Reads all data files (metadata and signal matrix data) as python dictionary,\n",
    "    the pkl and csv files must have the same file name.\n",
    "\n",
    "    Arguments:\n",
    "    file_path -- {str} -- path to the iq_matrix file and metadata file\n",
    "\n",
    "    Returns:\n",
    "    Python dictionary\n",
    "    \"\"\"\n",
    "    pkl = load_pkl_data(file_path)\n",
    "    meta = load_csv_metadata(file_path)\n",
    "    data_dictionary = {**meta, **pkl}\n",
    "\n",
    "    for key in data_dictionary.keys():\n",
    "        data_dictionary[key] = np.array(data_dictionary[key])\n",
    "\n",
    "    return data_dictionary\n",
    "  \n",
    "\n",
    "\n",
    "def load_pkl_data(file_path):\n",
    "    \"\"\"\n",
    "    Reads pickle file as a python dictionary (only Signal data).\n",
    "\n",
    "    Arguments:\n",
    "    file_path -- {str} -- path to pickle iq_matrix file\n",
    "\n",
    "    Returns:\n",
    "    Python dictionary\n",
    "    \"\"\"\n",
    "    path = os.path.join(mount_path, competition_path, file_path + '.pkl')\n",
    "    with open(path, 'rb') as data:\n",
    "        output = pickle.load(data)\n",
    "    return output\n",
    "\n",
    "\n",
    "def load_csv_metadata(file_path):\n",
    "    \"\"\"\n",
    "    Reads csv as pandas DataFrame (only Metadata).\n",
    "\n",
    "    Arguments:\n",
    "    file_path -- {str} -- path to csv metadata file\n",
    "\n",
    "    Returns:\n",
    "    Pandas DataFarme\n",
    "    \"\"\"\n",
    "    path = os.path.join(mount_path, competition_path, file_path + '.csv')\n",
    "    with open(path, 'rb') as data:\n",
    "        output = pd.read_csv(data)\n",
    "    return output"
   ]
  },
  {
   "cell_type": "markdown",
   "metadata": {},
   "source": [
    "# Extract spectrograms without max_doppler"
   ]
  },
  {
   "cell_type": "code",
   "execution_count": null,
   "metadata": {},
   "outputs": [],
   "source": [
    "train_df = pd.read_csv(\"/home/agarcia/repos/mafat-radar-challenge/mafat_radar_challenge/data/MAFAT RADAR Challenge - Training Set V1.csv\")\n",
    "aux_df = pd.read_csv(\"/home/agarcia/repos/mafat-radar-challenge/mafat_radar_challenge/data/MAFAT RADAR Challenge - Auxiliary Experiment Set V2.csv\")\n",
    "synth_df = pd.read_csv(\"/home/agarcia/repos/mafat-radar-challenge/mafat_radar_challenge/data/MAFAT RADAR Challenge - Auxiliary Synthetic Set V2.csv\")"
   ]
  },
  {
   "cell_type": "code",
   "execution_count": null,
   "metadata": {},
   "outputs": [],
   "source": [
    "train_burst = load_pkl_data(\"MAFAT RADAR Challenge - Training Set V1\")[\"iq_sweep_burst\"]\n",
    "aux_burst = load_pkl_data(\"MAFAT RADAR Challenge - Auxiliary Experiment Set V2\")[\"iq_sweep_burst\"]\n",
    "synth_burst = load_pkl_data(\"MAFAT RADAR Challenge - Auxiliary Synthetic Set V2\")[\"iq_sweep_burst\"]"
   ]
  },
  {
   "cell_type": "code",
   "execution_count": null,
   "metadata": {},
   "outputs": [],
   "source": [
    "train_burst.shape"
   ]
  },
  {
   "cell_type": "code",
   "execution_count": null,
   "metadata": {},
   "outputs": [],
   "source": [
    "train_spectrogram = list()\n",
    "aux_spectrogram = list()\n",
    "synth_spectrogram = list()\n",
    "\n",
    "for iq in train_burst:\n",
    "    train_spectrogram.append(fft(iq, axis=0))\n",
    "train_spectrogram = np.array(train_spectrogram)\n",
    "    \n",
    "for iq in aux_burst:\n",
    "    aux_spectrogram.append(fft(iq, axis=0))\n",
    "aux_spectrogram = np.array(aux_spectrogram)\n",
    "    \n",
    "for iq in synth_burst:\n",
    "    synth_spectrogram.append(fft(iq, axis=0))\n",
    "synth_spectrogram = np.array(synth_spectrogram)"
   ]
  },
  {
   "cell_type": "code",
   "execution_count": null,
   "metadata": {},
   "outputs": [],
   "source": [
    "del train_burst\n",
    "del aux_burst\n",
    "del synth_burst"
   ]
  },
  {
   "cell_type": "code",
   "execution_count": null,
   "metadata": {},
   "outputs": [],
   "source": [
    "full_df = pd.concat([train_df, aux_df, synth_df])"
   ]
  },
  {
   "cell_type": "code",
   "execution_count": null,
   "metadata": {},
   "outputs": [],
   "source": [
    "full_spectrogram = np.concatenate([train_spectrogram, aux_spectrogram, synth_spectrogram])"
   ]
  },
  {
   "cell_type": "code",
   "execution_count": null,
   "metadata": {},
   "outputs": [],
   "source": [
    "np.save(\"/home/agarcia/repos/mafat-radar-challenge/mafat_radar_challenge/data/mafat_full_spectrogram_raw.npy\", full_spectrogram)"
   ]
  },
  {
   "cell_type": "markdown",
   "metadata": {},
   "source": [
    "# Extract centered spectrograms\n",
    "\n",
    "Instead of mean of doppler vector to center spectrogram, percentile 50 with 'lower' interpolation is used."
   ]
  },
  {
   "cell_type": "code",
   "execution_count": null,
   "metadata": {},
   "outputs": [],
   "source": [
    "train_burst = load_pkl_data(\"MAFAT RADAR Challenge - Training Set V1\")[\"doppler_burst\"]\n",
    "aux_burst = load_pkl_data(\"MAFAT RADAR Challenge - Auxiliary Experiment Set V2\")[\"doppler_burst\"]\n",
    "synth_burst = load_pkl_data(\"MAFAT RADAR Challenge - Auxiliary Synthetic Set V2\")[\"doppler_burst\"]"
   ]
  },
  {
   "cell_type": "code",
   "execution_count": null,
   "metadata": {},
   "outputs": [],
   "source": [
    "full_burst = np.concatenate([train_burst, aux_burst, synth_burst])"
   ]
  },
  {
   "cell_type": "code",
   "execution_count": null,
   "metadata": {},
   "outputs": [],
   "source": [
    "full_spectrogram = np.load(\"/home/agarcia/repos/mafat-radar-challenge/mafat_radar_challenge/data/mafat_full_spectrogram_raw.npy\")"
   ]
  },
  {
   "cell_type": "code",
   "execution_count": null,
   "metadata": {},
   "outputs": [],
   "source": [
    "centered_full_spectrogram = list()\n",
    "for doppler_burst, spectrogram in zip(full_burst, full_spectrogram):\n",
    "    offset = 63 - int(np.percentile(doppler_burst, 50, interpolation=\"lower\"))\n",
    "    spectrogram = np.roll(spectrogram, offset, axis=0)\n",
    "    centered_full_spectrogram.append(spectrogram)"
   ]
  },
  {
   "cell_type": "code",
   "execution_count": null,
   "metadata": {},
   "outputs": [],
   "source": [
    "centered_full_spectrogram = np.array(centered_full_spectrogram)"
   ]
  },
  {
   "cell_type": "code",
   "execution_count": null,
   "metadata": {},
   "outputs": [],
   "source": [
    "centered_full_spectrogram.shape"
   ]
  },
  {
   "cell_type": "code",
   "execution_count": null,
   "metadata": {},
   "outputs": [],
   "source": [
    "np.save(\"/home/agarcia/repos/mafat-radar-challenge/mafat_radar_challenge/data/mafat_full_spectrogram_centered_v2.npy\", centered_full_spectrogram)"
   ]
  },
  {
   "cell_type": "code",
   "execution_count": null,
   "metadata": {},
   "outputs": [],
   "source": [
    "train_df = pd.read_csv(\"/home/agarcia/repos/mafat-radar-challenge/mafat_radar_challenge/data/MAFAT RADAR Challenge - Training Set V1.csv\")\n",
    "aux_df = pd.read_csv(\"/home/agarcia/repos/mafat-radar-challenge/mafat_radar_challenge/data/MAFAT RADAR Challenge - Auxiliary Experiment Set V2.csv\")\n",
    "synth_df = pd.read_csv(\"/home/agarcia/repos/mafat-radar-challenge/mafat_radar_challenge/data/MAFAT RADAR Challenge - Auxiliary Synthetic Set V2.csv\")\n",
    "full_spec_v2_csv = pd.concat([train_df, aux_df, synth_df])\n",
    "full_spec_v2_csv.loc[full_spec_v2_csv.target_type==\"human\", \"target_type\"] = 1\n",
    "full_spec_v2_csv.loc[full_spec_v2_csv.target_type==\"animal\", \"target_type\"] = 0\n",
    "full_spec_v2_csv.target_type = full_spec_v2_csv.target_type.apply(int)\n",
    "assert(len(full_spec_v2_csv) == (len(train_df) + len(aux_df) + len(synth_df)))\n",
    "full_spec_v2_csv[\"source\"] = None\n",
    "full_spec_v2_csv.iloc[:len(train_df), -1] = \"train\"\n",
    "full_spec_v2_csv.iloc[len(train_df):(len(train_df)+ len(aux_df)), -1] = \"aux\"\n",
    "full_spec_v2_csv.iloc[(len(train_df)+ len(aux_df)):, -1] = \"synth\"\n",
    "full_spec_v2_csv.loc[full_spec_v2_csv.source==\"synth\", \"segment_id\"] -= 2000000\n"
   ]
  },
  {
   "cell_type": "code",
   "execution_count": null,
   "metadata": {},
   "outputs": [],
   "source": [
    "full_spec_v2_csv.to_csv(\"/home/agarcia/repos/mafat-radar-challenge/mafat_radar_challenge/data/mafat_full_data_v9.csv\", index=False)"
   ]
  },
  {
   "cell_type": "markdown",
   "metadata": {},
   "source": [
    "### Test"
   ]
  },
  {
   "cell_type": "code",
   "execution_count": null,
   "metadata": {},
   "outputs": [],
   "source": [
    "test_data = load_pkl_data(\"MAFAT RADAR Challenge - Public Test Set V1\")"
   ]
  },
  {
   "cell_type": "code",
   "execution_count": null,
   "metadata": {},
   "outputs": [],
   "source": [
    "centered_test_spectrogram = list()\n",
    "for doppler_burst, iq in zip(test_data[\"doppler_burst\"], test_data[\"iq_sweep_burst\"]):\n",
    "    spectrogram = fft(iq, axis=0)\n",
    "    offset = 63 - int(np.percentile(doppler_burst, 50, interpolation=\"lower\"))\n",
    "    spectrogram = np.roll(spectrogram, offset, axis=0)\n",
    "    centered_test_spectrogram.append(spectrogram)\n",
    "centered_test_spectrogram = np.array(centered_test_spectrogram)"
   ]
  },
  {
   "cell_type": "code",
   "execution_count": null,
   "metadata": {},
   "outputs": [],
   "source": [
    "centered_test_spectrogram.shape"
   ]
  },
  {
   "cell_type": "code",
   "execution_count": null,
   "metadata": {},
   "outputs": [],
   "source": [
    "plt.imshow(centered_test_spectrogram[0])"
   ]
  },
  {
   "cell_type": "code",
   "execution_count": null,
   "metadata": {},
   "outputs": [],
   "source": [
    "np.save(\"/home/agarcia/repos/mafat-radar-challenge/mafat_radar_challenge/data/mafat_test_v9_spectrogram.npy\", centered_test_spectrogram)"
   ]
  },
  {
   "cell_type": "markdown",
   "metadata": {},
   "source": [
    "# Create K Folds"
   ]
  },
  {
   "cell_type": "code",
   "execution_count": null,
   "metadata": {},
   "outputs": [],
   "source": [
    "from sklearn.model_selection import GroupKFold\n",
    "from sklearn.utils import shuffle"
   ]
  },
  {
   "cell_type": "code",
   "execution_count": null,
   "metadata": {},
   "outputs": [],
   "source": [
    "train_df = pd.read_csv(\"/home/agarcia/repos/mafat-radar-challenge/mafat_radar_challenge/data/MAFAT RADAR Challenge - Training Set V1.csv\")\n",
    "train_df[\"source\"] = \"train\"\n",
    "aux_df = pd.read_csv(\"/home/agarcia/repos/mafat-radar-challenge/mafat_radar_challenge/data/MAFAT RADAR Challenge - Auxiliary Experiment Set V2.csv\")\n",
    "aux_df[\"source\"] = \"aux\"\n",
    "synth_df = pd.read_csv(\"/home/agarcia/repos/mafat-radar-challenge/mafat_radar_challenge/data/MAFAT RADAR Challenge - Auxiliary Synthetic Set V2.csv\")\n",
    "synth_df[\"segment_id\"] = synth_df[\"segment_id\"] - 2000000\n",
    "synth_df[\"source\"] = \"synth\"\n",
    "full_df = pd.concat([train_df, aux_df, synth_df])\n",
    "full_df = full_df.reset_index()\n",
    "full_df[\"target_type\"] = full_df.target_type.apply(lambda x: 1 if x == \"human\" else 0)"
   ]
  },
  {
   "cell_type": "markdown",
   "metadata": {},
   "source": [
    "## V9"
   ]
  },
  {
   "cell_type": "code",
   "execution_count": null,
   "metadata": {},
   "outputs": [],
   "source": [
    "all_spectrograms = np.load(\"/home/agarcia/repos/mafat-radar-challenge/mafat_radar_challenge/data/mafat_full_spectrogram_centered_v2.npy\")"
   ]
  },
  {
   "cell_type": "code",
   "execution_count": null,
   "metadata": {},
   "outputs": [],
   "source": [
    "assert len(all_spectrograms) == len(full_df)"
   ]
  },
  {
   "cell_type": "code",
   "execution_count": null,
   "metadata": {},
   "outputs": [],
   "source": [
    "group_kfold = GroupKFold(n_splits=5)\n",
    "indexes, y_shuffled, groups_shuffled = shuffle(full_df.index.values, full_df.target_type.values, full_df.track_id.values, random_state=0)\n",
    "for fold, (train_index, test_index) in enumerate(group_kfold.split(indexes, y_shuffled, groups_shuffled)):\n",
    "    print(fold)\n",
    "    print(\"TRAIN:\", train_index, \"TEST:\", test_index)\n",
    "    train_fold_idx, test_fold_idx = indexes[train_index], indexes[test_index]\n",
    "    spectrograms_train, spectrograms_test = all_spectrograms[train_fold_idx], all_spectrograms[test_fold_idx]\n",
    "    df_train, df_test = full_df.loc[train_fold_idx, :].copy(), full_df.loc[test_fold_idx, :].copy()\n",
    "    print(len(spectrograms_train), len(spectrograms_test), len(df_train), len(df_test))\n",
    "    np.save(\"/home/agarcia/repos/mafat-radar-challenge/mafat_radar_challenge/data/mafat_train_v9_spectrogram_fold{}.npy\".format(fold), spectrograms_train)\n",
    "    np.save(\"/home/agarcia/repos/mafat-radar-challenge/mafat_radar_challenge/data/mafat_val_v9_spectrogram_fold{}.npy\".format(fold), spectrograms_test)\n",
    "    df_train.to_csv(\"/home/agarcia/repos/mafat-radar-challenge/mafat_radar_challenge/data/mafat_train_v9_fold{}.csv\".format(fold), index=False)\n",
    "    df_test.to_csv(\"/home/agarcia/repos/mafat-radar-challenge/mafat_radar_challenge/data/mafat_val_v9_fold{}.csv\".format(fold), index=False)\n",
    "    del spectrograms_train\n",
    "    del spectrograms_test"
   ]
  },
  {
   "cell_type": "code",
   "execution_count": null,
   "metadata": {},
   "outputs": [],
   "source": [
    "df_test.track_id.isin(df_train.track_id).sum()"
   ]
  },
  {
   "cell_type": "code",
   "execution_count": null,
   "metadata": {},
   "outputs": [],
   "source": [
    "df_train.track_id.isin(df_test.track_id).sum()"
   ]
  },
  {
   "cell_type": "code",
   "execution_count": null,
   "metadata": {},
   "outputs": [],
   "source": [
    "df_test.groupby(\"target_type\").count()"
   ]
  },
  {
   "cell_type": "code",
   "execution_count": null,
   "metadata": {},
   "outputs": [],
   "source": [
    "df_train.groupby(\"target_type\").count()"
   ]
  },
  {
   "cell_type": "markdown",
   "metadata": {},
   "source": [
    "# Extract centered Background spectrogram"
   ]
  },
  {
   "cell_type": "code",
   "execution_count": null,
   "metadata": {},
   "outputs": [],
   "source": [
    "back_data = load_pkl_data(\"MAFAT RADAR Challenge - Auxiliary Background(empty) Set V1\")"
   ]
  },
  {
   "cell_type": "code",
   "execution_count": null,
   "metadata": {},
   "outputs": [],
   "source": [
    "centered_full_spectrogram = list()\n",
    "for doppler_burst, iq in zip(back_data[\"doppler_burst\"], back_data[\"iq_sweep_burst\"]):\n",
    "    spectrogram = fft(iq, axis=0)\n",
    "    offset = 63 - int(np.percentile(doppler_burst, 50, interpolation=\"lower\"))\n",
    "    spectrogram = np.roll(spectrogram, offset, axis=0)\n",
    "    centered_full_spectrogram.append(spectrogram)"
   ]
  },
  {
   "cell_type": "code",
   "execution_count": null,
   "metadata": {},
   "outputs": [],
   "source": [
    "back_spectrogram = np.array(centered_full_spectrogram)"
   ]
  },
  {
   "cell_type": "code",
   "execution_count": null,
   "metadata": {},
   "outputs": [],
   "source": [
    "np.save(\"/home/agarcia/repos/mafat-radar-challenge/mafat_radar_challenge/data/mafat_background_v9_spectrogram.npy\", back_spectrogram)"
   ]
  },
  {
   "cell_type": "markdown",
   "metadata": {},
   "source": [
    "# Extract centered FULL Public test dataset"
   ]
  },
  {
   "cell_type": "markdown",
   "metadata": {},
   "source": [
    "## v9"
   ]
  },
  {
   "cell_type": "code",
   "execution_count": null,
   "metadata": {},
   "outputs": [],
   "source": [
    "back_data = load_pkl_data(\"MAFAT RADAR Challenge - FULL Public Test Set V1\")"
   ]
  },
  {
   "cell_type": "code",
   "execution_count": null,
   "metadata": {},
   "outputs": [],
   "source": [
    "centered_full_spectrogram = list()\n",
    "for doppler_burst, iq in zip(back_data[\"doppler_burst\"], back_data[\"iq_sweep_burst\"]):\n",
    "    spectrogram = fft(iq, axis=0)\n",
    "    offset = 63 - int(np.percentile(doppler_burst, 50, interpolation=\"lower\"))\n",
    "    spectrogram = np.roll(spectrogram, offset, axis=0)\n",
    "    centered_full_spectrogram.append(spectrogram)"
   ]
  },
  {
   "cell_type": "code",
   "execution_count": null,
   "metadata": {},
   "outputs": [],
   "source": [
    "back_spectrogram = np.array(centered_full_spectrogram)"
   ]
  },
  {
   "cell_type": "code",
   "execution_count": null,
   "metadata": {},
   "outputs": [],
   "source": [
    "plt.imshow(back_spectrogram[0])"
   ]
  },
  {
   "cell_type": "code",
   "execution_count": null,
   "metadata": {},
   "outputs": [],
   "source": [
    "np.save(\"/home/agarcia/repos/mafat-radar-challenge/mafat_radar_challenge/data/mafat_full_public_test_v9_spectrogram.npy\", back_spectrogram)"
   ]
  },
  {
   "cell_type": "markdown",
   "metadata": {},
   "source": [
    "- Metadata"
   ]
  },
  {
   "cell_type": "code",
   "execution_count": null,
   "metadata": {},
   "outputs": [],
   "source": [
    "df = pd.read_csv(\"/home/agarcia/repos/mafat-radar-challenge/mafat_radar_challenge/data/MAFAT RADAR Challenge - FULL Public Test Set V1.csv\")\n",
    "df.loc[df.target_type==\"human\", \"target_type\"] = 1\n",
    "df.loc[df.target_type==\"animal\", \"target_type\"] = 0\n",
    "df.target_type = df.target_type.apply(int)\n",
    "df.to_csv(\"/home/agarcia/repos/mafat-radar-challenge/mafat_radar_challenge/data/mafat_full_public_test_set.csv\", index=False)"
   ]
  },
  {
   "cell_type": "markdown",
   "metadata": {},
   "source": [
    "- Mapping metadata"
   ]
  },
  {
   "cell_type": "code",
   "execution_count": null,
   "metadata": {},
   "outputs": [],
   "source": [
    "df = pd.read_csv(\"/home/agarcia/repos/mafat-radar-challenge/mafat_radar_challenge/data/MAFAT RADAR Challenge - FULL Public Test Set V1.csv\")\n",
    "df.loc[df.target_type==\"human\", \"target_type\"] = 1\n",
    "df.loc[df.target_type==\"animal\", \"target_type\"] = 0\n",
    "df.target_type = df.target_type.apply(int)\n",
    "mapping = pd.read_csv(\"/home/agarcia/repos/mafat-radar-challenge/mafat_radar_challenge/data/mapping_public_set_to_full_public_set.csv\")"
   ]
  },
  {
   "cell_type": "code",
   "execution_count": null,
   "metadata": {},
   "outputs": [],
   "source": [
    "df[\"source\"] = None\n",
    "df.loc[df.segment_id.isin(mapping.new_segment_id_full_public), \"source\"] = \"public\"\n",
    "df.loc[~df.segment_id.isin(mapping.new_segment_id_full_public), \"source\"] = \"extra_public\""
   ]
  },
  {
   "cell_type": "code",
   "execution_count": null,
   "metadata": {},
   "outputs": [],
   "source": [
    "df.to_csv(\"/home/agarcia/repos/mafat-radar-challenge/mafat_radar_challenge/data/mafat_full_public_test_set.csv\", index=False)"
   ]
  },
  {
   "cell_type": "markdown",
   "metadata": {},
   "source": [
    "# Extract centered Private test dataset"
   ]
  },
  {
   "cell_type": "markdown",
   "metadata": {},
   "source": [
    "## v9"
   ]
  },
  {
   "cell_type": "code",
   "execution_count": null,
   "metadata": {},
   "outputs": [],
   "source": [
    "back_data = load_pkl_data(\"MAFAT RADAR Challenge - Private Test Set V1\")"
   ]
  },
  {
   "cell_type": "code",
   "execution_count": null,
   "metadata": {},
   "outputs": [],
   "source": [
    "centered_full_spectrogram = list()\n",
    "for doppler_burst, iq in zip(back_data[\"doppler_burst\"], back_data[\"iq_sweep_burst\"]):\n",
    "    spectrogram = fft(iq, axis=0)\n",
    "    offset = 63 - int(np.percentile(doppler_burst, 50, interpolation=\"lower\"))\n",
    "    spectrogram = np.roll(spectrogram, offset, axis=0)\n",
    "    centered_full_spectrogram.append(spectrogram)"
   ]
  },
  {
   "cell_type": "code",
   "execution_count": null,
   "metadata": {},
   "outputs": [],
   "source": [
    "back_spectrogram = np.array(centered_full_spectrogram)"
   ]
  },
  {
   "cell_type": "code",
   "execution_count": null,
   "metadata": {},
   "outputs": [],
   "source": [
    "for x in back_spectrogram:\n",
    "    plt.imshow(x)\n",
    "    plt.show()"
   ]
  },
  {
   "cell_type": "code",
   "execution_count": null,
   "metadata": {},
   "outputs": [],
   "source": [
    "np.save(\"/home/agarcia/repos/mafat-radar-challenge/mafat_radar_challenge/data/mafat_private_test_v9_spectrogram.npy\", back_spectrogram)"
   ]
  }
 ],
 "metadata": {
  "kernelspec": {
   "display_name": "Python 3",
   "language": "python",
   "name": "python3"
  },
  "language_info": {
   "codemirror_mode": {
    "name": "ipython",
    "version": 3
   },
   "file_extension": ".py",
   "mimetype": "text/x-python",
   "name": "python",
   "nbconvert_exporter": "python",
   "pygments_lexer": "ipython3",
   "version": "3.6.9"
  }
 },
 "nbformat": 4,
 "nbformat_minor": 4
}
