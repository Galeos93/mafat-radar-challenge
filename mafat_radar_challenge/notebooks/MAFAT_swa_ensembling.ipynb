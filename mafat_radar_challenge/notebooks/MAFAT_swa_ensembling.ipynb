{
 "cells": [
  {
   "cell_type": "code",
   "execution_count": 1,
   "metadata": {},
   "outputs": [],
   "source": [
    "import torch\n",
    "import numpy as np\n",
    "import cv2\n",
    "import os\n",
    "from functools import partial\n",
    "import itertools\n",
    "import tqdm\n",
    "\n",
    "import mafat_radar_challenge.data_loader.augmentation as module_aug\n",
    "import mafat_radar_challenge.data_loader.data_loaders as module_data\n",
    "import mafat_radar_challenge.model.loss as module_loss\n",
    "import mafat_radar_challenge.model.metric as module_metric\n",
    "import mafat_radar_challenge.model.model as module_arch\n",
    "from mafat_radar_challenge.trainer import Trainer, MAFATTrainer\n",
    "from mafat_radar_challenge.utils import setup_logger\n",
    "from mafat_radar_challenge.tester import MAFATTester\n",
    "import mafat_radar_challenge.data_loader.data_splitter as module_splitter\n",
    "import mafat_radar_challenge.data_loader.samplers as module_sampler\n",
    "import mafat_radar_challenge.data_loader.mixers as module_mix\n",
    "\n",
    "from mafat_radar_challenge.main import get_instance, setup_device, apply_swa\n",
    "from mafat_radar_challenge.cli import load_config\n",
    "\n",
    "import matplotlib.pyplot as plt\n",
    "from sklearn import metrics\n",
    "from scipy.stats import pearsonr\n",
    "import pandas as pd"
   ]
  },
  {
   "cell_type": "code",
   "execution_count": 2,
   "metadata": {},
   "outputs": [],
   "source": [
    "def plot_roc_curve(gt, score, suffix=\"\"):\n",
    "    fpr, tpr, th = metrics.roc_curve(gt, score)\n",
    "    auc = round(metrics.auc(fpr, tpr), 4)\n",
    "    plt.semilogx(fpr, tpr, \"-\", label=\"AUC = {}\".format(auc) + \" \" + suffix)\n",
    "    plt.xlabel(\"FPR\")\n",
    "    plt.ylabel(\"TPR\")\n",
    "    plt.grid(which=\"both\")\n",
    "    plt.legend()\n",
    "    \n",
    "def auc_score(gt, preds):\n",
    "    fpr, tpr, th = metrics.roc_curve(gt, preds)\n",
    "    return -metrics.auc(fpr, tpr)\n",
    "    \n",
    "def precision_recall_curve(gt, score, suffix=\"\"):\n",
    "    # fig = plt.figure(figsize=(15,10))\n",
    "    prec, recall, th = metrics.precision_recall_curve(gt, score)\n",
    "    # auc = metrics.auc(prec, recall)\n",
    "    plt.plot(prec, recall, \"-\", label=suffix)#, label=\"AUC = {}\".format(auc))\n",
    "    plt.xlabel(\"Precision\")\n",
    "    plt.ylabel(\"Recall\")\n",
    "    plt.grid(which=\"both\")\n",
    "    plt.legend()\n",
    "    \n",
    "def plot_histogram(positive_preds, negative_preds):\n",
    "    fig = plt.figure(figsize=(15,10))\n",
    "    ax1 = fig.add_subplot(111)\n",
    "    ax2 = ax1.twinx()\n",
    "    ax2.hist(positive_preds, alpha=0.6, log=False, label='+', cumulative=False, bins=30, color='orange')\n",
    "    ax1.hist(negative_preds, alpha=0.4, log=False, label='-', cumulative=False, bins=30, color='blue')\n",
    "    ax1.legend(loc=1)\n",
    "    ax2.legend(loc=2)\n",
    "    plt.show()\n",
    "    \n",
    "def plot_stacked_histogram(df, grouping_col=\"snr_type\"):\n",
    "    group_values = df[grouping_col].unique()\n",
    "    positive_df = df[df.target_type == 1]\n",
    "    negative_df = df[df.target_type == 0]    \n",
    "        \n",
    "    fig = plt.figure(figsize=(15,10))\n",
    "    ax1 = fig.add_subplot(111)\n",
    "    ax2 = ax1.twinx()\n",
    "    pos_colors = [y for x,y in zip(group_values, [\"orange\", \"lime\", \"yellow\"])]\n",
    "    neg_colors = [y for x,y in zip(group_values, [\"blue\", \"purple\", \"cyan\"])]\n",
    "    ax2.hist([positive_df.loc[positive_df[grouping_col] == x, \"score\"].values.tolist() for x in group_values], alpha=0.6, log=False, label=[x + ' +' for x in group_values], stacked=True, cumulative=False, bins=30, color=pos_colors)\n",
    "    ax1.hist([negative_df.loc[negative_df[grouping_col] == x, \"score\"].values.tolist() for x in group_values], alpha=0.4, log=False, label=[x + ' -' for x in group_values], stacked=True, cumulative=False, bins=30, color=neg_colors)\n",
    "    ax1.legend(loc=2)\n",
    "    ax2.legend(loc=1)\n",
    "    plt.show()\n",
    "    \n",
    "def plot_calibration_curves(gt, score, suffix=\"\"):\n",
    "    fpr, tpr, th = metrics.roc_curve(gt, score)\n",
    "    fpr = np.clip(fpr, 0, 1)\n",
    "    tpr = np.clip(tpr, 0, 1)\n",
    "    th = np.clip(th, 0, 1)\n",
    "    fnr = 1 - tpr\n",
    "    plt.plot(th, fpr, label=\"FPR\" + \" \" + suffix)\n",
    "    plt.plot(th, fnr, label=\"FNR\" + \" \" + suffix)\n",
    "    #plt.yscale(\"log\")\n",
    "    plt.xlabel(\"TH\")\n",
    "    plt.ylabel(\"FPR & FNR\")\n",
    "    plt.grid(which=\"both\")\n",
    "    plt.legend()"
   ]
  },
  {
   "cell_type": "code",
   "execution_count": 3,
   "metadata": {},
   "outputs": [],
   "source": [
    "def predict(model_path, checkpoint=None, data_path=None, metadata_path=None, filter_synth=False, filter_aux=True):\n",
    "    print(model_path)\n",
    "    # Setup\n",
    "    cfg = load_config(os.path.join(os.path.dirname(model_path), \"config.yml\"))\n",
    "    transforms = get_instance(module_aug, \"augmentation\", cfg)\n",
    "    if \"sampler\" in cfg:\n",
    "        sampler = getattr(module_sampler, cfg[\"sampler\"][\"type\"])\n",
    "        sampler = partial(sampler, **cfg[\"sampler\"][\"args\"])\n",
    "    else:\n",
    "        sampler = None\n",
    "\n",
    "    if \"mixer\" in cfg:\n",
    "        mixer = get_instance(module_mix, \"mixer\", cfg)\n",
    "    else:\n",
    "        mixer = None\n",
    "    if (data_path is not None) and (metadata_path is not None):\n",
    "        cfg[\"val_data_loader\"][\"args\"][\"batch_size\"] = 32\n",
    "        cfg[\"val_data_loader\"][\"args\"][\"data_dir\"] = data_path\n",
    "        cfg[\"val_data_loader\"][\"args\"][\"csv_dir\"] = metadata_path\n",
    "    valid_data_loader = get_instance(module_data, \"val_data_loader\", cfg, transforms, sampler)\n",
    "    validation_df = valid_data_loader.dataset.df.copy()\n",
    "    model = get_instance(module_arch, \"arch\", cfg)\n",
    "    if checkpoint is None:\n",
    "        checkpoint = torch.load(model_path)\n",
    "    model.load_state_dict(checkpoint[\"state_dict\"])\n",
    "    model, device = setup_device(model, cfg[\"target_devices\"])\n",
    "    model.eval()\n",
    "\n",
    "    # Predict\n",
    "    counter = 0\n",
    "    preds = list()\n",
    "    gt = list()\n",
    "    with torch.no_grad():\n",
    "        for idx, (image_batch, label_batch) in enumerate(valid_data_loader):\n",
    "            if isinstance(image_batch, list):\n",
    "                for i, _ in enumerate(image_batch):\n",
    "                    image_batch[i] = image_batch[i].to(device)\n",
    "                data = image_batch\n",
    "            else:\n",
    "                data = image_batch.to(device)\n",
    "            output = model(data).cpu()\n",
    "            output = torch.sigmoid(output)\n",
    "            preds.append(output.cpu().numpy())\n",
    "            for idx_2, (image, label) in enumerate(zip(image_batch, label_batch)):\n",
    "                gt.append(label[0].cpu().numpy())\n",
    "\n",
    "    preds = np.vstack(preds).reshape(-1).tolist()\n",
    "    gt = np.vstack(gt).reshape(-1).tolist()\n",
    "    \n",
    "    validation_df[\"label\"] = gt\n",
    "    validation_df[\"score\"] = preds\n",
    "    \n",
    "    if filter_synth:\n",
    "        validation_df = validation_df[validation_df.source != \"synth\"]\n",
    "    if filter_aux:\n",
    "        aux_segments = validation_df.loc[validation_df.source == \"aux\", \"segment_id\"]\n",
    "        validation_df = validation_df[~validation_df.segment_id.isin(aux_segments)]\n",
    "        \n",
    "    return validation_df"
   ]
  },
  {
   "cell_type": "code",
   "execution_count": 4,
   "metadata": {},
   "outputs": [],
   "source": [
    "# Take best model, predict and calculate score"
   ]
  },
  {
   "cell_type": "code",
   "execution_count": 5,
   "metadata": {},
   "outputs": [],
   "source": [
    "base_models = [\n",
    "    \"/mnt/agarcia_HDD/mafat-radar-challenge-experiment/MAFAT_replica_aug_eff_b2_more_aux_more_synth_specaug_simple_aug_v5_adam_centered/0905-131049/checkpoints/checkpoint-epoch13.pth\"\n",
    "]"
   ]
  },
  {
   "cell_type": "code",
   "execution_count": 6,
   "metadata": {},
   "outputs": [],
   "source": [
    "base_models = [\n",
    "#     \"/mnt/agarcia_HDD/mafat-radar-challenge-experiment/MAFAT_replica_aug_eff_b2_more_aux_more_synth_specaug_simple_aug_v9_adam_fold0/0922-202644/checkpoints/model_best.pth\",\n",
    "#     \"/mnt/agarcia_HDD/mafat-radar-challenge-experiment/MAFAT_replica_aug_eff_b2_more_aux_more_synth_specaug_simple_aug_v9_adam_fold1/0923-175040/checkpoints/model_best.pth\",\n",
    "#     \"/mnt/agarcia_HDD/mafat-radar-challenge-experiment/MAFAT_replica_aug_eff_b2_more_aux_more_synth_specaug_simple_aug_v9_adam_fold2/0923-200711/checkpoints/model_best.pth\",\n",
    "#     \"/mnt/agarcia_HDD/mafat-radar-challenge-experiment/MAFAT_replica_aug_eff_b2_more_aux_more_synth_specaug_simple_aug_v9_adam_fold3/0923-222449/checkpoints/model_best.pth\",\n",
    "#     \"/mnt/agarcia_HDD/mafat-radar-challenge-experiment/MAFAT_replica_aug_eff_b2_more_aux_more_synth_specaug_simple_aug_v9_adam_fold4/0924-004209/checkpoints/model_best.pth\",   \n",
    "#     \"/mnt/agarcia_HDD/mafat-radar-challenge-experiment/MAFAT_replica_aug_eff_b2_more_aux_more_synth_specaug_simple_aug_v8_adam_fold0/0924-200924/checkpoints/model_best.pth\",\n",
    "#     \"/mnt/agarcia_HDD/mafat-radar-challenge-experiment/MAFAT_replica_aug_eff_b2_more_aux_more_synth_specaug_simple_aug_v8_adam_fold1/0924-222622/checkpoints/model_best.pth\",\n",
    "#     \"/mnt/agarcia_HDD/mafat-radar-challenge-experiment/MAFAT_replica_aug_eff_b2_more_aux_more_synth_specaug_simple_aug_v8_adam_fold2/0925-004336/checkpoints/model_best.pth\",\n",
    "#     \"/mnt/agarcia_HDD/mafat-radar-challenge-experiment/MAFAT_replica_aug_eff_b2_more_aux_more_synth_specaug_simple_aug_v8_adam_fold3/0925-030037/checkpoints/model_best.pth\",\n",
    "#     \"/mnt/agarcia_HDD/mafat-radar-challenge-experiment/MAFAT_replica_aug_eff_b2_more_aux_more_synth_specaug_simple_aug_v8_adam_fold4/0925-051739/checkpoints/model_best.pth\",   \n",
    "#     \"/mnt/agarcia_HDD/mafat-radar-challenge-experiment/MAFAT_replica_aug_eff_b3_more_aux_more_synth_specaug_simple_aug_v9_adam_fold0/0925-151207/checkpoints/model_best.pth\",\n",
    "#     \"/mnt/agarcia_HDD/mafat-radar-challenge-experiment/MAFAT_replica_aug_eff_b3_more_aux_more_synth_specaug_simple_aug_v9_adam_fold1/0925-185430/checkpoints/model_best.pth\",\n",
    "#     \"/mnt/agarcia_HDD/mafat-radar-challenge-experiment/MAFAT_replica_aug_eff_b3_more_aux_more_synth_specaug_simple_aug_v9_adam_fold2/0925-223701/checkpoints/model_best.pth\",\n",
    "#     \"/mnt/agarcia_HDD/mafat-radar-challenge-experiment/MAFAT_replica_aug_eff_b3_more_aux_more_synth_specaug_simple_aug_v9_adam_fold3/0926-021930/checkpoints/model_best.pth\",\n",
    "#     \"/mnt/agarcia_HDD/mafat-radar-challenge-experiment/MAFAT_replica_aug_eff_b3_more_aux_more_synth_specaug_simple_aug_v9_adam_fold4/0926-060202/checkpoints/model_best.pth\",   \n",
    "#     \"/mnt/agarcia_HDD/mafat-radar-challenge-experiment/MAFAT_replica_aug_eff_b2_more_aux_more_synth_specaug_more_aug_v9_adam_centered0/0927-185118/checkpoints/model_best.pth\",\n",
    "#     \"/mnt/agarcia_HDD/mafat-radar-challenge-experiment/MAFAT_replica_aug_eff_b2_more_aux_more_synth_specaug_more_aug_v9_adam_centered1/0927-210936/checkpoints/model_best.pth\",\n",
    "#     \"/mnt/agarcia_HDD/mafat-radar-challenge-experiment/MAFAT_replica_aug_eff_b2_more_aux_more_synth_specaug_more_aug_v9_adam_centered2/0927-232928/checkpoints/model_best.pth\",\n",
    "#     \"/mnt/agarcia_HDD/mafat-radar-challenge-experiment/MAFAT_replica_aug_eff_b2_more_aux_more_synth_specaug_more_aug_v9_adam_centered3/0928-014604/checkpoints/model_best.pth\",\n",
    "#     \"/mnt/agarcia_HDD/mafat-radar-challenge-experiment/MAFAT_replica_aug_eff_b2_more_aux_more_synth_specaug_more_aug_v9_adam_centered4/0928-040237/checkpoints/model_best.pth\",   \n",
    "#     \"/mnt/agarcia_HDD/mafat-radar-challenge-experiment/MAFAT_replica_aug_eff_b2_more_aux_more_synth_specaug_less_aug_v9_adam_centered0/0928-210739/checkpoints/model_best.pth\",\n",
    "#     \"/mnt/agarcia_HDD/mafat-radar-challenge-experiment/MAFAT_replica_aug_eff_b2_more_aux_more_synth_specaug_less_aug_v9_adam_centered1/0928-232816/checkpoints/model_best.pth\",\n",
    "#     \"/mnt/agarcia_HDD/mafat-radar-challenge-experiment/MAFAT_replica_aug_eff_b2_more_aux_more_synth_specaug_less_aug_v9_adam_centered2/0929-014620/checkpoints/model_best.pth\",\n",
    "#     \"/mnt/agarcia_HDD/mafat-radar-challenge-experiment/MAFAT_replica_aug_eff_b2_more_aux_more_synth_specaug_less_aug_v9_adam_centered3/0929-040430/checkpoints/model_best.pth\",\n",
    "#     \"/mnt/agarcia_HDD/mafat-radar-challenge-experiment/MAFAT_replica_aug_eff_b2_more_aux_more_synth_specaug_less_aug_v9_adam_centered4/0929-062240/checkpoints/model_best.pth\",   \n",
    "#     \"/mnt/agarcia_HDD/mafat-radar-challenge-experiment/MAFAT_replica_aug_eff_b2_more_aux_more_synth_specaug_less_aug_v9_adam_centered_blend0/0929-225220/checkpoints/model_best.pth\",\n",
    "#     \"/mnt/agarcia_HDD/mafat-radar-challenge-experiment/MAFAT_replica_aug_eff_b2_more_aux_more_synth_specaug_less_aug_v9_adam_centered_blend1/0930-011037/checkpoints/model_best.pth\",\n",
    "#     \"/mnt/agarcia_HDD/mafat-radar-challenge-experiment/MAFAT_replica_aug_eff_b2_more_aux_more_synth_specaug_less_aug_v9_adam_centered_blend2/0930-032751/checkpoints/model_best.pth\",\n",
    "#     \"/mnt/agarcia_HDD/mafat-radar-challenge-experiment/MAFAT_replica_aug_eff_b2_more_aux_more_synth_specaug_less_aug_v9_adam_centered_blend3/0930-054506/checkpoints/model_best.pth\",\n",
    "#     \"/mnt/agarcia_HDD/mafat-radar-challenge-experiment/MAFAT_replica_aug_eff_b2_more_aux_more_synth_specaug_less_aug_v9_adam_centered_blend4/0930-080225/checkpoints/model_best.pth\",   \n",
    "#     \"/mnt/agarcia_HDD/mafat-radar-challenge-experiment/MAFAT_replica_aug_eff_b1_more_aux_more_synth_specaug_simple_aug_v9_adam_centered0/0930-213909/checkpoints/model_best.pth\",\n",
    "#     \"/mnt/agarcia_HDD/mafat-radar-challenge-experiment/MAFAT_replica_aug_eff_b1_more_aux_more_synth_specaug_simple_aug_v9_adam_centered1/0930-234106/checkpoints/model_best.pth\",\n",
    "#     \"/mnt/agarcia_HDD/mafat-radar-challenge-experiment/MAFAT_replica_aug_eff_b1_more_aux_more_synth_specaug_simple_aug_v9_adam_centered2/1001-014329/checkpoints/model_best.pth\",\n",
    "#     \"/mnt/agarcia_HDD/mafat-radar-challenge-experiment/MAFAT_replica_aug_eff_b1_more_aux_more_synth_specaug_simple_aug_v9_adam_centered3/1001-034550/checkpoints/model_best.pth\",\n",
    "#     \"/mnt/agarcia_HDD/mafat-radar-challenge-experiment/MAFAT_replica_aug_eff_b1_more_aux_more_synth_specaug_simple_aug_v9_adam_centered4/1001-054814/checkpoints/model_best.pth\",   \n",
    "#     \"/mnt/agarcia_HDD/mafat-radar-challenge-experiment/MAFAT_replica_aug_eff_b2_more_aux_more_synth_specaug_simple_aug_v9_adam_pw_0.9_fold0/1001-195710/checkpoints/model_best.pth\",\n",
    "#     \"/mnt/agarcia_HDD/mafat-radar-challenge-experiment/MAFAT_replica_aug_eff_b2_more_aux_more_synth_specaug_simple_aug_v9_adam_pw_0.9_fold1/1001-221433/checkpoints/model_best.pth\",\n",
    "#     \"/mnt/agarcia_HDD/mafat-radar-challenge-experiment/MAFAT_replica_aug_eff_b2_more_aux_more_synth_specaug_simple_aug_v9_adam_pw_0.9_fold2/1002-003156/checkpoints/model_best.pth\",\n",
    "#     \"/mnt/agarcia_HDD/mafat-radar-challenge-experiment/MAFAT_replica_aug_eff_b2_more_aux_more_synth_specaug_simple_aug_v9_adam_pw_0.9_fold3/1002-024950/checkpoints/model_best.pth\",\n",
    "#     \"/mnt/agarcia_HDD/mafat-radar-challenge-experiment/MAFAT_replica_aug_eff_b2_more_aux_more_synth_specaug_simple_aug_v9_adam_pw_0.9_fold4/1002-050747/checkpoints/model_best.pth\",   \n",
    "#     \"/mnt/agarcia_HDD/mafat-radar-challenge-experiment/MAFAT_replica_aug_eff_b2_more_aux_more_synth_specaug_simple_aug_v9_adam_focal_fold0/1002-072547/checkpoints/model_best.pth\",\n",
    "#     \"/mnt/agarcia_HDD/mafat-radar-challenge-experiment/MAFAT_replica_aug_eff_b2_more_aux_more_synth_specaug_simple_aug_v9_adam_focal_fold1/1002-094356/checkpoints/model_best.pth\",\n",
    "#     \"/mnt/agarcia_HDD/mafat-radar-challenge-experiment/MAFAT_replica_aug_eff_b2_more_aux_more_synth_specaug_simple_aug_v9_adam_focal_fold2/1002-120142/checkpoints/model_best.pth\",\n",
    "#     \"/mnt/agarcia_HDD/mafat-radar-challenge-experiment/MAFAT_replica_aug_eff_b2_more_aux_more_synth_specaug_simple_aug_v9_adam_focal_fold3/1002-141913/checkpoints/model_best.pth\",\n",
    "#     \"/mnt/agarcia_HDD/mafat-radar-challenge-experiment/MAFAT_replica_aug_eff_b2_more_aux_more_synth_specaug_simple_aug_v9_adam_focal_fold4/1002-163722/checkpoints/model_best.pth\",   \n",
    "#     \"/mnt/agarcia_HDD/mafat-radar-challenge-experiment/MAFAT_replica_aug_eff_b4_more_aux_more_synth_specaug_simple_aug_v9_adam_centered_fold0/1003-101910/checkpoints/model_best.pth\",\n",
    "    \"/mnt/agarcia_HDD/mafat-radar-challenge-experiment/MAFAT_replica_aug_eff_b4_more_aux_more_synth_specaug_simple_aug_v9_adam_centered_fold1/1003-175906/checkpoints/model_best.pth\",\n",
    "    \"/mnt/agarcia_HDD/mafat-radar-challenge-experiment/MAFAT_replica_aug_eff_b4_more_aux_more_synth_specaug_simple_aug_v9_adam_centered_fold2/1004-013832/checkpoints/model_best.pth\",\n",
    "    \"/mnt/agarcia_HDD/mafat-radar-challenge-experiment/MAFAT_replica_aug_eff_b4_more_aux_more_synth_specaug_simple_aug_v9_adam_centered_fold3/1004-091304/checkpoints/model_best.pth\",\n",
    "    \"/mnt/agarcia_HDD/mafat-radar-challenge-experiment/MAFAT_replica_aug_eff_b4_more_aux_more_synth_specaug_simple_aug_v9_adam_centered_fold4/1004-164923/checkpoints/model_best.pth\",   \n",
    "    \"/mnt/agarcia_HDD/mafat-radar-challenge-experiment/MAFAT_replica_aug_eff_b2_pruned_more_aux_more_synth_specaug_simple_aug_v9_adam_centered0/1005-005432/checkpoints/model_best.pth\",\n",
    "    \"/mnt/agarcia_HDD/mafat-radar-challenge-experiment/MAFAT_replica_aug_eff_b2_pruned_more_aux_more_synth_specaug_simple_aug_v9_adam_centered1/1005-021455/checkpoints/model_best.pth\",\n",
    "    \"/mnt/agarcia_HDD/mafat-radar-challenge-experiment/MAFAT_replica_aug_eff_b2_pruned_more_aux_more_synth_specaug_simple_aug_v9_adam_centered2/1005-033519/checkpoints/model_best.pth\",\n",
    "    \"/mnt/agarcia_HDD/mafat-radar-challenge-experiment/MAFAT_replica_aug_eff_b2_pruned_more_aux_more_synth_specaug_simple_aug_v9_adam_centered3/1005-045546/checkpoints/model_best.pth\",\n",
    "    \"/mnt/agarcia_HDD/mafat-radar-challenge-experiment/MAFAT_replica_aug_eff_b2_pruned_more_aux_more_synth_specaug_simple_aug_v9_adam_centered4/1005-061620/checkpoints/model_best.pth\",   \n",
    "    \"/mnt/agarcia_HDD/mafat-radar-challenge-experiment/MAFAT_replica_aug_eff_b5_more_aux_more_synth_specaug_simple_aug_v9_adam_centered_fold0/1005-184411/checkpoints/model_best.pth\",\n",
    "    \"/mnt/agarcia_HDD/mafat-radar-challenge-experiment/MAFAT_replica_aug_eff_b5_more_aux_more_synth_specaug_simple_aug_v9_adam_centered_fold1/1006-082322/checkpoints/model_best.pth\",\n",
    "    \"/mnt/agarcia_HDD/mafat-radar-challenge-experiment/MAFAT_replica_aug_eff_b5_more_aux_more_synth_specaug_simple_aug_v9_adam_centered_fold2/1006-220329/checkpoints/model_best.pth\",\n",
    "    \"/mnt/agarcia_HDD/mafat-radar-challenge-experiment/MAFAT_replica_aug_eff_b5_more_aux_more_synth_specaug_simple_aug_v9_adam_centered_fold3/1007-114115/checkpoints/model_best.pth\",\n",
    "    \"/mnt/agarcia_HDD/mafat-radar-challenge-experiment/MAFAT_replica_aug_eff_b5_more_aux_more_synth_specaug_simple_aug_v9_adam_centered_fold4/1008-012514/checkpoints/model_best.pth\",   \n",
    "\n",
    "]"
   ]
  },
  {
   "cell_type": "code",
   "execution_count": 7,
   "metadata": {
    "scrolled": false
   },
   "outputs": [
    {
     "name": "stderr",
     "output_type": "stream",
     "text": [
      "\r",
      "  0%|          | 0/14 [00:00<?, ?it/s]"
     ]
    },
    {
     "name": "stdout",
     "output_type": "stream",
     "text": [
      "/mnt/agarcia_HDD/mafat-radar-challenge-experiment/MAFAT_replica_aug_eff_b4_more_aux_more_synth_specaug_simple_aug_v9_adam_centered_fold1/1003-175906/checkpoints/model_best.pth\n",
      "Loaded pretrained weights for efficientnet-b4\n",
      "Base score:  -0.9827229299363057\n",
      "Loaded pretrained weights for efficientnet-b4\n",
      "Start epoch:  11\n",
      "Finished\n",
      "Start epoch:  12\n",
      "Finished\n",
      "/mnt/agarcia_HDD/mafat-radar-challenge-experiment/MAFAT_replica_aug_eff_b4_more_aux_more_synth_specaug_simple_aug_v9_adam_centered_fold1/1003-175906/checkpoints/model_best.pth\n",
      "Loaded pretrained weights for efficientnet-b4\n",
      "New score:  -0.9789129252757496\n",
      "Loaded pretrained weights for efficientnet-b4\n",
      "Start epoch:  11\n",
      "Finished\n",
      "Start epoch:  12\n",
      "Finished\n",
      "Start epoch:  13\n",
      "Finished\n",
      "/mnt/agarcia_HDD/mafat-radar-challenge-experiment/MAFAT_replica_aug_eff_b4_more_aux_more_synth_specaug_simple_aug_v9_adam_centered_fold1/1003-175906/checkpoints/model_best.pth\n",
      "Loaded pretrained weights for efficientnet-b4\n"
     ]
    },
    {
     "name": "stderr",
     "output_type": "stream",
     "text": [
      "\r",
      "  7%|▋         | 1/14 [15:35<3:22:43, 935.69s/it]"
     ]
    },
    {
     "name": "stdout",
     "output_type": "stream",
     "text": [
      "New score:  -0.9839890476930246\n",
      "Improved score\n",
      "/mnt/agarcia_HDD/mafat-radar-challenge-experiment/MAFAT_replica_aug_eff_b4_more_aux_more_synth_specaug_simple_aug_v9_adam_centered_fold1/1003-175906/checkpoints/checkpoint-epoch11-13.pth -0.9839890476930246\n",
      "/mnt/agarcia_HDD/mafat-radar-challenge-experiment/MAFAT_replica_aug_eff_b4_more_aux_more_synth_specaug_simple_aug_v9_adam_centered_fold2/1004-013832/checkpoints/model_best.pth\n",
      "Loaded pretrained weights for efficientnet-b4\n",
      "Base score:  -0.9785179825101614\n",
      "Loaded pretrained weights for efficientnet-b4\n",
      "Start epoch:  15\n",
      "Finished\n",
      "Start epoch:  16\n",
      "Finished\n",
      "/mnt/agarcia_HDD/mafat-radar-challenge-experiment/MAFAT_replica_aug_eff_b4_more_aux_more_synth_specaug_simple_aug_v9_adam_centered_fold2/1004-013832/checkpoints/model_best.pth\n",
      "Loaded pretrained weights for efficientnet-b4\n",
      "New score:  -0.9665691587633944\n",
      "Loaded pretrained weights for efficientnet-b4\n",
      "Start epoch:  15\n",
      "Finished\n",
      "Start epoch:  16\n",
      "Finished\n",
      "Start epoch:  17\n",
      "Finished\n",
      "/mnt/agarcia_HDD/mafat-radar-challenge-experiment/MAFAT_replica_aug_eff_b4_more_aux_more_synth_specaug_simple_aug_v9_adam_centered_fold2/1004-013832/checkpoints/model_best.pth\n",
      "Loaded pretrained weights for efficientnet-b4\n"
     ]
    },
    {
     "name": "stderr",
     "output_type": "stream",
     "text": [
      "\r",
      " 14%|█▍        | 2/14 [31:09<3:07:02, 935.24s/it]"
     ]
    },
    {
     "name": "stdout",
     "output_type": "stream",
     "text": [
      "New score:  -0.9771215666954058\n",
      "/mnt/agarcia_HDD/mafat-radar-challenge-experiment/MAFAT_replica_aug_eff_b4_more_aux_more_synth_specaug_simple_aug_v9_adam_centered_fold3/1004-091304/checkpoints/model_best.pth\n",
      "Loaded pretrained weights for efficientnet-b4\n",
      "Base score:  -0.9877650044269072\n",
      "Loaded pretrained weights for efficientnet-b4\n",
      "Start epoch:  15\n",
      "Finished\n",
      "Start epoch:  16\n",
      "Finished\n",
      "/mnt/agarcia_HDD/mafat-radar-challenge-experiment/MAFAT_replica_aug_eff_b4_more_aux_more_synth_specaug_simple_aug_v9_adam_centered_fold3/1004-091304/checkpoints/model_best.pth\n",
      "Loaded pretrained weights for efficientnet-b4\n",
      "New score:  -0.9834635843308398\n",
      "Loaded pretrained weights for efficientnet-b4\n",
      "Start epoch:  15\n",
      "Finished\n",
      "Start epoch:  16\n",
      "Finished\n",
      "Start epoch:  17\n",
      "Finished\n",
      "/mnt/agarcia_HDD/mafat-radar-challenge-experiment/MAFAT_replica_aug_eff_b4_more_aux_more_synth_specaug_simple_aug_v9_adam_centered_fold3/1004-091304/checkpoints/model_best.pth\n",
      "Loaded pretrained weights for efficientnet-b4\n"
     ]
    },
    {
     "name": "stderr",
     "output_type": "stream",
     "text": [
      "\r",
      " 21%|██▏       | 3/14 [46:29<2:50:34, 930.44s/it]"
     ]
    },
    {
     "name": "stdout",
     "output_type": "stream",
     "text": [
      "New score:  -0.9855288934126226\n",
      "/mnt/agarcia_HDD/mafat-radar-challenge-experiment/MAFAT_replica_aug_eff_b4_more_aux_more_synth_specaug_simple_aug_v9_adam_centered_fold4/1004-164923/checkpoints/model_best.pth\n",
      "Loaded pretrained weights for efficientnet-b4\n",
      "Base score:  -0.9910760291934876\n",
      "Loaded pretrained weights for efficientnet-b4\n",
      "Start epoch:  17\n",
      "Finished\n",
      "Start epoch:  18\n",
      "Finished\n",
      "/mnt/agarcia_HDD/mafat-radar-challenge-experiment/MAFAT_replica_aug_eff_b4_more_aux_more_synth_specaug_simple_aug_v9_adam_centered_fold4/1004-164923/checkpoints/model_best.pth\n",
      "Loaded pretrained weights for efficientnet-b4\n",
      "New score:  -0.986424182297795\n",
      "Loaded pretrained weights for efficientnet-b4\n",
      "Start epoch:  17\n",
      "Finished\n",
      "Start epoch:  18\n",
      "Finished\n",
      "Start epoch:  19\n",
      "Finished\n",
      "/mnt/agarcia_HDD/mafat-radar-challenge-experiment/MAFAT_replica_aug_eff_b4_more_aux_more_synth_specaug_simple_aug_v9_adam_centered_fold4/1004-164923/checkpoints/model_best.pth\n",
      "Loaded pretrained weights for efficientnet-b4\n"
     ]
    },
    {
     "name": "stderr",
     "output_type": "stream",
     "text": [
      "\r",
      " 29%|██▊       | 4/14 [1:02:03<2:35:15, 931.55s/it]"
     ]
    },
    {
     "name": "stdout",
     "output_type": "stream",
     "text": [
      "New score:  -0.9878642456682741\n",
      "/mnt/agarcia_HDD/mafat-radar-challenge-experiment/MAFAT_replica_aug_eff_b2_pruned_more_aux_more_synth_specaug_simple_aug_v9_adam_centered0/1005-005432/checkpoints/model_best.pth\n",
      "Base score:  -0.9770481971383568\n",
      "Start epoch:  13\n",
      "Finished\n",
      "Start epoch:  14\n",
      "Finished\n",
      "/mnt/agarcia_HDD/mafat-radar-challenge-experiment/MAFAT_replica_aug_eff_b2_pruned_more_aux_more_synth_specaug_simple_aug_v9_adam_centered0/1005-005432/checkpoints/model_best.pth\n",
      "New score:  -0.9728170248663753\n",
      "Start epoch:  13\n",
      "Finished\n",
      "Start epoch:  14\n",
      "Finished\n",
      "Start epoch:  15\n",
      "Finished\n",
      "/mnt/agarcia_HDD/mafat-radar-challenge-experiment/MAFAT_replica_aug_eff_b2_pruned_more_aux_more_synth_specaug_simple_aug_v9_adam_centered0/1005-005432/checkpoints/model_best.pth\n"
     ]
    },
    {
     "name": "stderr",
     "output_type": "stream",
     "text": [
      "\r",
      " 36%|███▌      | 5/14 [1:06:04<1:48:39, 724.39s/it]"
     ]
    },
    {
     "name": "stdout",
     "output_type": "stream",
     "text": [
      "New score:  -0.9716603726331469\n",
      "/mnt/agarcia_HDD/mafat-radar-challenge-experiment/MAFAT_replica_aug_eff_b2_pruned_more_aux_more_synth_specaug_simple_aug_v9_adam_centered1/1005-021455/checkpoints/model_best.pth\n",
      "Base score:  -0.9841929470250116\n",
      "Start epoch:  17\n",
      "Finished\n",
      "/mnt/agarcia_HDD/mafat-radar-challenge-experiment/MAFAT_replica_aug_eff_b2_pruned_more_aux_more_synth_specaug_simple_aug_v9_adam_centered1/1005-021455/checkpoints/model_best.pth\n",
      "New score:  -0.5\n",
      "Start epoch:  17\n",
      "Finished\n",
      "/mnt/agarcia_HDD/mafat-radar-challenge-experiment/MAFAT_replica_aug_eff_b2_pruned_more_aux_more_synth_specaug_simple_aug_v9_adam_centered1/1005-021455/checkpoints/model_best.pth\n"
     ]
    },
    {
     "name": "stderr",
     "output_type": "stream",
     "text": [
      "\r",
      " 43%|████▎     | 6/14 [1:07:32<1:11:09, 533.63s/it]"
     ]
    },
    {
     "name": "stdout",
     "output_type": "stream",
     "text": [
      "New score:  -0.5\n",
      "/mnt/agarcia_HDD/mafat-radar-challenge-experiment/MAFAT_replica_aug_eff_b2_pruned_more_aux_more_synth_specaug_simple_aug_v9_adam_centered2/1005-033519/checkpoints/model_best.pth\n",
      "Base score:  -0.9765596132528637\n",
      "Start epoch:  15\n",
      "Finished\n",
      "Start epoch:  16\n",
      "Finished\n",
      "/mnt/agarcia_HDD/mafat-radar-challenge-experiment/MAFAT_replica_aug_eff_b2_pruned_more_aux_more_synth_specaug_simple_aug_v9_adam_centered2/1005-033519/checkpoints/model_best.pth\n",
      "New score:  -0.9681303116147308\n",
      "Start epoch:  15\n",
      "Finished\n",
      "Start epoch:  16\n",
      "Finished\n",
      "Start epoch:  17\n",
      "Finished\n",
      "/mnt/agarcia_HDD/mafat-radar-challenge-experiment/MAFAT_replica_aug_eff_b2_pruned_more_aux_more_synth_specaug_simple_aug_v9_adam_centered2/1005-033519/checkpoints/model_best.pth\n"
     ]
    },
    {
     "name": "stderr",
     "output_type": "stream",
     "text": [
      "\r",
      " 50%|█████     | 7/14 [1:11:29<51:51, 444.55s/it]  "
     ]
    },
    {
     "name": "stdout",
     "output_type": "stream",
     "text": [
      "New score:  -0.9691710801822884\n",
      "/mnt/agarcia_HDD/mafat-radar-challenge-experiment/MAFAT_replica_aug_eff_b2_pruned_more_aux_more_synth_specaug_simple_aug_v9_adam_centered3/1005-045546/checkpoints/model_best.pth\n",
      "Base score:  -0.9850130018613926\n",
      "Start epoch:  15\n",
      "Finished\n",
      "Start epoch:  16\n",
      "Finished\n",
      "/mnt/agarcia_HDD/mafat-radar-challenge-experiment/MAFAT_replica_aug_eff_b2_pruned_more_aux_more_synth_specaug_simple_aug_v9_adam_centered3/1005-045546/checkpoints/model_best.pth\n",
      "New score:  -0.9795020252229139\n",
      "Start epoch:  15\n",
      "Finished\n",
      "Start epoch:  16\n",
      "Finished\n",
      "Start epoch:  17\n",
      "Finished\n",
      "/mnt/agarcia_HDD/mafat-radar-challenge-experiment/MAFAT_replica_aug_eff_b2_pruned_more_aux_more_synth_specaug_simple_aug_v9_adam_centered3/1005-045546/checkpoints/model_best.pth\n"
     ]
    },
    {
     "name": "stderr",
     "output_type": "stream",
     "text": [
      "\r",
      " 57%|█████▋    | 8/14 [1:15:27<38:15, 382.67s/it]"
     ]
    },
    {
     "name": "stdout",
     "output_type": "stream",
     "text": [
      "New score:  -0.9851245459805773\n",
      "Improved score\n",
      "/mnt/agarcia_HDD/mafat-radar-challenge-experiment/MAFAT_replica_aug_eff_b2_pruned_more_aux_more_synth_specaug_simple_aug_v9_adam_centered3/1005-045546/checkpoints/checkpoint-epoch15-17.pth -0.9851245459805773\n",
      "/mnt/agarcia_HDD/mafat-radar-challenge-experiment/MAFAT_replica_aug_eff_b2_pruned_more_aux_more_synth_specaug_simple_aug_v9_adam_centered4/1005-061620/checkpoints/model_best.pth\n",
      "Base score:  -0.9906309361757762\n",
      "Start epoch:  11\n",
      "Finished\n",
      "Start epoch:  12\n",
      "Finished\n",
      "/mnt/agarcia_HDD/mafat-radar-challenge-experiment/MAFAT_replica_aug_eff_b2_pruned_more_aux_more_synth_specaug_simple_aug_v9_adam_centered4/1005-061620/checkpoints/model_best.pth\n",
      "New score:  -0.9861107906697736\n",
      "Start epoch:  11\n",
      "Finished\n",
      "Start epoch:  12\n",
      "Finished\n",
      "Start epoch:  13\n",
      "Finished\n",
      "/mnt/agarcia_HDD/mafat-radar-challenge-experiment/MAFAT_replica_aug_eff_b2_pruned_more_aux_more_synth_specaug_simple_aug_v9_adam_centered4/1005-061620/checkpoints/model_best.pth\n"
     ]
    },
    {
     "name": "stderr",
     "output_type": "stream",
     "text": [
      "\r",
      " 64%|██████▍   | 9/14 [1:19:35<28:31, 342.29s/it]"
     ]
    },
    {
     "name": "stdout",
     "output_type": "stream",
     "text": [
      "New score:  -0.9858050896338508\n",
      "/mnt/agarcia_HDD/mafat-radar-challenge-experiment/MAFAT_replica_aug_eff_b5_more_aux_more_synth_specaug_simple_aug_v9_adam_centered_fold0/1005-184411/checkpoints/model_best.pth\n",
      "Loaded pretrained weights for efficientnet-b5\n",
      "Base score:  -0.9705169016219494\n",
      "Loaded pretrained weights for efficientnet-b5\n",
      "Start epoch:  12\n",
      "Finished\n",
      "Start epoch:  13\n",
      "Finished\n",
      "/mnt/agarcia_HDD/mafat-radar-challenge-experiment/MAFAT_replica_aug_eff_b5_more_aux_more_synth_specaug_simple_aug_v9_adam_centered_fold0/1005-184411/checkpoints/model_best.pth\n",
      "Loaded pretrained weights for efficientnet-b5\n",
      "New score:  -0.9707706401460479\n",
      "Improved score\n",
      "Loaded pretrained weights for efficientnet-b5\n",
      "Start epoch:  12\n",
      "Finished\n",
      "Start epoch:  13\n",
      "Finished\n",
      "Start epoch:  14\n",
      "Finished\n",
      "/mnt/agarcia_HDD/mafat-radar-challenge-experiment/MAFAT_replica_aug_eff_b5_more_aux_more_synth_specaug_simple_aug_v9_adam_centered_fold0/1005-184411/checkpoints/model_best.pth\n",
      "Loaded pretrained weights for efficientnet-b5\n",
      "New score:  -0.9713654427902011\n",
      "Improved score\n",
      "/mnt/agarcia_HDD/mafat-radar-challenge-experiment/MAFAT_replica_aug_eff_b5_more_aux_more_synth_specaug_simple_aug_v9_adam_centered_fold0/1005-184411/checkpoints/checkpoint-epoch12-14.pth -0.9713654427902011\n"
     ]
    },
    {
     "name": "stderr",
     "output_type": "stream",
     "text": [
      "\r",
      " 71%|███████▏  | 10/14 [1:51:13<53:55, 808.77s/it]"
     ]
    },
    {
     "name": "stdout",
     "output_type": "stream",
     "text": [
      "/mnt/agarcia_HDD/mafat-radar-challenge-experiment/MAFAT_replica_aug_eff_b5_more_aux_more_synth_specaug_simple_aug_v9_adam_centered_fold1/1006-082322/checkpoints/model_best.pth\n",
      "Loaded pretrained weights for efficientnet-b5\n",
      "Base score:  -0.9843055771322045\n",
      "Loaded pretrained weights for efficientnet-b5\n",
      "Start epoch:  12\n",
      "Finished\n",
      "Start epoch:  13\n",
      "Finished\n",
      "/mnt/agarcia_HDD/mafat-radar-challenge-experiment/MAFAT_replica_aug_eff_b5_more_aux_more_synth_specaug_simple_aug_v9_adam_centered_fold1/1006-082322/checkpoints/model_best.pth\n",
      "Loaded pretrained weights for efficientnet-b5\n",
      "New score:  -0.9752407954015847\n",
      "Loaded pretrained weights for efficientnet-b5\n",
      "Start epoch:  12\n",
      "Finished\n",
      "Start epoch:  13\n",
      "Finished\n",
      "Start epoch:  14\n",
      "Finished\n",
      "/mnt/agarcia_HDD/mafat-radar-challenge-experiment/MAFAT_replica_aug_eff_b5_more_aux_more_synth_specaug_simple_aug_v9_adam_centered_fold1/1006-082322/checkpoints/model_best.pth\n",
      "Loaded pretrained weights for efficientnet-b5\n"
     ]
    },
    {
     "name": "stderr",
     "output_type": "stream",
     "text": [
      "\r",
      " 79%|███████▊  | 11/14 [2:21:56<55:57, 1119.30s/it]"
     ]
    },
    {
     "name": "stdout",
     "output_type": "stream",
     "text": [
      "New score:  -0.9813966133291906\n",
      "/mnt/agarcia_HDD/mafat-radar-challenge-experiment/MAFAT_replica_aug_eff_b5_more_aux_more_synth_specaug_simple_aug_v9_adam_centered_fold2/1006-220329/checkpoints/model_best.pth\n",
      "Loaded pretrained weights for efficientnet-b5\n",
      "Base score:  -0.977454119965513\n",
      "Loaded pretrained weights for efficientnet-b5\n",
      "Start epoch:  12\n",
      "Finished\n",
      "Start epoch:  13\n",
      "Finished\n",
      "/mnt/agarcia_HDD/mafat-radar-challenge-experiment/MAFAT_replica_aug_eff_b5_more_aux_more_synth_specaug_simple_aug_v9_adam_centered_fold2/1006-220329/checkpoints/model_best.pth\n",
      "Loaded pretrained weights for efficientnet-b5\n",
      "New score:  -0.9712988052715852\n",
      "Loaded pretrained weights for efficientnet-b5\n",
      "Start epoch:  12\n",
      "Finished\n",
      "Start epoch:  13\n",
      "Finished\n",
      "Start epoch:  14\n",
      "Finished\n",
      "/mnt/agarcia_HDD/mafat-radar-challenge-experiment/MAFAT_replica_aug_eff_b5_more_aux_more_synth_specaug_simple_aug_v9_adam_centered_fold2/1006-220329/checkpoints/model_best.pth\n",
      "Loaded pretrained weights for efficientnet-b5\n"
     ]
    },
    {
     "name": "stderr",
     "output_type": "stream",
     "text": [
      "\r",
      " 86%|████████▌ | 12/14 [2:52:09<44:14, 1327.29s/it]"
     ]
    },
    {
     "name": "stdout",
     "output_type": "stream",
     "text": [
      "New score:  -0.9730416307427023\n",
      "/mnt/agarcia_HDD/mafat-radar-challenge-experiment/MAFAT_replica_aug_eff_b5_more_aux_more_synth_specaug_simple_aug_v9_adam_centered_fold3/1007-114115/checkpoints/model_best.pth\n",
      "Loaded pretrained weights for efficientnet-b5\n",
      "Base score:  -0.9846278260748321\n",
      "Loaded pretrained weights for efficientnet-b5\n",
      "Start epoch:  12\n",
      "Finished\n",
      "Start epoch:  13\n",
      "Finished\n",
      "/mnt/agarcia_HDD/mafat-radar-challenge-experiment/MAFAT_replica_aug_eff_b5_more_aux_more_synth_specaug_simple_aug_v9_adam_centered_fold3/1007-114115/checkpoints/model_best.pth\n",
      "Loaded pretrained weights for efficientnet-b5\n",
      "New score:  -0.9851297746111641\n",
      "Improved score\n",
      "Loaded pretrained weights for efficientnet-b5\n",
      "Start epoch:  12\n",
      "Finished\n",
      "Start epoch:  13\n",
      "Finished\n",
      "Start epoch:  14\n",
      "Finished\n",
      "/mnt/agarcia_HDD/mafat-radar-challenge-experiment/MAFAT_replica_aug_eff_b5_more_aux_more_synth_specaug_simple_aug_v9_adam_centered_fold3/1007-114115/checkpoints/model_best.pth\n",
      "Loaded pretrained weights for efficientnet-b5\n",
      "New score:  -0.9835559568045398\n",
      "/mnt/agarcia_HDD/mafat-radar-challenge-experiment/MAFAT_replica_aug_eff_b5_more_aux_more_synth_specaug_simple_aug_v9_adam_centered_fold3/1007-114115/checkpoints/checkpoint-epoch12-13.pth -0.9851297746111641\n"
     ]
    },
    {
     "name": "stderr",
     "output_type": "stream",
     "text": [
      "\r",
      " 93%|█████████▎| 13/14 [3:22:22<24:33, 1473.05s/it]"
     ]
    },
    {
     "name": "stdout",
     "output_type": "stream",
     "text": [
      "/mnt/agarcia_HDD/mafat-radar-challenge-experiment/MAFAT_replica_aug_eff_b5_more_aux_more_synth_specaug_simple_aug_v9_adam_centered_fold4/1008-012514/checkpoints/model_best.pth\n",
      "Loaded pretrained weights for efficientnet-b5\n",
      "Base score:  -0.9928073737397041\n",
      "Loaded pretrained weights for efficientnet-b5\n",
      "Start epoch:  14\n",
      "Finished\n",
      "Start epoch:  15\n",
      "Finished\n",
      "/mnt/agarcia_HDD/mafat-radar-challenge-experiment/MAFAT_replica_aug_eff_b5_more_aux_more_synth_specaug_simple_aug_v9_adam_centered_fold4/1008-012514/checkpoints/model_best.pth\n",
      "Loaded pretrained weights for efficientnet-b5\n",
      "New score:  -0.9886390728222166\n",
      "Loaded pretrained weights for efficientnet-b5\n",
      "Start epoch:  14\n",
      "Finished\n",
      "Start epoch:  15\n",
      "Finished\n",
      "Start epoch:  16\n",
      "Finished\n",
      "/mnt/agarcia_HDD/mafat-radar-challenge-experiment/MAFAT_replica_aug_eff_b5_more_aux_more_synth_specaug_simple_aug_v9_adam_centered_fold4/1008-012514/checkpoints/model_best.pth\n",
      "Loaded pretrained weights for efficientnet-b5\n"
     ]
    },
    {
     "name": "stderr",
     "output_type": "stream",
     "text": [
      "100%|██████████| 14/14 [3:52:36<00:00, 996.87s/it] "
     ]
    },
    {
     "name": "stdout",
     "output_type": "stream",
     "text": [
      "New score:  -0.991503818378977\n"
     ]
    },
    {
     "name": "stderr",
     "output_type": "stream",
     "text": [
      "\n"
     ]
    }
   ],
   "source": [
    "# Take averaged model and see if it performs the same after the bn_update\n",
    "epoch_range = [2, 3]\n",
    "score_dict = {}\n",
    "for model in tqdm.tqdm(base_models):\n",
    "    # df = predict(model, data_path=\"/home/agarcia/repos/mafat-radar-challenge/mafat_radar_challenge/data/mafat_full_public_test_v7_spectrogram.npy\", metadata_path=\"/home/agarcia/repos/mafat-radar-challenge/mafat_radar_challenge/data/mafat_full_public_test_set.csv\")\n",
    "    df = predict(model)\n",
    "    best_score = auc_score(df.label, df.score)\n",
    "    print(\"Base score: \",  best_score)\n",
    "    best_checkpoint = {}\n",
    "    for epochs in epoch_range:\n",
    "        swa_model, ensemble_path = apply_swa(model, epochs, save=False)\n",
    "        # df = predict(model, checkpoint={\"state_dict\": swa_model.state_dict()}, data_path=\"/home/agarcia/repos/mafat-radar-challenge/mafat_radar_challenge/data/mafat_full_public_test_v7_spectrogram.npy\", metadata_path=\"/home/agarcia/repos/mafat-radar-challenge/mafat_radar_challenge/data/mafat_full_public_test_set.csv\")\n",
    "        df = predict(model, checkpoint={\"state_dict\": swa_model.state_dict()})\n",
    "        new_score = auc_score(df.label, df.score)\n",
    "        print(\"New score: \",  new_score)\n",
    "        if new_score < best_score:\n",
    "            print(\"Improved score\")\n",
    "            best_score = new_score\n",
    "            best_checkpoint = {\"state_dict\": swa_model.state_dict()}\n",
    "            best_ensemble_path = ensemble_path\n",
    "    if best_checkpoint:\n",
    "        print(best_ensemble_path, best_score)\n",
    "        score_dict[best_ensemble_path] = best_score\n",
    "        torch.save(best_checkpoint, ensemble_path)\n",
    "        torch.save(best_checkpoint, os.path.join(os.path.dirname(ensemble_path), \"model_best-swa.pth\"))"
   ]
  },
  {
   "cell_type": "code",
   "execution_count": 15,
   "metadata": {},
   "outputs": [
    {
     "data": {
      "text/plain": [
       "-0.8944808417708953"
      ]
     },
     "execution_count": 15,
     "metadata": {},
     "output_type": "execute_result"
    }
   ],
   "source": [
    "auc_score(df.label, df.score)"
   ]
  },
  {
   "cell_type": "code",
   "execution_count": 12,
   "metadata": {},
   "outputs": [
    {
     "data": {
      "text/plain": [
       "-0.9454536430414929"
      ]
     },
     "execution_count": 12,
     "metadata": {},
     "output_type": "execute_result"
    }
   ],
   "source": [
    "auc_score(df.label, df.score)"
   ]
  },
  {
   "cell_type": "markdown",
   "metadata": {},
   "source": [
    "- Models trained with full data"
   ]
  },
  {
   "cell_type": "code",
   "execution_count": 4,
   "metadata": {},
   "outputs": [],
   "source": [
    "base_models = [\n",
    "    \"/mnt/agarcia_HDD/mafat-radar-challenge-experiment/MAFAT_b2_all_data/1012-234226/checkpoints/model_best.pth\",\n",
    "    \"/mnt/agarcia_HDD/mafat-radar-challenge-experiment/MAFAT_b3_all_data/1013-022349/checkpoints/model_best.pth\",\n",
    "    \"/mnt/agarcia_HDD/mafat-radar-challenge-experiment/MAFAT_b4_all_data/1013-064711/checkpoints/model_best.pth\"\n",
    "]"
   ]
  },
  {
   "cell_type": "code",
   "execution_count": 5,
   "metadata": {},
   "outputs": [
    {
     "name": "stderr",
     "output_type": "stream",
     "text": [
      "\r",
      "  0%|          | 0/3 [00:00<?, ?it/s]"
     ]
    },
    {
     "name": "stdout",
     "output_type": "stream",
     "text": [
      "/mnt/agarcia_HDD/mafat-radar-challenge-experiment/MAFAT_b2_all_data/1012-234226/checkpoints/model_best.pth\n",
      "Loaded pretrained weights for efficientnet-b2\n",
      "Base score:  -0.9620806035338495\n",
      "Loaded pretrained weights for efficientnet-b2\n",
      "Start epoch:  5\n",
      "Finished\n",
      "Start epoch:  6\n",
      "Finished\n",
      "/mnt/agarcia_HDD/mafat-radar-challenge-experiment/MAFAT_b2_all_data/1012-234226/checkpoints/model_best.pth\n",
      "Loaded pretrained weights for efficientnet-b2\n",
      "New score:  -0.931159420289855\n",
      "Loaded pretrained weights for efficientnet-b2\n",
      "Start epoch:  5\n",
      "Finished\n",
      "Start epoch:  6\n",
      "Finished\n",
      "Start epoch:  7\n",
      "Finished\n",
      "/mnt/agarcia_HDD/mafat-radar-challenge-experiment/MAFAT_b2_all_data/1012-234226/checkpoints/model_best.pth\n",
      "Loaded pretrained weights for efficientnet-b2\n",
      "New score:  -0.9179571173317451\n",
      "Loaded pretrained weights for efficientnet-b2\n",
      "Start epoch:  5\n",
      "Finished\n",
      "Start epoch:  6\n",
      "Finished\n",
      "Start epoch:  7\n",
      "Finished\n",
      "Start epoch:  8\n",
      "Finished\n",
      "/mnt/agarcia_HDD/mafat-radar-challenge-experiment/MAFAT_b2_all_data/1012-234226/checkpoints/model_best.pth\n",
      "Loaded pretrained weights for efficientnet-b2\n"
     ]
    },
    {
     "name": "stderr",
     "output_type": "stream",
     "text": [
      "\r",
      " 33%|███▎      | 1/3 [06:39<13:18, 399.07s/it]"
     ]
    },
    {
     "name": "stdout",
     "output_type": "stream",
     "text": [
      "New score:  -0.9238137780424855\n",
      "/mnt/agarcia_HDD/mafat-radar-challenge-experiment/MAFAT_b3_all_data/1013-022349/checkpoints/model_best.pth\n",
      "Loaded pretrained weights for efficientnet-b3\n",
      "Base score:  -0.9240619416319239\n",
      "Loaded pretrained weights for efficientnet-b3\n",
      "Start epoch:  10\n",
      "Finished\n",
      "Start epoch:  11\n",
      "Finished\n",
      "/mnt/agarcia_HDD/mafat-radar-challenge-experiment/MAFAT_b3_all_data/1013-022349/checkpoints/model_best.pth\n",
      "Loaded pretrained weights for efficientnet-b3\n",
      "New score:  -0.9114552312884654\n",
      "Loaded pretrained weights for efficientnet-b3\n",
      "Start epoch:  10\n",
      "Finished\n",
      "Start epoch:  11\n",
      "Finished\n",
      "Start epoch:  12\n",
      "Finished\n",
      "/mnt/agarcia_HDD/mafat-radar-challenge-experiment/MAFAT_b3_all_data/1013-022349/checkpoints/model_best.pth\n",
      "Loaded pretrained weights for efficientnet-b3\n",
      "New score:  -0.9261465157832043\n",
      "Improved score\n",
      "Loaded pretrained weights for efficientnet-b3\n",
      "Start epoch:  10\n",
      "Finished\n",
      "Start epoch:  11\n",
      "Finished\n",
      "Start epoch:  12\n",
      "Finished\n",
      "Start epoch:  13\n",
      "Finished\n",
      "/mnt/agarcia_HDD/mafat-radar-challenge-experiment/MAFAT_b3_all_data/1013-022349/checkpoints/model_best.pth\n",
      "Loaded pretrained weights for efficientnet-b3\n"
     ]
    },
    {
     "name": "stderr",
     "output_type": "stream",
     "text": [
      "\r",
      " 67%|██████▋   | 2/3 [17:31<07:55, 475.10s/it]"
     ]
    },
    {
     "name": "stdout",
     "output_type": "stream",
     "text": [
      "New score:  -0.9119515584673417\n",
      "/mnt/agarcia_HDD/mafat-radar-challenge-experiment/MAFAT_b3_all_data/1013-022349/checkpoints/checkpoint-epoch10-12.pth -0.9261465157832043\n",
      "/mnt/agarcia_HDD/mafat-radar-challenge-experiment/MAFAT_b4_all_data/1013-064711/checkpoints/model_best.pth\n",
      "Loaded pretrained weights for efficientnet-b4\n",
      "Base score:  -0.9285288862418105\n",
      "Loaded pretrained weights for efficientnet-b4\n",
      "Start epoch:  10\n",
      "Finished\n",
      "Start epoch:  11\n",
      "Finished\n",
      "/mnt/agarcia_HDD/mafat-radar-challenge-experiment/MAFAT_b4_all_data/1013-064711/checkpoints/model_best.pth\n",
      "Loaded pretrained weights for efficientnet-b4\n",
      "New score:  -0.9446595195552908\n",
      "Improved score\n",
      "Loaded pretrained weights for efficientnet-b4\n",
      "Start epoch:  10\n",
      "Finished\n",
      "Start epoch:  11\n",
      "Finished\n",
      "Start epoch:  12\n",
      "Finished\n",
      "/mnt/agarcia_HDD/mafat-radar-challenge-experiment/MAFAT_b4_all_data/1013-064711/checkpoints/model_best.pth\n",
      "Loaded pretrained weights for efficientnet-b4\n",
      "New score:  -0.9375124081794719\n",
      "Loaded pretrained weights for efficientnet-b4\n",
      "Start epoch:  10\n",
      "Finished\n",
      "Start epoch:  11\n",
      "Finished\n",
      "Start epoch:  12\n",
      "Finished\n",
      "Start epoch:  13\n",
      "Finished\n",
      "/mnt/agarcia_HDD/mafat-radar-challenge-experiment/MAFAT_b4_all_data/1013-064711/checkpoints/model_best.pth\n",
      "Loaded pretrained weights for efficientnet-b4\n"
     ]
    },
    {
     "name": "stderr",
     "output_type": "stream",
     "text": [
      "100%|██████████| 3/3 [39:15<00:00, 785.10s/it]"
     ]
    },
    {
     "name": "stdout",
     "output_type": "stream",
     "text": [
      "New score:  -0.9184038117927338\n",
      "/mnt/agarcia_HDD/mafat-radar-challenge-experiment/MAFAT_b4_all_data/1013-064711/checkpoints/checkpoint-epoch10-11.pth -0.9446595195552908\n"
     ]
    },
    {
     "name": "stderr",
     "output_type": "stream",
     "text": [
      "\n"
     ]
    }
   ],
   "source": [
    "# Take averaged model and see if it performs the same after the bn_update\n",
    "epoch_range = [2, 3, 4]\n",
    "score_dict = {}\n",
    "for model in tqdm.tqdm(base_models):\n",
    "    # df = predict(model, data_path=\"/home/agarcia/repos/mafat-radar-challenge/mafat_radar_challenge/data/mafat_full_public_test_v7_spectrogram.npy\", metadata_path=\"/home/agarcia/repos/mafat-radar-challenge/mafat_radar_challenge/data/mafat_full_public_test_set.csv\")\n",
    "    df = predict(model)\n",
    "    best_score = auc_score(df.label, df.score)\n",
    "    print(\"Base score: \",  best_score)\n",
    "    best_checkpoint = {}\n",
    "    for epochs in epoch_range:\n",
    "        swa_model, ensemble_path = apply_swa(model, epochs, save=False)\n",
    "        # df = predict(model, checkpoint={\"state_dict\": swa_model.state_dict()}, data_path=\"/home/agarcia/repos/mafat-radar-challenge/mafat_radar_challenge/data/mafat_full_public_test_v7_spectrogram.npy\", metadata_path=\"/home/agarcia/repos/mafat-radar-challenge/mafat_radar_challenge/data/mafat_full_public_test_set.csv\")\n",
    "        df = predict(model, checkpoint={\"state_dict\": swa_model.state_dict()})\n",
    "        new_score = auc_score(df.label, df.score)\n",
    "        print(\"New score: \",  new_score)\n",
    "        if new_score < best_score:\n",
    "            print(\"Improved score\")\n",
    "            best_score = new_score\n",
    "            best_checkpoint = {\"state_dict\": swa_model.state_dict()}\n",
    "            best_ensemble_path = ensemble_path\n",
    "    if best_checkpoint:\n",
    "        print(best_ensemble_path, best_score)\n",
    "        score_dict[best_ensemble_path] = best_score\n",
    "        torch.save(best_checkpoint, ensemble_path)\n",
    "        torch.save(best_checkpoint, os.path.join(os.path.dirname(ensemble_path), \"model_best-swa.pth\"))"
   ]
  }
 ],
 "metadata": {
  "kernelspec": {
   "display_name": "Python 3",
   "language": "python",
   "name": "python3"
  },
  "language_info": {
   "codemirror_mode": {
    "name": "ipython",
    "version": 3
   },
   "file_extension": ".py",
   "mimetype": "text/x-python",
   "name": "python",
   "nbconvert_exporter": "python",
   "pygments_lexer": "ipython3",
   "version": "3.6.9"
  }
 },
 "nbformat": 4,
 "nbformat_minor": 4
}
